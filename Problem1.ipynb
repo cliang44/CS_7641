{
 "cells": [
  {
   "cell_type": "code",
   "execution_count": 1,
   "metadata": {},
   "outputs": [],
   "source": [
    "import csv\n",
    "import numpy as np\n",
    "import pandas as pd\n",
    "import matplotlib.pyplot as plt\n",
    "import sklearn.tree \n",
    "from scipy.stats import randint\n",
    "from sklearn.model_selection import cross_val_score\n",
    "from sklearn.model_selection import train_test_split\n",
    "from sklearn.model_selection import KFold\n",
    "from sklearn.model_selection import RandomizedSearchCV\n",
    "from sklearn.metrics import accuracy_score\n",
    "from sklearn.tree import DecisionTreeClassifier\n",
    "from sklearn.neural_network import MLPClassifier\n",
    "from sklearn.ensemble import AdaBoostClassifier\n",
    "from sklearn.neighbors import KNeighborsClassifier\n",
    "from sklearn import svm\n",
    "import graphviz"
   ]
  },
  {
   "cell_type": "code",
   "execution_count": 2,
   "metadata": {},
   "outputs": [],
   "source": [
    "data = pd.read_csv('thyroid_data.csv')"
   ]
  },
  {
   "cell_type": "code",
   "execution_count": 3,
   "metadata": {},
   "outputs": [
    {
     "name": "stdout",
     "output_type": "stream",
     "text": [
      "<class 'pandas.core.frame.DataFrame'>\n",
      "RangeIndex: 7200 entries, 0 to 7199\n",
      "Data columns (total 22 columns):\n",
      " #   Column                      Non-Null Count  Dtype  \n",
      "---  ------                      --------------  -----  \n",
      " 0   Age                         7200 non-null   float64\n",
      " 1    Sex                        7200 non-null   int64  \n",
      " 2    On_thyroxine               7200 non-null   int64  \n",
      " 3    Query_on_thyroxine         7200 non-null   int64  \n",
      " 4    On_antithyroid_medication  7200 non-null   int64  \n",
      " 5    Sick                       7200 non-null   int64  \n",
      " 6    Pregnant                   7200 non-null   int64  \n",
      " 7    Thyroid_surgery            7200 non-null   int64  \n",
      " 8    I131_treatment             7200 non-null   int64  \n",
      " 9    Query_hypothyroid          7200 non-null   int64  \n",
      " 10   Query_hyperthyroid         7200 non-null   int64  \n",
      " 11   Lithium                    7200 non-null   int64  \n",
      " 12   Goitre                     7200 non-null   int64  \n",
      " 13   Tumor                      7200 non-null   int64  \n",
      " 14   Hypopituitary              7200 non-null   int64  \n",
      " 15   Psych                      7200 non-null   int64  \n",
      " 16   TSH                        7200 non-null   float64\n",
      " 17   T3                         7200 non-null   float64\n",
      " 18   TT4                        7200 non-null   float64\n",
      " 19   T4U                        7200 non-null   float64\n",
      " 20   FTI                        7200 non-null   float64\n",
      " 21  Class                       7200 non-null   int64  \n",
      "dtypes: float64(6), int64(16)\n",
      "memory usage: 1.2 MB\n"
     ]
    }
   ],
   "source": [
    "data.info()"
   ]
  },
  {
   "cell_type": "code",
   "execution_count": 4,
   "metadata": {},
   "outputs": [],
   "source": [
    "#The task is to detect is a given patient is normal (1) or suffers from hyperthyroidism (2) or hypothyroidism (3)\n",
    "X = data[data.columns.difference(['Class'])]\n",
    "y = data.Class"
   ]
  },
  {
   "cell_type": "code",
   "execution_count": 5,
   "metadata": {},
   "outputs": [],
   "source": [
    "X_train, X_test, y_train, y_test = train_test_split(X, y, random_state=0, test_size=0.2)\n",
    "features = list(X_train.columns.values)\n",
    "classes = [\n",
    "             'normal',\n",
    "             'hyperthyroidism',\n",
    "             'hypothyroidism'\n",
    "            ]"
   ]
  },
  {
   "cell_type": "markdown",
   "metadata": {},
   "source": [
    "## Decision trees"
   ]
  },
  {
   "cell_type": "code",
   "execution_count": 17,
   "metadata": {},
   "outputs": [
    {
     "name": "stdout",
     "output_type": "stream",
     "text": [
      "{'max_depth': 3, 'min_samples_leaf': 2, 'min_samples_split': 3}\n"
     ]
    }
   ],
   "source": [
    "## Tuning hyperparameter\n",
    "clf = DecisionTreeClassifier()\n",
    "param_dist = {\"max_depth\": randint(2,4),\n",
    "              \"min_samples_leaf\": randint(1, 5),\n",
    "              \"min_samples_split\": randint(2, 6)}\n",
    "\n",
    "kfold = KFold(n_splits = 5, random_state = None)\n",
    "random_search = RandomizedSearchCV(clf, param_distributions=param_dist,scoring = 'accuracy',\n",
    "                                   n_iter=25, cv=kfold)\n",
    "random_search.fit(X, y)\n",
    "print(random_search.best_params_)"
   ]
  },
  {
   "cell_type": "code",
   "execution_count": 19,
   "metadata": {},
   "outputs": [
    {
     "data": {
      "image/png": "[encoded data removed]",
      "text/plain": [
       "<Figure size 432x288 with 1 Axes>"
      ]
     },
     "metadata": {
      "needs_background": "light"
     },
     "output_type": "display_data"
    }
   ],
   "source": [
    "list1=[]\n",
    "list2=[]\n",
    "for i in range(1,95):\n",
    "    clf = DecisionTreeClassifier(max_depth=3, min_samples_leaf = 2, min_samples_split= 3)\n",
    "    X_train, X_test, y_train, y_test = train_test_split(X, y, random_state=0, test_size=1-i/100)\n",
    "    clf = clf.fit(X_train, y_train)\n",
    "    train_predict = clf.predict(X_train)\n",
    "    test_predict = clf.predict(X_test)\n",
    "    list1.append(accuracy_score(y_train, train_predict))\n",
    "    list2.append(accuracy_score(y_test, test_predict))\n",
    "plt.plot(range(len(list1)),list1,label=\"Training\")\n",
    "plt.plot(range(len(list2)),list2,label=\"Testing\")\n",
    "plt.xlabel(\"Training set %\")\n",
    "plt.ylabel(\"Accuracy\")\n",
    "plt.legend(loc=\"best\")\n",
    "plt.show()"
   ]
  },
  {
   "cell_type": "code",
   "execution_count": 8,
   "metadata": {},
   "outputs": [],
   "source": [
    "with open(\"dt.dot\", \"w\") as f:\n",
    "    f = tree.export_graphviz(clf,feature_names = features,  class_names=classes, filled = True, out_file=f)"
   ]
  },
  {
   "cell_type": "code",
   "execution_count": 12,
   "metadata": {},
   "outputs": [
    {
     "data": {
      "image/png": "[encoded data removed]",
      "text/plain": [
       "<Figure size 432x288 with 1 Axes>"
      ]
     },
     "metadata": {
      "needs_background": "light"
     },
     "output_type": "display_data"
    }
   ],
   "source": [
    "importances = clf.feature_importances_\n",
    "indices = np.argsort(importances)\n",
    "plt.title('Feature Importances')\n",
    "plt.barh(range(len(indices)), importances[indices], color='b', align='center')\n",
    "plt.yticks(range(len(indices)), [features[i] for i in indices])\n",
    "plt.xlabel('Relative Importance')\n",
    "plt.show()"
   ]
  },
  {
   "cell_type": "markdown",
   "metadata": {},
   "source": [
    "## Neural networks"
   ]
  },
  {
   "cell_type": "code",
   "execution_count": 23,
   "metadata": {},
   "outputs": [
    {
     "name": "stdout",
     "output_type": "stream",
     "text": [
      "Fitting 5 folds for each of 25 candidates, totalling 125 fits\n",
      "[CV] solver=adam, learning_rate=constant, hidden_layer_sizes=(5, 2), alpha=0.05, activation=logistic \n"
     ]
    },
    {
     "name": "stderr",
     "output_type": "stream",
     "text": [
      "[Parallel(n_jobs=1)]: Using backend SequentialBackend with 1 concurrent workers.\n"
     ]
    },
    {
     "name": "stdout",
     "output_type": "stream",
     "text": [
      "[CV]  solver=adam, learning_rate=constant, hidden_layer_sizes=(5, 2), alpha=0.05, activation=logistic, score=0.935, total=   0.7s\n",
      "[CV] solver=adam, learning_rate=constant, hidden_layer_sizes=(5, 2), alpha=0.05, activation=logistic \n"
     ]
    },
    {
     "name": "stderr",
     "output_type": "stream",
     "text": [
      "[Parallel(n_jobs=1)]: Done   1 out of   1 | elapsed:    0.7s remaining:    0.0s\n"
     ]
    },
    {
     "name": "stdout",
     "output_type": "stream",
     "text": [
      "[CV]  solver=adam, learning_rate=constant, hidden_layer_sizes=(5, 2), alpha=0.05, activation=logistic, score=0.922, total=   0.6s\n",
      "[CV] solver=adam, learning_rate=constant, hidden_layer_sizes=(5, 2), alpha=0.05, activation=logistic \n"
     ]
    },
    {
     "name": "stderr",
     "output_type": "stream",
     "text": [
      "[Parallel(n_jobs=1)]: Done   2 out of   2 | elapsed:    1.3s remaining:    0.0s\n"
     ]
    },
    {
     "name": "stdout",
     "output_type": "stream",
     "text": [
      "[CV]  solver=adam, learning_rate=constant, hidden_layer_sizes=(5, 2), alpha=0.05, activation=logistic, score=0.924, total=   1.1s\n",
      "[CV] solver=adam, learning_rate=constant, hidden_layer_sizes=(5, 2), alpha=0.05, activation=logistic \n"
     ]
    },
    {
     "name": "stderr",
     "output_type": "stream",
     "text": [
      "[Parallel(n_jobs=1)]: Done   3 out of   3 | elapsed:    2.5s remaining:    0.0s\n"
     ]
    },
    {
     "name": "stdout",
     "output_type": "stream",
     "text": [
      "[CV]  solver=adam, learning_rate=constant, hidden_layer_sizes=(5, 2), alpha=0.05, activation=logistic, score=0.917, total=   0.7s\n",
      "[CV] solver=adam, learning_rate=constant, hidden_layer_sizes=(5, 2), alpha=0.05, activation=logistic \n"
     ]
    },
    {
     "name": "stderr",
     "output_type": "stream",
     "text": [
      "[Parallel(n_jobs=1)]: Done   4 out of   4 | elapsed:    3.2s remaining:    0.0s\n"
     ]
    },
    {
     "name": "stdout",
     "output_type": "stream",
     "text": [
      "[CV]  solver=adam, learning_rate=constant, hidden_layer_sizes=(5, 2), alpha=0.05, activation=logistic, score=0.931, total=   0.8s\n",
      "[CV] solver=adam, learning_rate=constant, hidden_layer_sizes=(15, 10, 5), alpha=0.0001, activation=relu \n"
     ]
    },
    {
     "name": "stderr",
     "output_type": "stream",
     "text": [
      "[Parallel(n_jobs=1)]: Done   5 out of   5 | elapsed:    4.0s remaining:    0.0s\n",
      "/Users/chenliang/opt/anaconda3/lib/python3.8/site-packages/sklearn/neural_network/_multilayer_perceptron.py:582: ConvergenceWarning: Stochastic Optimizer: Maximum iterations (200) reached and the optimization hasn't converged yet.\n",
      "  warnings.warn(\n",
      "[Parallel(n_jobs=1)]: Done   6 out of   6 | elapsed:    7.3s remaining:    0.0s\n"
     ]
    },
    {
     "name": "stdout",
     "output_type": "stream",
     "text": [
      "[CV]  solver=adam, learning_rate=constant, hidden_layer_sizes=(15, 10, 5), alpha=0.0001, activation=relu, score=0.974, total=   3.3s\n",
      "[CV] solver=adam, learning_rate=constant, hidden_layer_sizes=(15, 10, 5), alpha=0.0001, activation=relu \n"
     ]
    },
    {
     "name": "stderr",
     "output_type": "stream",
     "text": [
      "/Users/chenliang/opt/anaconda3/lib/python3.8/site-packages/sklearn/neural_network/_multilayer_perceptron.py:582: ConvergenceWarning: Stochastic Optimizer: Maximum iterations (200) reached and the optimization hasn't converged yet.\n",
      "  warnings.warn(\n",
      "[Parallel(n_jobs=1)]: Done   7 out of   7 | elapsed:   10.6s remaining:    0.0s\n"
     ]
    },
    {
     "name": "stdout",
     "output_type": "stream",
     "text": [
      "[CV]  solver=adam, learning_rate=constant, hidden_layer_sizes=(15, 10, 5), alpha=0.0001, activation=relu, score=0.972, total=   3.3s\n",
      "[CV] solver=adam, learning_rate=constant, hidden_layer_sizes=(15, 10, 5), alpha=0.0001, activation=relu \n"
     ]
    },
    {
     "name": "stderr",
     "output_type": "stream",
     "text": [
      "/Users/chenliang/opt/anaconda3/lib/python3.8/site-packages/sklearn/neural_network/_multilayer_perceptron.py:582: ConvergenceWarning: Stochastic Optimizer: Maximum iterations (200) reached and the optimization hasn't converged yet.\n",
      "  warnings.warn(\n",
      "[Parallel(n_jobs=1)]: Done   8 out of   8 | elapsed:   13.8s remaining:    0.0s\n"
     ]
    },
    {
     "name": "stdout",
     "output_type": "stream",
     "text": [
      "[CV]  solver=adam, learning_rate=constant, hidden_layer_sizes=(15, 10, 5), alpha=0.0001, activation=relu, score=0.976, total=   3.2s\n",
      "[CV] solver=adam, learning_rate=constant, hidden_layer_sizes=(15, 10, 5), alpha=0.0001, activation=relu \n"
     ]
    },
    {
     "name": "stderr",
     "output_type": "stream",
     "text": [
      "/Users/chenliang/opt/anaconda3/lib/python3.8/site-packages/sklearn/neural_network/_multilayer_perceptron.py:582: ConvergenceWarning: Stochastic Optimizer: Maximum iterations (200) reached and the optimization hasn't converged yet.\n",
      "  warnings.warn(\n",
      "[Parallel(n_jobs=1)]: Done   9 out of   9 | elapsed:   17.2s remaining:    0.0s\n"
     ]
    },
    {
     "name": "stdout",
     "output_type": "stream",
     "text": [
      "[CV]  solver=adam, learning_rate=constant, hidden_layer_sizes=(15, 10, 5), alpha=0.0001, activation=relu, score=0.973, total=   3.4s\n",
      "[CV] solver=adam, learning_rate=constant, hidden_layer_sizes=(15, 10, 5), alpha=0.0001, activation=relu \n"
     ]
    },
    {
     "name": "stderr",
     "output_type": "stream",
     "text": [
      "/Users/chenliang/opt/anaconda3/lib/python3.8/site-packages/sklearn/neural_network/_multilayer_perceptron.py:582: ConvergenceWarning: Stochastic Optimizer: Maximum iterations (200) reached and the optimization hasn't converged yet.\n",
      "  warnings.warn(\n"
     ]
    },
    {
     "name": "stdout",
     "output_type": "stream",
     "text": [
      "[CV]  solver=adam, learning_rate=constant, hidden_layer_sizes=(15, 10, 5), alpha=0.0001, activation=relu, score=0.969, total=   3.4s\n",
      "[CV] solver=lbfgs, learning_rate=constant, hidden_layer_sizes=(10, 5, 3), alpha=0.0001, activation=identity \n",
      "[CV]  solver=lbfgs, learning_rate=constant, hidden_layer_sizes=(10, 5, 3), alpha=0.0001, activation=identity, score=0.964, total=   0.3s\n",
      "[CV] solver=lbfgs, learning_rate=constant, hidden_layer_sizes=(10, 5, 3), alpha=0.0001, activation=identity \n",
      "[CV]  solver=lbfgs, learning_rate=constant, hidden_layer_sizes=(10, 5, 3), alpha=0.0001, activation=identity, score=0.957, total=   0.3s\n",
      "[CV] solver=lbfgs, learning_rate=constant, hidden_layer_sizes=(10, 5, 3), alpha=0.0001, activation=identity \n",
      "[CV]  solver=lbfgs, learning_rate=constant, hidden_layer_sizes=(10, 5, 3), alpha=0.0001, activation=identity, score=0.953, total=   0.3s\n",
      "[CV] solver=lbfgs, learning_rate=constant, hidden_layer_sizes=(10, 5, 3), alpha=0.0001, activation=identity \n"
     ]
    },
    {
     "name": "stderr",
     "output_type": "stream",
     "text": [
      "/Users/chenliang/opt/anaconda3/lib/python3.8/site-packages/sklearn/neural_network/_multilayer_perceptron.py:471: ConvergenceWarning: lbfgs failed to converge (status=2):\n",
      "ABNORMAL_TERMINATION_IN_LNSRCH.\n",
      "\n",
      "Increase the number of iterations (max_iter) or scale the data as shown in:\n",
      "    https://scikit-learn.org/stable/modules/preprocessing.html\n",
      "  self.n_iter_ = _check_optimize_result(\"lbfgs\", opt_res, self.max_iter)\n"
     ]
    },
    {
     "name": "stdout",
     "output_type": "stream",
     "text": [
      "[CV]  solver=lbfgs, learning_rate=constant, hidden_layer_sizes=(10, 5, 3), alpha=0.0001, activation=identity, score=0.940, total=   0.3s\n",
      "[CV] solver=lbfgs, learning_rate=constant, hidden_layer_sizes=(10, 5, 3), alpha=0.0001, activation=identity \n"
     ]
    },
    {
     "name": "stderr",
     "output_type": "stream",
     "text": [
      "/Users/chenliang/opt/anaconda3/lib/python3.8/site-packages/sklearn/neural_network/_multilayer_perceptron.py:471: ConvergenceWarning: lbfgs failed to converge (status=1):\n",
      "STOP: TOTAL NO. of ITERATIONS REACHED LIMIT.\n",
      "\n",
      "Increase the number of iterations (max_iter) or scale the data as shown in:\n",
      "    https://scikit-learn.org/stable/modules/preprocessing.html\n",
      "  self.n_iter_ = _check_optimize_result(\"lbfgs\", opt_res, self.max_iter)\n"
     ]
    },
    {
     "name": "stdout",
     "output_type": "stream",
     "text": [
      "[CV]  solver=lbfgs, learning_rate=constant, hidden_layer_sizes=(10, 5, 3), alpha=0.0001, activation=identity, score=0.954, total=   0.4s\n",
      "[CV] solver=adam, learning_rate=adaptive, hidden_layer_sizes=(10, 5, 3), alpha=0.05, activation=tanh \n"
     ]
    },
    {
     "name": "stderr",
     "output_type": "stream",
     "text": [
      "/Users/chenliang/opt/anaconda3/lib/python3.8/site-packages/sklearn/neural_network/_multilayer_perceptron.py:582: ConvergenceWarning: Stochastic Optimizer: Maximum iterations (200) reached and the optimization hasn't converged yet.\n",
      "  warnings.warn(\n"
     ]
    },
    {
     "name": "stdout",
     "output_type": "stream",
     "text": [
      "[CV]  solver=adam, learning_rate=adaptive, hidden_layer_sizes=(10, 5, 3), alpha=0.05, activation=tanh, score=0.985, total=   2.7s\n",
      "[CV] solver=adam, learning_rate=adaptive, hidden_layer_sizes=(10, 5, 3), alpha=0.05, activation=tanh \n"
     ]
    },
    {
     "name": "stderr",
     "output_type": "stream",
     "text": [
      "/Users/chenliang/opt/anaconda3/lib/python3.8/site-packages/sklearn/neural_network/_multilayer_perceptron.py:582: ConvergenceWarning: Stochastic Optimizer: Maximum iterations (200) reached and the optimization hasn't converged yet.\n",
      "  warnings.warn(\n"
     ]
    },
    {
     "name": "stdout",
     "output_type": "stream",
     "text": [
      "[CV]  solver=adam, learning_rate=adaptive, hidden_layer_sizes=(10, 5, 3), alpha=0.05, activation=tanh, score=0.977, total=   2.7s\n",
      "[CV] solver=adam, learning_rate=adaptive, hidden_layer_sizes=(10, 5, 3), alpha=0.05, activation=tanh \n"
     ]
    },
    {
     "name": "stderr",
     "output_type": "stream",
     "text": [
      "/Users/chenliang/opt/anaconda3/lib/python3.8/site-packages/sklearn/neural_network/_multilayer_perceptron.py:582: ConvergenceWarning: Stochastic Optimizer: Maximum iterations (200) reached and the optimization hasn't converged yet.\n",
      "  warnings.warn(\n"
     ]
    },
    {
     "name": "stdout",
     "output_type": "stream",
     "text": [
      "[CV]  solver=adam, learning_rate=adaptive, hidden_layer_sizes=(10, 5, 3), alpha=0.05, activation=tanh, score=0.973, total=   2.8s\n",
      "[CV] solver=adam, learning_rate=adaptive, hidden_layer_sizes=(10, 5, 3), alpha=0.05, activation=tanh \n"
     ]
    },
    {
     "name": "stderr",
     "output_type": "stream",
     "text": [
      "/Users/chenliang/opt/anaconda3/lib/python3.8/site-packages/sklearn/neural_network/_multilayer_perceptron.py:582: ConvergenceWarning: Stochastic Optimizer: Maximum iterations (200) reached and the optimization hasn't converged yet.\n",
      "  warnings.warn(\n"
     ]
    },
    {
     "name": "stdout",
     "output_type": "stream",
     "text": [
      "[CV]  solver=adam, learning_rate=adaptive, hidden_layer_sizes=(10, 5, 3), alpha=0.05, activation=tanh, score=0.972, total=   2.7s\n",
      "[CV] solver=adam, learning_rate=adaptive, hidden_layer_sizes=(10, 5, 3), alpha=0.05, activation=tanh \n"
     ]
    },
    {
     "name": "stderr",
     "output_type": "stream",
     "text": [
      "/Users/chenliang/opt/anaconda3/lib/python3.8/site-packages/sklearn/neural_network/_multilayer_perceptron.py:582: ConvergenceWarning: Stochastic Optimizer: Maximum iterations (200) reached and the optimization hasn't converged yet.\n",
      "  warnings.warn(\n"
     ]
    },
    {
     "name": "stdout",
     "output_type": "stream",
     "text": [
      "[CV]  solver=adam, learning_rate=adaptive, hidden_layer_sizes=(10, 5, 3), alpha=0.05, activation=tanh, score=0.964, total=   2.8s\n",
      "[CV] solver=sgd, learning_rate=constant, hidden_layer_sizes=(5, 2), alpha=0.05, activation=relu \n",
      "[CV]  solver=sgd, learning_rate=constant, hidden_layer_sizes=(5, 2), alpha=0.05, activation=relu, score=0.935, total=   1.8s\n",
      "[CV] solver=sgd, learning_rate=constant, hidden_layer_sizes=(5, 2), alpha=0.05, activation=relu \n",
      "[CV]  solver=sgd, learning_rate=constant, hidden_layer_sizes=(5, 2), alpha=0.05, activation=relu, score=0.922, total=   0.4s\n",
      "[CV] solver=sgd, learning_rate=constant, hidden_layer_sizes=(5, 2), alpha=0.05, activation=relu \n",
      "[CV]  solver=sgd, learning_rate=constant, hidden_layer_sizes=(5, 2), alpha=0.05, activation=relu, score=0.924, total=   0.4s\n",
      "[CV] solver=sgd, learning_rate=constant, hidden_layer_sizes=(5, 2), alpha=0.05, activation=relu \n",
      "[CV]  solver=sgd, learning_rate=constant, hidden_layer_sizes=(5, 2), alpha=0.05, activation=relu, score=0.917, total=   0.7s\n",
      "[CV] solver=sgd, learning_rate=constant, hidden_layer_sizes=(5, 2), alpha=0.05, activation=relu \n",
      "[CV]  solver=sgd, learning_rate=constant, hidden_layer_sizes=(5, 2), alpha=0.05, activation=relu, score=0.931, total=   0.7s\n",
      "[CV] solver=lbfgs, learning_rate=constant, hidden_layer_sizes=(10, 5, 3), alpha=0.05, activation=tanh \n"
     ]
    },
    {
     "name": "stderr",
     "output_type": "stream",
     "text": [
      "/Users/chenliang/opt/anaconda3/lib/python3.8/site-packages/sklearn/neural_network/_multilayer_perceptron.py:471: ConvergenceWarning: lbfgs failed to converge (status=1):\n",
      "STOP: TOTAL NO. of ITERATIONS REACHED LIMIT.\n",
      "\n",
      "Increase the number of iterations (max_iter) or scale the data as shown in:\n",
      "    https://scikit-learn.org/stable/modules/preprocessing.html\n",
      "  self.n_iter_ = _check_optimize_result(\"lbfgs\", opt_res, self.max_iter)\n"
     ]
    },
    {
     "name": "stdout",
     "output_type": "stream",
     "text": [
      "[CV]  solver=lbfgs, learning_rate=constant, hidden_layer_sizes=(10, 5, 3), alpha=0.05, activation=tanh, score=0.974, total=   0.7s\n",
      "[CV] solver=lbfgs, learning_rate=constant, hidden_layer_sizes=(10, 5, 3), alpha=0.05, activation=tanh \n"
     ]
    },
    {
     "name": "stderr",
     "output_type": "stream",
     "text": [
      "/Users/chenliang/opt/anaconda3/lib/python3.8/site-packages/sklearn/neural_network/_multilayer_perceptron.py:471: ConvergenceWarning: lbfgs failed to converge (status=1):\n",
      "STOP: TOTAL NO. of ITERATIONS REACHED LIMIT.\n",
      "\n",
      "Increase the number of iterations (max_iter) or scale the data as shown in:\n",
      "    https://scikit-learn.org/stable/modules/preprocessing.html\n",
      "  self.n_iter_ = _check_optimize_result(\"lbfgs\", opt_res, self.max_iter)\n"
     ]
    },
    {
     "name": "stdout",
     "output_type": "stream",
     "text": [
      "[CV]  solver=lbfgs, learning_rate=constant, hidden_layer_sizes=(10, 5, 3), alpha=0.05, activation=tanh, score=0.976, total=   0.7s\n",
      "[CV] solver=lbfgs, learning_rate=constant, hidden_layer_sizes=(10, 5, 3), alpha=0.05, activation=tanh \n"
     ]
    },
    {
     "name": "stderr",
     "output_type": "stream",
     "text": [
      "/Users/chenliang/opt/anaconda3/lib/python3.8/site-packages/sklearn/neural_network/_multilayer_perceptron.py:471: ConvergenceWarning: lbfgs failed to converge (status=1):\n",
      "STOP: TOTAL NO. of ITERATIONS REACHED LIMIT.\n",
      "\n",
      "Increase the number of iterations (max_iter) or scale the data as shown in:\n",
      "    https://scikit-learn.org/stable/modules/preprocessing.html\n",
      "  self.n_iter_ = _check_optimize_result(\"lbfgs\", opt_res, self.max_iter)\n"
     ]
    },
    {
     "name": "stdout",
     "output_type": "stream",
     "text": [
      "[CV]  solver=lbfgs, learning_rate=constant, hidden_layer_sizes=(10, 5, 3), alpha=0.05, activation=tanh, score=0.978, total=   0.7s\n",
      "[CV] solver=lbfgs, learning_rate=constant, hidden_layer_sizes=(10, 5, 3), alpha=0.05, activation=tanh \n"
     ]
    },
    {
     "name": "stderr",
     "output_type": "stream",
     "text": [
      "/Users/chenliang/opt/anaconda3/lib/python3.8/site-packages/sklearn/neural_network/_multilayer_perceptron.py:471: ConvergenceWarning: lbfgs failed to converge (status=1):\n",
      "STOP: TOTAL NO. of ITERATIONS REACHED LIMIT.\n",
      "\n",
      "Increase the number of iterations (max_iter) or scale the data as shown in:\n",
      "    https://scikit-learn.org/stable/modules/preprocessing.html\n",
      "  self.n_iter_ = _check_optimize_result(\"lbfgs\", opt_res, self.max_iter)\n"
     ]
    },
    {
     "name": "stdout",
     "output_type": "stream",
     "text": [
      "[CV]  solver=lbfgs, learning_rate=constant, hidden_layer_sizes=(10, 5, 3), alpha=0.05, activation=tanh, score=0.967, total=   0.7s\n",
      "[CV] solver=lbfgs, learning_rate=constant, hidden_layer_sizes=(10, 5, 3), alpha=0.05, activation=tanh \n"
     ]
    },
    {
     "name": "stderr",
     "output_type": "stream",
     "text": [
      "/Users/chenliang/opt/anaconda3/lib/python3.8/site-packages/sklearn/neural_network/_multilayer_perceptron.py:471: ConvergenceWarning: lbfgs failed to converge (status=1):\n",
      "STOP: TOTAL NO. of ITERATIONS REACHED LIMIT.\n",
      "\n",
      "Increase the number of iterations (max_iter) or scale the data as shown in:\n",
      "    https://scikit-learn.org/stable/modules/preprocessing.html\n",
      "  self.n_iter_ = _check_optimize_result(\"lbfgs\", opt_res, self.max_iter)\n"
     ]
    },
    {
     "name": "stdout",
     "output_type": "stream",
     "text": [
      "[CV]  solver=lbfgs, learning_rate=constant, hidden_layer_sizes=(10, 5, 3), alpha=0.05, activation=tanh, score=0.969, total=   0.7s\n",
      "[CV] solver=adam, learning_rate=constant, hidden_layer_sizes=(4,), alpha=0.0001, activation=tanh \n"
     ]
    },
    {
     "name": "stderr",
     "output_type": "stream",
     "text": [
      "/Users/chenliang/opt/anaconda3/lib/python3.8/site-packages/sklearn/neural_network/_multilayer_perceptron.py:582: ConvergenceWarning: Stochastic Optimizer: Maximum iterations (200) reached and the optimization hasn't converged yet.\n",
      "  warnings.warn(\n"
     ]
    },
    {
     "name": "stdout",
     "output_type": "stream",
     "text": [
      "[CV]  solver=adam, learning_rate=constant, hidden_layer_sizes=(4,), alpha=0.0001, activation=tanh, score=0.950, total=   1.7s\n",
      "[CV] solver=adam, learning_rate=constant, hidden_layer_sizes=(4,), alpha=0.0001, activation=tanh \n"
     ]
    },
    {
     "name": "stderr",
     "output_type": "stream",
     "text": [
      "/Users/chenliang/opt/anaconda3/lib/python3.8/site-packages/sklearn/neural_network/_multilayer_perceptron.py:582: ConvergenceWarning: Stochastic Optimizer: Maximum iterations (200) reached and the optimization hasn't converged yet.\n",
      "  warnings.warn(\n"
     ]
    },
    {
     "name": "stdout",
     "output_type": "stream",
     "text": [
      "[CV]  solver=adam, learning_rate=constant, hidden_layer_sizes=(4,), alpha=0.0001, activation=tanh, score=0.944, total=   1.7s\n",
      "[CV] solver=adam, learning_rate=constant, hidden_layer_sizes=(4,), alpha=0.0001, activation=tanh \n"
     ]
    },
    {
     "name": "stderr",
     "output_type": "stream",
     "text": [
      "/Users/chenliang/opt/anaconda3/lib/python3.8/site-packages/sklearn/neural_network/_multilayer_perceptron.py:582: ConvergenceWarning: Stochastic Optimizer: Maximum iterations (200) reached and the optimization hasn't converged yet.\n",
      "  warnings.warn(\n"
     ]
    },
    {
     "name": "stdout",
     "output_type": "stream",
     "text": [
      "[CV]  solver=adam, learning_rate=constant, hidden_layer_sizes=(4,), alpha=0.0001, activation=tanh, score=0.944, total=   1.7s\n",
      "[CV] solver=adam, learning_rate=constant, hidden_layer_sizes=(4,), alpha=0.0001, activation=tanh \n"
     ]
    },
    {
     "name": "stderr",
     "output_type": "stream",
     "text": [
      "/Users/chenliang/opt/anaconda3/lib/python3.8/site-packages/sklearn/neural_network/_multilayer_perceptron.py:582: ConvergenceWarning: Stochastic Optimizer: Maximum iterations (200) reached and the optimization hasn't converged yet.\n",
      "  warnings.warn(\n"
     ]
    },
    {
     "name": "stdout",
     "output_type": "stream",
     "text": [
      "[CV]  solver=adam, learning_rate=constant, hidden_layer_sizes=(4,), alpha=0.0001, activation=tanh, score=0.927, total=   1.7s\n",
      "[CV] solver=adam, learning_rate=constant, hidden_layer_sizes=(4,), alpha=0.0001, activation=tanh \n"
     ]
    },
    {
     "name": "stderr",
     "output_type": "stream",
     "text": [
      "/Users/chenliang/opt/anaconda3/lib/python3.8/site-packages/sklearn/neural_network/_multilayer_perceptron.py:582: ConvergenceWarning: Stochastic Optimizer: Maximum iterations (200) reached and the optimization hasn't converged yet.\n",
      "  warnings.warn(\n"
     ]
    },
    {
     "name": "stdout",
     "output_type": "stream",
     "text": [
      "[CV]  solver=adam, learning_rate=constant, hidden_layer_sizes=(4,), alpha=0.0001, activation=tanh, score=0.938, total=   1.7s\n",
      "[CV] solver=adam, learning_rate=adaptive, hidden_layer_sizes=(15, 10, 5), alpha=0.0001, activation=logistic \n",
      "[CV]  solver=adam, learning_rate=adaptive, hidden_layer_sizes=(15, 10, 5), alpha=0.0001, activation=logistic, score=0.935, total=   0.5s\n",
      "[CV] solver=adam, learning_rate=adaptive, hidden_layer_sizes=(15, 10, 5), alpha=0.0001, activation=logistic \n",
      "[CV]  solver=adam, learning_rate=adaptive, hidden_layer_sizes=(15, 10, 5), alpha=0.0001, activation=logistic, score=0.922, total=   0.6s\n",
      "[CV] solver=adam, learning_rate=adaptive, hidden_layer_sizes=(15, 10, 5), alpha=0.0001, activation=logistic \n",
      "[CV]  solver=adam, learning_rate=adaptive, hidden_layer_sizes=(15, 10, 5), alpha=0.0001, activation=logistic, score=0.924, total=   0.8s\n",
      "[CV] solver=adam, learning_rate=adaptive, hidden_layer_sizes=(15, 10, 5), alpha=0.0001, activation=logistic \n",
      "[CV]  solver=adam, learning_rate=adaptive, hidden_layer_sizes=(15, 10, 5), alpha=0.0001, activation=logistic, score=0.917, total=   0.6s\n",
      "[CV] solver=adam, learning_rate=adaptive, hidden_layer_sizes=(15, 10, 5), alpha=0.0001, activation=logistic \n",
      "[CV]  solver=adam, learning_rate=adaptive, hidden_layer_sizes=(15, 10, 5), alpha=0.0001, activation=logistic, score=0.931, total=   0.6s\n",
      "[CV] solver=lbfgs, learning_rate=constant, hidden_layer_sizes=(4,), alpha=0.0001, activation=relu \n"
     ]
    },
    {
     "name": "stderr",
     "output_type": "stream",
     "text": [
      "/Users/chenliang/opt/anaconda3/lib/python3.8/site-packages/sklearn/neural_network/_multilayer_perceptron.py:471: ConvergenceWarning: lbfgs failed to converge (status=1):\n",
      "STOP: TOTAL NO. of ITERATIONS REACHED LIMIT.\n",
      "\n",
      "Increase the number of iterations (max_iter) or scale the data as shown in:\n",
      "    https://scikit-learn.org/stable/modules/preprocessing.html\n",
      "  self.n_iter_ = _check_optimize_result(\"lbfgs\", opt_res, self.max_iter)\n"
     ]
    },
    {
     "name": "stdout",
     "output_type": "stream",
     "text": [
      "[CV]  solver=lbfgs, learning_rate=constant, hidden_layer_sizes=(4,), alpha=0.0001, activation=relu, score=0.972, total=   0.3s\n",
      "[CV] solver=lbfgs, learning_rate=constant, hidden_layer_sizes=(4,), alpha=0.0001, activation=relu \n"
     ]
    },
    {
     "name": "stderr",
     "output_type": "stream",
     "text": [
      "/Users/chenliang/opt/anaconda3/lib/python3.8/site-packages/sklearn/neural_network/_multilayer_perceptron.py:471: ConvergenceWarning: lbfgs failed to converge (status=1):\n",
      "STOP: TOTAL NO. of ITERATIONS REACHED LIMIT.\n",
      "\n",
      "Increase the number of iterations (max_iter) or scale the data as shown in:\n",
      "    https://scikit-learn.org/stable/modules/preprocessing.html\n",
      "  self.n_iter_ = _check_optimize_result(\"lbfgs\", opt_res, self.max_iter)\n"
     ]
    },
    {
     "name": "stdout",
     "output_type": "stream",
     "text": [
      "[CV]  solver=lbfgs, learning_rate=constant, hidden_layer_sizes=(4,), alpha=0.0001, activation=relu, score=0.962, total=   0.3s\n",
      "[CV] solver=lbfgs, learning_rate=constant, hidden_layer_sizes=(4,), alpha=0.0001, activation=relu \n"
     ]
    },
    {
     "name": "stderr",
     "output_type": "stream",
     "text": [
      "/Users/chenliang/opt/anaconda3/lib/python3.8/site-packages/sklearn/neural_network/_multilayer_perceptron.py:471: ConvergenceWarning: lbfgs failed to converge (status=1):\n",
      "STOP: TOTAL NO. of ITERATIONS REACHED LIMIT.\n",
      "\n",
      "Increase the number of iterations (max_iter) or scale the data as shown in:\n",
      "    https://scikit-learn.org/stable/modules/preprocessing.html\n",
      "  self.n_iter_ = _check_optimize_result(\"lbfgs\", opt_res, self.max_iter)\n"
     ]
    },
    {
     "name": "stdout",
     "output_type": "stream",
     "text": [
      "[CV]  solver=lbfgs, learning_rate=constant, hidden_layer_sizes=(4,), alpha=0.0001, activation=relu, score=0.957, total=   0.3s\n",
      "[CV] solver=lbfgs, learning_rate=constant, hidden_layer_sizes=(4,), alpha=0.0001, activation=relu \n"
     ]
    },
    {
     "name": "stderr",
     "output_type": "stream",
     "text": [
      "/Users/chenliang/opt/anaconda3/lib/python3.8/site-packages/sklearn/neural_network/_multilayer_perceptron.py:471: ConvergenceWarning: lbfgs failed to converge (status=1):\n",
      "STOP: TOTAL NO. of ITERATIONS REACHED LIMIT.\n",
      "\n",
      "Increase the number of iterations (max_iter) or scale the data as shown in:\n",
      "    https://scikit-learn.org/stable/modules/preprocessing.html\n",
      "  self.n_iter_ = _check_optimize_result(\"lbfgs\", opt_res, self.max_iter)\n"
     ]
    },
    {
     "name": "stdout",
     "output_type": "stream",
     "text": [
      "[CV]  solver=lbfgs, learning_rate=constant, hidden_layer_sizes=(4,), alpha=0.0001, activation=relu, score=0.963, total=   0.3s\n",
      "[CV] solver=lbfgs, learning_rate=constant, hidden_layer_sizes=(4,), alpha=0.0001, activation=relu \n"
     ]
    },
    {
     "name": "stderr",
     "output_type": "stream",
     "text": [
      "/Users/chenliang/opt/anaconda3/lib/python3.8/site-packages/sklearn/neural_network/_multilayer_perceptron.py:471: ConvergenceWarning: lbfgs failed to converge (status=1):\n",
      "STOP: TOTAL NO. of ITERATIONS REACHED LIMIT.\n",
      "\n",
      "Increase the number of iterations (max_iter) or scale the data as shown in:\n",
      "    https://scikit-learn.org/stable/modules/preprocessing.html\n",
      "  self.n_iter_ = _check_optimize_result(\"lbfgs\", opt_res, self.max_iter)\n"
     ]
    },
    {
     "name": "stdout",
     "output_type": "stream",
     "text": [
      "[CV]  solver=lbfgs, learning_rate=constant, hidden_layer_sizes=(4,), alpha=0.0001, activation=relu, score=0.976, total=   0.3s\n",
      "[CV] solver=sgd, learning_rate=constant, hidden_layer_sizes=(10, 5, 3), alpha=0.0001, activation=relu \n",
      "[CV]  solver=sgd, learning_rate=constant, hidden_layer_sizes=(10, 5, 3), alpha=0.0001, activation=relu, score=0.935, total=   1.1s\n",
      "[CV] solver=sgd, learning_rate=constant, hidden_layer_sizes=(10, 5, 3), alpha=0.0001, activation=relu \n",
      "[CV]  solver=sgd, learning_rate=constant, hidden_layer_sizes=(10, 5, 3), alpha=0.0001, activation=relu, score=0.922, total=   0.9s\n",
      "[CV] solver=sgd, learning_rate=constant, hidden_layer_sizes=(10, 5, 3), alpha=0.0001, activation=relu \n",
      "[CV]  solver=sgd, learning_rate=constant, hidden_layer_sizes=(10, 5, 3), alpha=0.0001, activation=relu, score=0.924, total=   1.0s\n",
      "[CV] solver=sgd, learning_rate=constant, hidden_layer_sizes=(10, 5, 3), alpha=0.0001, activation=relu \n",
      "[CV]  solver=sgd, learning_rate=constant, hidden_layer_sizes=(10, 5, 3), alpha=0.0001, activation=relu, score=0.917, total=   0.8s\n",
      "[CV] solver=sgd, learning_rate=constant, hidden_layer_sizes=(10, 5, 3), alpha=0.0001, activation=relu \n",
      "[CV]  solver=sgd, learning_rate=constant, hidden_layer_sizes=(10, 5, 3), alpha=0.0001, activation=relu, score=0.931, total=   1.0s\n",
      "[CV] solver=sgd, learning_rate=adaptive, hidden_layer_sizes=(15, 10, 5), alpha=0.05, activation=identity \n"
     ]
    },
    {
     "name": "stderr",
     "output_type": "stream",
     "text": [
      "/Users/chenliang/opt/anaconda3/lib/python3.8/site-packages/sklearn/neural_network/_multilayer_perceptron.py:582: ConvergenceWarning: Stochastic Optimizer: Maximum iterations (200) reached and the optimization hasn't converged yet.\n",
      "  warnings.warn(\n"
     ]
    },
    {
     "name": "stdout",
     "output_type": "stream",
     "text": [
      "[CV]  solver=sgd, learning_rate=adaptive, hidden_layer_sizes=(15, 10, 5), alpha=0.05, activation=identity, score=0.935, total=   2.2s\n",
      "[CV] solver=sgd, learning_rate=adaptive, hidden_layer_sizes=(15, 10, 5), alpha=0.05, activation=identity \n"
     ]
    },
    {
     "name": "stderr",
     "output_type": "stream",
     "text": [
      "/Users/chenliang/opt/anaconda3/lib/python3.8/site-packages/sklearn/neural_network/_multilayer_perceptron.py:582: ConvergenceWarning: Stochastic Optimizer: Maximum iterations (200) reached and the optimization hasn't converged yet.\n",
      "  warnings.warn(\n"
     ]
    },
    {
     "name": "stdout",
     "output_type": "stream",
     "text": [
      "[CV]  solver=sgd, learning_rate=adaptive, hidden_layer_sizes=(15, 10, 5), alpha=0.05, activation=identity, score=0.922, total=   2.2s\n",
      "[CV] solver=sgd, learning_rate=adaptive, hidden_layer_sizes=(15, 10, 5), alpha=0.05, activation=identity \n"
     ]
    },
    {
     "name": "stderr",
     "output_type": "stream",
     "text": [
      "/Users/chenliang/opt/anaconda3/lib/python3.8/site-packages/sklearn/neural_network/_multilayer_perceptron.py:582: ConvergenceWarning: Stochastic Optimizer: Maximum iterations (200) reached and the optimization hasn't converged yet.\n",
      "  warnings.warn(\n"
     ]
    },
    {
     "name": "stdout",
     "output_type": "stream",
     "text": [
      "[CV]  solver=sgd, learning_rate=adaptive, hidden_layer_sizes=(15, 10, 5), alpha=0.05, activation=identity, score=0.924, total=   2.2s\n",
      "[CV] solver=sgd, learning_rate=adaptive, hidden_layer_sizes=(15, 10, 5), alpha=0.05, activation=identity \n"
     ]
    },
    {
     "name": "stderr",
     "output_type": "stream",
     "text": [
      "/Users/chenliang/opt/anaconda3/lib/python3.8/site-packages/sklearn/neural_network/_multilayer_perceptron.py:582: ConvergenceWarning: Stochastic Optimizer: Maximum iterations (200) reached and the optimization hasn't converged yet.\n",
      "  warnings.warn(\n"
     ]
    },
    {
     "name": "stdout",
     "output_type": "stream",
     "text": [
      "[CV]  solver=sgd, learning_rate=adaptive, hidden_layer_sizes=(15, 10, 5), alpha=0.05, activation=identity, score=0.917, total=   2.2s\n",
      "[CV] solver=sgd, learning_rate=adaptive, hidden_layer_sizes=(15, 10, 5), alpha=0.05, activation=identity \n"
     ]
    },
    {
     "name": "stderr",
     "output_type": "stream",
     "text": [
      "/Users/chenliang/opt/anaconda3/lib/python3.8/site-packages/sklearn/neural_network/_multilayer_perceptron.py:582: ConvergenceWarning: Stochastic Optimizer: Maximum iterations (200) reached and the optimization hasn't converged yet.\n",
      "  warnings.warn(\n"
     ]
    },
    {
     "name": "stdout",
     "output_type": "stream",
     "text": [
      "[CV]  solver=sgd, learning_rate=adaptive, hidden_layer_sizes=(15, 10, 5), alpha=0.05, activation=identity, score=0.931, total=   2.2s\n",
      "[CV] solver=sgd, learning_rate=constant, hidden_layer_sizes=(15, 10, 5), alpha=0.05, activation=relu \n"
     ]
    },
    {
     "name": "stderr",
     "output_type": "stream",
     "text": [
      "/Users/chenliang/opt/anaconda3/lib/python3.8/site-packages/sklearn/neural_network/_multilayer_perceptron.py:582: ConvergenceWarning: Stochastic Optimizer: Maximum iterations (200) reached and the optimization hasn't converged yet.\n",
      "  warnings.warn(\n"
     ]
    },
    {
     "name": "stdout",
     "output_type": "stream",
     "text": [
      "[CV]  solver=sgd, learning_rate=constant, hidden_layer_sizes=(15, 10, 5), alpha=0.05, activation=relu, score=0.935, total=   2.9s\n",
      "[CV] solver=sgd, learning_rate=constant, hidden_layer_sizes=(15, 10, 5), alpha=0.05, activation=relu \n",
      "[CV]  solver=sgd, learning_rate=constant, hidden_layer_sizes=(15, 10, 5), alpha=0.05, activation=relu, score=0.922, total=   1.3s\n",
      "[CV] solver=sgd, learning_rate=constant, hidden_layer_sizes=(15, 10, 5), alpha=0.05, activation=relu \n"
     ]
    },
    {
     "name": "stderr",
     "output_type": "stream",
     "text": [
      "/Users/chenliang/opt/anaconda3/lib/python3.8/site-packages/sklearn/neural_network/_multilayer_perceptron.py:582: ConvergenceWarning: Stochastic Optimizer: Maximum iterations (200) reached and the optimization hasn't converged yet.\n",
      "  warnings.warn(\n"
     ]
    },
    {
     "name": "stdout",
     "output_type": "stream",
     "text": [
      "[CV]  solver=sgd, learning_rate=constant, hidden_layer_sizes=(15, 10, 5), alpha=0.05, activation=relu, score=0.924, total=   2.9s\n",
      "[CV] solver=sgd, learning_rate=constant, hidden_layer_sizes=(15, 10, 5), alpha=0.05, activation=relu \n",
      "[CV]  solver=sgd, learning_rate=constant, hidden_layer_sizes=(15, 10, 5), alpha=0.05, activation=relu, score=0.917, total=   0.9s\n",
      "[CV] solver=sgd, learning_rate=constant, hidden_layer_sizes=(15, 10, 5), alpha=0.05, activation=relu \n",
      "[CV]  solver=sgd, learning_rate=constant, hidden_layer_sizes=(15, 10, 5), alpha=0.05, activation=relu, score=0.931, total=   0.7s\n",
      "[CV] solver=sgd, learning_rate=adaptive, hidden_layer_sizes=(10, 5, 3), alpha=0.0001, activation=relu \n",
      "[CV]  solver=sgd, learning_rate=adaptive, hidden_layer_sizes=(10, 5, 3), alpha=0.0001, activation=relu, score=0.935, total=   1.7s\n",
      "[CV] solver=sgd, learning_rate=adaptive, hidden_layer_sizes=(10, 5, 3), alpha=0.0001, activation=relu \n"
     ]
    },
    {
     "name": "stderr",
     "output_type": "stream",
     "text": [
      "/Users/chenliang/opt/anaconda3/lib/python3.8/site-packages/sklearn/neural_network/_multilayer_perceptron.py:582: ConvergenceWarning: Stochastic Optimizer: Maximum iterations (200) reached and the optimization hasn't converged yet.\n",
      "  warnings.warn(\n"
     ]
    },
    {
     "name": "stdout",
     "output_type": "stream",
     "text": [
      "[CV]  solver=sgd, learning_rate=adaptive, hidden_layer_sizes=(10, 5, 3), alpha=0.0001, activation=relu, score=0.922, total=   2.7s\n",
      "[CV] solver=sgd, learning_rate=adaptive, hidden_layer_sizes=(10, 5, 3), alpha=0.0001, activation=relu \n",
      "[CV]  solver=sgd, learning_rate=adaptive, hidden_layer_sizes=(10, 5, 3), alpha=0.0001, activation=relu, score=0.924, total=   1.2s\n",
      "[CV] solver=sgd, learning_rate=adaptive, hidden_layer_sizes=(10, 5, 3), alpha=0.0001, activation=relu \n",
      "[CV]  solver=sgd, learning_rate=adaptive, hidden_layer_sizes=(10, 5, 3), alpha=0.0001, activation=relu, score=0.917, total=   1.8s\n",
      "[CV] solver=sgd, learning_rate=adaptive, hidden_layer_sizes=(10, 5, 3), alpha=0.0001, activation=relu \n",
      "[CV]  solver=sgd, learning_rate=adaptive, hidden_layer_sizes=(10, 5, 3), alpha=0.0001, activation=relu, score=0.931, total=   1.6s\n",
      "[CV] solver=lbfgs, learning_rate=constant, hidden_layer_sizes=(15, 10, 5), alpha=0.05, activation=tanh \n"
     ]
    },
    {
     "name": "stderr",
     "output_type": "stream",
     "text": [
      "/Users/chenliang/opt/anaconda3/lib/python3.8/site-packages/sklearn/neural_network/_multilayer_perceptron.py:471: ConvergenceWarning: lbfgs failed to converge (status=1):\n",
      "STOP: TOTAL NO. of ITERATIONS REACHED LIMIT.\n",
      "\n",
      "Increase the number of iterations (max_iter) or scale the data as shown in:\n",
      "    https://scikit-learn.org/stable/modules/preprocessing.html\n",
      "  self.n_iter_ = _check_optimize_result(\"lbfgs\", opt_res, self.max_iter)\n"
     ]
    },
    {
     "name": "stdout",
     "output_type": "stream",
     "text": [
      "[CV]  solver=lbfgs, learning_rate=constant, hidden_layer_sizes=(15, 10, 5), alpha=0.05, activation=tanh, score=0.983, total=   0.9s\n",
      "[CV] solver=lbfgs, learning_rate=constant, hidden_layer_sizes=(15, 10, 5), alpha=0.05, activation=tanh \n"
     ]
    },
    {
     "name": "stderr",
     "output_type": "stream",
     "text": [
      "/Users/chenliang/opt/anaconda3/lib/python3.8/site-packages/sklearn/neural_network/_multilayer_perceptron.py:471: ConvergenceWarning: lbfgs failed to converge (status=1):\n",
      "STOP: TOTAL NO. of ITERATIONS REACHED LIMIT.\n",
      "\n",
      "Increase the number of iterations (max_iter) or scale the data as shown in:\n",
      "    https://scikit-learn.org/stable/modules/preprocessing.html\n",
      "  self.n_iter_ = _check_optimize_result(\"lbfgs\", opt_res, self.max_iter)\n"
     ]
    },
    {
     "name": "stdout",
     "output_type": "stream",
     "text": [
      "[CV]  solver=lbfgs, learning_rate=constant, hidden_layer_sizes=(15, 10, 5), alpha=0.05, activation=tanh, score=0.977, total=   0.9s\n",
      "[CV] solver=lbfgs, learning_rate=constant, hidden_layer_sizes=(15, 10, 5), alpha=0.05, activation=tanh \n"
     ]
    },
    {
     "name": "stderr",
     "output_type": "stream",
     "text": [
      "/Users/chenliang/opt/anaconda3/lib/python3.8/site-packages/sklearn/neural_network/_multilayer_perceptron.py:471: ConvergenceWarning: lbfgs failed to converge (status=1):\n",
      "STOP: TOTAL NO. of ITERATIONS REACHED LIMIT.\n",
      "\n",
      "Increase the number of iterations (max_iter) or scale the data as shown in:\n",
      "    https://scikit-learn.org/stable/modules/preprocessing.html\n",
      "  self.n_iter_ = _check_optimize_result(\"lbfgs\", opt_res, self.max_iter)\n"
     ]
    },
    {
     "name": "stdout",
     "output_type": "stream",
     "text": [
      "[CV]  solver=lbfgs, learning_rate=constant, hidden_layer_sizes=(15, 10, 5), alpha=0.05, activation=tanh, score=0.982, total=   0.9s\n",
      "[CV] solver=lbfgs, learning_rate=constant, hidden_layer_sizes=(15, 10, 5), alpha=0.05, activation=tanh \n"
     ]
    },
    {
     "name": "stderr",
     "output_type": "stream",
     "text": [
      "/Users/chenliang/opt/anaconda3/lib/python3.8/site-packages/sklearn/neural_network/_multilayer_perceptron.py:471: ConvergenceWarning: lbfgs failed to converge (status=1):\n",
      "STOP: TOTAL NO. of ITERATIONS REACHED LIMIT.\n",
      "\n",
      "Increase the number of iterations (max_iter) or scale the data as shown in:\n",
      "    https://scikit-learn.org/stable/modules/preprocessing.html\n",
      "  self.n_iter_ = _check_optimize_result(\"lbfgs\", opt_res, self.max_iter)\n"
     ]
    },
    {
     "name": "stdout",
     "output_type": "stream",
     "text": [
      "[CV]  solver=lbfgs, learning_rate=constant, hidden_layer_sizes=(15, 10, 5), alpha=0.05, activation=tanh, score=0.969, total=   0.9s\n",
      "[CV] solver=lbfgs, learning_rate=constant, hidden_layer_sizes=(15, 10, 5), alpha=0.05, activation=tanh \n"
     ]
    },
    {
     "name": "stderr",
     "output_type": "stream",
     "text": [
      "/Users/chenliang/opt/anaconda3/lib/python3.8/site-packages/sklearn/neural_network/_multilayer_perceptron.py:471: ConvergenceWarning: lbfgs failed to converge (status=1):\n",
      "STOP: TOTAL NO. of ITERATIONS REACHED LIMIT.\n",
      "\n",
      "Increase the number of iterations (max_iter) or scale the data as shown in:\n",
      "    https://scikit-learn.org/stable/modules/preprocessing.html\n",
      "  self.n_iter_ = _check_optimize_result(\"lbfgs\", opt_res, self.max_iter)\n"
     ]
    },
    {
     "name": "stdout",
     "output_type": "stream",
     "text": [
      "[CV]  solver=lbfgs, learning_rate=constant, hidden_layer_sizes=(15, 10, 5), alpha=0.05, activation=tanh, score=0.969, total=   0.9s\n",
      "[CV] solver=lbfgs, learning_rate=adaptive, hidden_layer_sizes=(4,), alpha=0.0001, activation=relu \n"
     ]
    },
    {
     "name": "stderr",
     "output_type": "stream",
     "text": [
      "/Users/chenliang/opt/anaconda3/lib/python3.8/site-packages/sklearn/neural_network/_multilayer_perceptron.py:471: ConvergenceWarning: lbfgs failed to converge (status=1):\n",
      "STOP: TOTAL NO. of ITERATIONS REACHED LIMIT.\n",
      "\n",
      "Increase the number of iterations (max_iter) or scale the data as shown in:\n",
      "    https://scikit-learn.org/stable/modules/preprocessing.html\n",
      "  self.n_iter_ = _check_optimize_result(\"lbfgs\", opt_res, self.max_iter)\n"
     ]
    },
    {
     "name": "stdout",
     "output_type": "stream",
     "text": [
      "[CV]  solver=lbfgs, learning_rate=adaptive, hidden_layer_sizes=(4,), alpha=0.0001, activation=relu, score=0.978, total=   0.3s\n",
      "[CV] solver=lbfgs, learning_rate=adaptive, hidden_layer_sizes=(4,), alpha=0.0001, activation=relu \n"
     ]
    },
    {
     "name": "stderr",
     "output_type": "stream",
     "text": [
      "/Users/chenliang/opt/anaconda3/lib/python3.8/site-packages/sklearn/neural_network/_multilayer_perceptron.py:471: ConvergenceWarning: lbfgs failed to converge (status=1):\n",
      "STOP: TOTAL NO. of ITERATIONS REACHED LIMIT.\n",
      "\n",
      "Increase the number of iterations (max_iter) or scale the data as shown in:\n",
      "    https://scikit-learn.org/stable/modules/preprocessing.html\n",
      "  self.n_iter_ = _check_optimize_result(\"lbfgs\", opt_res, self.max_iter)\n"
     ]
    },
    {
     "name": "stdout",
     "output_type": "stream",
     "text": [
      "[CV]  solver=lbfgs, learning_rate=adaptive, hidden_layer_sizes=(4,), alpha=0.0001, activation=relu, score=0.977, total=   0.3s\n",
      "[CV] solver=lbfgs, learning_rate=adaptive, hidden_layer_sizes=(4,), alpha=0.0001, activation=relu \n"
     ]
    },
    {
     "name": "stderr",
     "output_type": "stream",
     "text": [
      "/Users/chenliang/opt/anaconda3/lib/python3.8/site-packages/sklearn/neural_network/_multilayer_perceptron.py:471: ConvergenceWarning: lbfgs failed to converge (status=1):\n",
      "STOP: TOTAL NO. of ITERATIONS REACHED LIMIT.\n",
      "\n",
      "Increase the number of iterations (max_iter) or scale the data as shown in:\n",
      "    https://scikit-learn.org/stable/modules/preprocessing.html\n",
      "  self.n_iter_ = _check_optimize_result(\"lbfgs\", opt_res, self.max_iter)\n"
     ]
    },
    {
     "name": "stdout",
     "output_type": "stream",
     "text": [
      "[CV]  solver=lbfgs, learning_rate=adaptive, hidden_layer_sizes=(4,), alpha=0.0001, activation=relu, score=0.974, total=   0.3s\n",
      "[CV] solver=lbfgs, learning_rate=adaptive, hidden_layer_sizes=(4,), alpha=0.0001, activation=relu \n",
      "[CV]  solver=lbfgs, learning_rate=adaptive, hidden_layer_sizes=(4,), alpha=0.0001, activation=relu, score=0.955, total=   0.2s\n",
      "[CV] solver=lbfgs, learning_rate=adaptive, hidden_layer_sizes=(4,), alpha=0.0001, activation=relu \n"
     ]
    },
    {
     "name": "stderr",
     "output_type": "stream",
     "text": [
      "/Users/chenliang/opt/anaconda3/lib/python3.8/site-packages/sklearn/neural_network/_multilayer_perceptron.py:471: ConvergenceWarning: lbfgs failed to converge (status=1):\n",
      "STOP: TOTAL NO. of ITERATIONS REACHED LIMIT.\n",
      "\n",
      "Increase the number of iterations (max_iter) or scale the data as shown in:\n",
      "    https://scikit-learn.org/stable/modules/preprocessing.html\n",
      "  self.n_iter_ = _check_optimize_result(\"lbfgs\", opt_res, self.max_iter)\n"
     ]
    },
    {
     "name": "stdout",
     "output_type": "stream",
     "text": [
      "[CV]  solver=lbfgs, learning_rate=adaptive, hidden_layer_sizes=(4,), alpha=0.0001, activation=relu, score=0.973, total=   0.3s\n",
      "[CV] solver=sgd, learning_rate=constant, hidden_layer_sizes=(15, 10, 5), alpha=0.0001, activation=tanh \n",
      "[CV]  solver=sgd, learning_rate=constant, hidden_layer_sizes=(15, 10, 5), alpha=0.0001, activation=tanh, score=0.935, total=   0.4s\n",
      "[CV] solver=sgd, learning_rate=constant, hidden_layer_sizes=(15, 10, 5), alpha=0.0001, activation=tanh \n",
      "[CV]  solver=sgd, learning_rate=constant, hidden_layer_sizes=(15, 10, 5), alpha=0.0001, activation=tanh, score=0.922, total=   1.0s\n",
      "[CV] solver=sgd, learning_rate=constant, hidden_layer_sizes=(15, 10, 5), alpha=0.0001, activation=tanh \n",
      "[CV]  solver=sgd, learning_rate=constant, hidden_layer_sizes=(15, 10, 5), alpha=0.0001, activation=tanh, score=0.924, total=   0.5s\n",
      "[CV] solver=sgd, learning_rate=constant, hidden_layer_sizes=(15, 10, 5), alpha=0.0001, activation=tanh \n",
      "[CV]  solver=sgd, learning_rate=constant, hidden_layer_sizes=(15, 10, 5), alpha=0.0001, activation=tanh, score=0.917, total=   0.5s\n",
      "[CV] solver=sgd, learning_rate=constant, hidden_layer_sizes=(15, 10, 5), alpha=0.0001, activation=tanh \n",
      "[CV]  solver=sgd, learning_rate=constant, hidden_layer_sizes=(15, 10, 5), alpha=0.0001, activation=tanh, score=0.931, total=   0.4s\n",
      "[CV] solver=sgd, learning_rate=constant, hidden_layer_sizes=(15, 10, 5), alpha=0.05, activation=tanh \n",
      "[CV]  solver=sgd, learning_rate=constant, hidden_layer_sizes=(15, 10, 5), alpha=0.05, activation=tanh, score=0.935, total=   0.4s\n",
      "[CV] solver=sgd, learning_rate=constant, hidden_layer_sizes=(15, 10, 5), alpha=0.05, activation=tanh \n",
      "[CV]  solver=sgd, learning_rate=constant, hidden_layer_sizes=(15, 10, 5), alpha=0.05, activation=tanh, score=0.922, total=   0.5s\n",
      "[CV] solver=sgd, learning_rate=constant, hidden_layer_sizes=(15, 10, 5), alpha=0.05, activation=tanh \n",
      "[CV]  solver=sgd, learning_rate=constant, hidden_layer_sizes=(15, 10, 5), alpha=0.05, activation=tanh, score=0.924, total=   0.9s\n",
      "[CV] solver=sgd, learning_rate=constant, hidden_layer_sizes=(15, 10, 5), alpha=0.05, activation=tanh \n",
      "[CV]  solver=sgd, learning_rate=constant, hidden_layer_sizes=(15, 10, 5), alpha=0.05, activation=tanh, score=0.917, total=   0.5s\n",
      "[CV] solver=sgd, learning_rate=constant, hidden_layer_sizes=(15, 10, 5), alpha=0.05, activation=tanh \n",
      "[CV]  solver=sgd, learning_rate=constant, hidden_layer_sizes=(15, 10, 5), alpha=0.05, activation=tanh, score=0.931, total=   0.5s\n",
      "[CV] solver=sgd, learning_rate=constant, hidden_layer_sizes=(5, 2), alpha=0.0001, activation=logistic \n",
      "[CV]  solver=sgd, learning_rate=constant, hidden_layer_sizes=(5, 2), alpha=0.0001, activation=logistic, score=0.935, total=   0.5s\n",
      "[CV] solver=sgd, learning_rate=constant, hidden_layer_sizes=(5, 2), alpha=0.0001, activation=logistic \n",
      "[CV]  solver=sgd, learning_rate=constant, hidden_layer_sizes=(5, 2), alpha=0.0001, activation=logistic, score=0.922, total=   0.5s\n",
      "[CV] solver=sgd, learning_rate=constant, hidden_layer_sizes=(5, 2), alpha=0.0001, activation=logistic \n",
      "[CV]  solver=sgd, learning_rate=constant, hidden_layer_sizes=(5, 2), alpha=0.0001, activation=logistic, score=0.924, total=   0.6s\n",
      "[CV] solver=sgd, learning_rate=constant, hidden_layer_sizes=(5, 2), alpha=0.0001, activation=logistic \n",
      "[CV]  solver=sgd, learning_rate=constant, hidden_layer_sizes=(5, 2), alpha=0.0001, activation=logistic, score=0.917, total=   0.6s\n",
      "[CV] solver=sgd, learning_rate=constant, hidden_layer_sizes=(5, 2), alpha=0.0001, activation=logistic \n",
      "[CV]  solver=sgd, learning_rate=constant, hidden_layer_sizes=(5, 2), alpha=0.0001, activation=logistic, score=0.931, total=   0.5s\n",
      "[CV] solver=sgd, learning_rate=adaptive, hidden_layer_sizes=(5, 2), alpha=0.0001, activation=relu \n",
      "[CV]  solver=sgd, learning_rate=adaptive, hidden_layer_sizes=(5, 2), alpha=0.0001, activation=relu, score=0.935, total=   1.5s\n",
      "[CV] solver=sgd, learning_rate=adaptive, hidden_layer_sizes=(5, 2), alpha=0.0001, activation=relu \n",
      "[CV]  solver=sgd, learning_rate=adaptive, hidden_layer_sizes=(5, 2), alpha=0.0001, activation=relu, score=0.922, total=   0.9s\n",
      "[CV] solver=sgd, learning_rate=adaptive, hidden_layer_sizes=(5, 2), alpha=0.0001, activation=relu \n",
      "[CV]  solver=sgd, learning_rate=adaptive, hidden_layer_sizes=(5, 2), alpha=0.0001, activation=relu, score=0.924, total=   1.3s\n",
      "[CV] solver=sgd, learning_rate=adaptive, hidden_layer_sizes=(5, 2), alpha=0.0001, activation=relu \n",
      "[CV]  solver=sgd, learning_rate=adaptive, hidden_layer_sizes=(5, 2), alpha=0.0001, activation=relu, score=0.917, total=   1.2s\n",
      "[CV] solver=sgd, learning_rate=adaptive, hidden_layer_sizes=(5, 2), alpha=0.0001, activation=relu \n",
      "[CV]  solver=sgd, learning_rate=adaptive, hidden_layer_sizes=(5, 2), alpha=0.0001, activation=relu, score=0.931, total=   1.1s\n",
      "[CV] solver=sgd, learning_rate=adaptive, hidden_layer_sizes=(4,), alpha=0.05, activation=relu \n",
      "[CV]  solver=sgd, learning_rate=adaptive, hidden_layer_sizes=(4,), alpha=0.05, activation=relu, score=0.935, total=   1.6s\n",
      "[CV] solver=sgd, learning_rate=adaptive, hidden_layer_sizes=(4,), alpha=0.05, activation=relu \n",
      "[CV]  solver=sgd, learning_rate=adaptive, hidden_layer_sizes=(4,), alpha=0.05, activation=relu, score=0.922, total=   0.9s\n",
      "[CV] solver=sgd, learning_rate=adaptive, hidden_layer_sizes=(4,), alpha=0.05, activation=relu \n",
      "[CV]  solver=sgd, learning_rate=adaptive, hidden_layer_sizes=(4,), alpha=0.05, activation=relu, score=0.924, total=   1.0s\n",
      "[CV] solver=sgd, learning_rate=adaptive, hidden_layer_sizes=(4,), alpha=0.05, activation=relu \n",
      "[CV]  solver=sgd, learning_rate=adaptive, hidden_layer_sizes=(4,), alpha=0.05, activation=relu, score=0.917, total=   1.4s\n",
      "[CV] solver=sgd, learning_rate=adaptive, hidden_layer_sizes=(4,), alpha=0.05, activation=relu \n",
      "[CV]  solver=sgd, learning_rate=adaptive, hidden_layer_sizes=(4,), alpha=0.05, activation=relu, score=0.931, total=   1.1s\n",
      "[CV] solver=lbfgs, learning_rate=adaptive, hidden_layer_sizes=(15, 10, 5), alpha=0.05, activation=tanh \n"
     ]
    },
    {
     "name": "stderr",
     "output_type": "stream",
     "text": [
      "/Users/chenliang/opt/anaconda3/lib/python3.8/site-packages/sklearn/neural_network/_multilayer_perceptron.py:471: ConvergenceWarning: lbfgs failed to converge (status=1):\n",
      "STOP: TOTAL NO. of ITERATIONS REACHED LIMIT.\n",
      "\n",
      "Increase the number of iterations (max_iter) or scale the data as shown in:\n",
      "    https://scikit-learn.org/stable/modules/preprocessing.html\n",
      "  self.n_iter_ = _check_optimize_result(\"lbfgs\", opt_res, self.max_iter)\n"
     ]
    },
    {
     "name": "stdout",
     "output_type": "stream",
     "text": [
      "[CV]  solver=lbfgs, learning_rate=adaptive, hidden_layer_sizes=(15, 10, 5), alpha=0.05, activation=tanh, score=0.975, total=   0.9s\n",
      "[CV] solver=lbfgs, learning_rate=adaptive, hidden_layer_sizes=(15, 10, 5), alpha=0.05, activation=tanh \n"
     ]
    },
    {
     "name": "stderr",
     "output_type": "stream",
     "text": [
      "/Users/chenliang/opt/anaconda3/lib/python3.8/site-packages/sklearn/neural_network/_multilayer_perceptron.py:471: ConvergenceWarning: lbfgs failed to converge (status=1):\n",
      "STOP: TOTAL NO. of ITERATIONS REACHED LIMIT.\n",
      "\n",
      "Increase the number of iterations (max_iter) or scale the data as shown in:\n",
      "    https://scikit-learn.org/stable/modules/preprocessing.html\n",
      "  self.n_iter_ = _check_optimize_result(\"lbfgs\", opt_res, self.max_iter)\n"
     ]
    },
    {
     "name": "stdout",
     "output_type": "stream",
     "text": [
      "[CV]  solver=lbfgs, learning_rate=adaptive, hidden_layer_sizes=(15, 10, 5), alpha=0.05, activation=tanh, score=0.974, total=   0.9s\n",
      "[CV] solver=lbfgs, learning_rate=adaptive, hidden_layer_sizes=(15, 10, 5), alpha=0.05, activation=tanh \n"
     ]
    },
    {
     "name": "stderr",
     "output_type": "stream",
     "text": [
      "/Users/chenliang/opt/anaconda3/lib/python3.8/site-packages/sklearn/neural_network/_multilayer_perceptron.py:471: ConvergenceWarning: lbfgs failed to converge (status=1):\n",
      "STOP: TOTAL NO. of ITERATIONS REACHED LIMIT.\n",
      "\n",
      "Increase the number of iterations (max_iter) or scale the data as shown in:\n",
      "    https://scikit-learn.org/stable/modules/preprocessing.html\n",
      "  self.n_iter_ = _check_optimize_result(\"lbfgs\", opt_res, self.max_iter)\n"
     ]
    },
    {
     "name": "stdout",
     "output_type": "stream",
     "text": [
      "[CV]  solver=lbfgs, learning_rate=adaptive, hidden_layer_sizes=(15, 10, 5), alpha=0.05, activation=tanh, score=0.975, total=   1.0s\n",
      "[CV] solver=lbfgs, learning_rate=adaptive, hidden_layer_sizes=(15, 10, 5), alpha=0.05, activation=tanh \n"
     ]
    },
    {
     "name": "stderr",
     "output_type": "stream",
     "text": [
      "/Users/chenliang/opt/anaconda3/lib/python3.8/site-packages/sklearn/neural_network/_multilayer_perceptron.py:471: ConvergenceWarning: lbfgs failed to converge (status=1):\n",
      "STOP: TOTAL NO. of ITERATIONS REACHED LIMIT.\n",
      "\n",
      "Increase the number of iterations (max_iter) or scale the data as shown in:\n",
      "    https://scikit-learn.org/stable/modules/preprocessing.html\n",
      "  self.n_iter_ = _check_optimize_result(\"lbfgs\", opt_res, self.max_iter)\n"
     ]
    },
    {
     "name": "stdout",
     "output_type": "stream",
     "text": [
      "[CV]  solver=lbfgs, learning_rate=adaptive, hidden_layer_sizes=(15, 10, 5), alpha=0.05, activation=tanh, score=0.966, total=   0.9s\n",
      "[CV] solver=lbfgs, learning_rate=adaptive, hidden_layer_sizes=(15, 10, 5), alpha=0.05, activation=tanh \n"
     ]
    },
    {
     "name": "stderr",
     "output_type": "stream",
     "text": [
      "/Users/chenliang/opt/anaconda3/lib/python3.8/site-packages/sklearn/neural_network/_multilayer_perceptron.py:471: ConvergenceWarning: lbfgs failed to converge (status=1):\n",
      "STOP: TOTAL NO. of ITERATIONS REACHED LIMIT.\n",
      "\n",
      "Increase the number of iterations (max_iter) or scale the data as shown in:\n",
      "    https://scikit-learn.org/stable/modules/preprocessing.html\n",
      "  self.n_iter_ = _check_optimize_result(\"lbfgs\", opt_res, self.max_iter)\n"
     ]
    },
    {
     "name": "stdout",
     "output_type": "stream",
     "text": [
      "[CV]  solver=lbfgs, learning_rate=adaptive, hidden_layer_sizes=(15, 10, 5), alpha=0.05, activation=tanh, score=0.968, total=   1.0s\n",
      "[CV] solver=sgd, learning_rate=adaptive, hidden_layer_sizes=(5, 2), alpha=0.05, activation=relu \n",
      "[CV]  solver=sgd, learning_rate=adaptive, hidden_layer_sizes=(5, 2), alpha=0.05, activation=relu, score=0.935, total=   1.5s\n",
      "[CV] solver=sgd, learning_rate=adaptive, hidden_layer_sizes=(5, 2), alpha=0.05, activation=relu \n",
      "[CV]  solver=sgd, learning_rate=adaptive, hidden_layer_sizes=(5, 2), alpha=0.05, activation=relu, score=0.922, total=   1.2s\n",
      "[CV] solver=sgd, learning_rate=adaptive, hidden_layer_sizes=(5, 2), alpha=0.05, activation=relu \n",
      "[CV]  solver=sgd, learning_rate=adaptive, hidden_layer_sizes=(5, 2), alpha=0.05, activation=relu, score=0.924, total=   1.3s\n",
      "[CV] solver=sgd, learning_rate=adaptive, hidden_layer_sizes=(5, 2), alpha=0.05, activation=relu \n",
      "[CV]  solver=sgd, learning_rate=adaptive, hidden_layer_sizes=(5, 2), alpha=0.05, activation=relu, score=0.917, total=   1.4s\n",
      "[CV] solver=sgd, learning_rate=adaptive, hidden_layer_sizes=(5, 2), alpha=0.05, activation=relu \n",
      "[CV]  solver=sgd, learning_rate=adaptive, hidden_layer_sizes=(5, 2), alpha=0.05, activation=relu, score=0.931, total=   0.9s\n",
      "[CV] solver=sgd, learning_rate=constant, hidden_layer_sizes=(5, 2), alpha=0.05, activation=identity \n",
      "[CV]  solver=sgd, learning_rate=constant, hidden_layer_sizes=(5, 2), alpha=0.05, activation=identity, score=0.935, total=   1.7s\n",
      "[CV] solver=sgd, learning_rate=constant, hidden_layer_sizes=(5, 2), alpha=0.05, activation=identity \n",
      "[CV]  solver=sgd, learning_rate=constant, hidden_layer_sizes=(5, 2), alpha=0.05, activation=identity, score=0.922, total=   0.7s\n",
      "[CV] solver=sgd, learning_rate=constant, hidden_layer_sizes=(5, 2), alpha=0.05, activation=identity \n",
      "[CV]  solver=sgd, learning_rate=constant, hidden_layer_sizes=(5, 2), alpha=0.05, activation=identity, score=0.924, total=   1.0s\n",
      "[CV] solver=sgd, learning_rate=constant, hidden_layer_sizes=(5, 2), alpha=0.05, activation=identity \n",
      "[CV]  solver=sgd, learning_rate=constant, hidden_layer_sizes=(5, 2), alpha=0.05, activation=identity, score=0.917, total=   0.6s\n",
      "[CV] solver=sgd, learning_rate=constant, hidden_layer_sizes=(5, 2), alpha=0.05, activation=identity \n",
      "[CV]  solver=sgd, learning_rate=constant, hidden_layer_sizes=(5, 2), alpha=0.05, activation=identity, score=0.931, total=   1.2s\n",
      "[CV] solver=sgd, learning_rate=adaptive, hidden_layer_sizes=(15, 10, 5), alpha=0.0001, activation=relu \n",
      "[CV]  solver=sgd, learning_rate=adaptive, hidden_layer_sizes=(15, 10, 5), alpha=0.0001, activation=relu, score=0.935, total=   1.3s\n",
      "[CV] solver=sgd, learning_rate=adaptive, hidden_layer_sizes=(15, 10, 5), alpha=0.0001, activation=relu \n",
      "[CV]  solver=sgd, learning_rate=adaptive, hidden_layer_sizes=(15, 10, 5), alpha=0.0001, activation=relu, score=0.922, total=   2.3s\n",
      "[CV] solver=sgd, learning_rate=adaptive, hidden_layer_sizes=(15, 10, 5), alpha=0.0001, activation=relu \n",
      "[CV]  solver=sgd, learning_rate=adaptive, hidden_layer_sizes=(15, 10, 5), alpha=0.0001, activation=relu, score=0.924, total=   1.8s\n",
      "[CV] solver=sgd, learning_rate=adaptive, hidden_layer_sizes=(15, 10, 5), alpha=0.0001, activation=relu \n",
      "[CV]  solver=sgd, learning_rate=adaptive, hidden_layer_sizes=(15, 10, 5), alpha=0.0001, activation=relu, score=0.917, total=   1.4s\n",
      "[CV] solver=sgd, learning_rate=adaptive, hidden_layer_sizes=(15, 10, 5), alpha=0.0001, activation=relu \n",
      "[CV]  solver=sgd, learning_rate=adaptive, hidden_layer_sizes=(15, 10, 5), alpha=0.0001, activation=relu, score=0.931, total=   2.6s\n",
      "[CV] solver=sgd, learning_rate=adaptive, hidden_layer_sizes=(5, 2), alpha=0.0001, activation=logistic \n",
      "[CV]  solver=sgd, learning_rate=adaptive, hidden_layer_sizes=(5, 2), alpha=0.0001, activation=logistic, score=0.935, total=   1.1s\n",
      "[CV] solver=sgd, learning_rate=adaptive, hidden_layer_sizes=(5, 2), alpha=0.0001, activation=logistic \n",
      "[CV]  solver=sgd, learning_rate=adaptive, hidden_layer_sizes=(5, 2), alpha=0.0001, activation=logistic, score=0.922, total=   1.2s\n",
      "[CV] solver=sgd, learning_rate=adaptive, hidden_layer_sizes=(5, 2), alpha=0.0001, activation=logistic \n",
      "[CV]  solver=sgd, learning_rate=adaptive, hidden_layer_sizes=(5, 2), alpha=0.0001, activation=logistic, score=0.924, total=   1.2s\n",
      "[CV] solver=sgd, learning_rate=adaptive, hidden_layer_sizes=(5, 2), alpha=0.0001, activation=logistic \n",
      "[CV]  solver=sgd, learning_rate=adaptive, hidden_layer_sizes=(5, 2), alpha=0.0001, activation=logistic, score=0.917, total=   1.0s\n",
      "[CV] solver=sgd, learning_rate=adaptive, hidden_layer_sizes=(5, 2), alpha=0.0001, activation=logistic \n",
      "[CV]  solver=sgd, learning_rate=adaptive, hidden_layer_sizes=(5, 2), alpha=0.0001, activation=logistic, score=0.931, total=   1.2s\n"
     ]
    },
    {
     "name": "stderr",
     "output_type": "stream",
     "text": [
      "[Parallel(n_jobs=1)]: Done 125 out of 125 | elapsed:  2.5min finished\n"
     ]
    },
    {
     "name": "stdout",
     "output_type": "stream",
     "text": [
      "{'solver': 'lbfgs', 'learning_rate': 'constant', 'hidden_layer_sizes': (15, 10, 5), 'alpha': 0.05, 'activation': 'tanh'}\n"
     ]
    },
    {
     "name": "stderr",
     "output_type": "stream",
     "text": [
      "/Users/chenliang/opt/anaconda3/lib/python3.8/site-packages/sklearn/neural_network/_multilayer_perceptron.py:471: ConvergenceWarning: lbfgs failed to converge (status=1):\n",
      "STOP: TOTAL NO. of ITERATIONS REACHED LIMIT.\n",
      "\n",
      "Increase the number of iterations (max_iter) or scale the data as shown in:\n",
      "    https://scikit-learn.org/stable/modules/preprocessing.html\n",
      "  self.n_iter_ = _check_optimize_result(\"lbfgs\", opt_res, self.max_iter)\n"
     ]
    }
   ],
   "source": [
    "##\n",
    "clf = MLPClassifier()\n",
    "kfold = KFold(n_splits = 5, random_state = None)\n",
    "param_dist = {\"solver\" : ['lbfgs', 'sgd', 'adam'],\n",
    "              \"activation\" : ['identity', 'logistic', 'tanh', 'relu'],\n",
    "              \"alpha\": [0.0001, 0.05],\n",
    "              \"hidden_layer_sizes\": [(15,10,5),(10,5,3),(5,2),(4,)],\n",
    "              'learning_rate': ['constant','adaptive']\n",
    "              }\n",
    "random_search = RandomizedSearchCV(clf, param_distributions=param_dist,\n",
    "                                   n_iter=25, cv=kfold,verbose = 10)\n",
    "random_search.fit(X, y)\n",
    "print(random_search.best_params_)"
   ]
  },
  {
   "cell_type": "code",
   "execution_count": 25,
   "metadata": {},
   "outputs": [
    {
     "name": "stderr",
     "output_type": "stream",
     "text": [
      "/Users/chenliang/opt/anaconda3/lib/python3.8/site-packages/sklearn/neural_network/_multilayer_perceptron.py:471: ConvergenceWarning: lbfgs failed to converge (status=1):\n",
      "STOP: TOTAL NO. of ITERATIONS REACHED LIMIT.\n",
      "\n",
      "Increase the number of iterations (max_iter) or scale the data as shown in:\n",
      "    https://scikit-learn.org/stable/modules/preprocessing.html\n",
      "  self.n_iter_ = _check_optimize_result(\"lbfgs\", opt_res, self.max_iter)\n",
      "/Users/chenliang/opt/anaconda3/lib/python3.8/site-packages/sklearn/neural_network/_multilayer_perceptron.py:471: ConvergenceWarning: lbfgs failed to converge (status=1):\n",
      "STOP: TOTAL NO. of ITERATIONS REACHED LIMIT.\n",
      "\n",
      "Increase the number of iterations (max_iter) or scale the data as shown in:\n",
      "    https://scikit-learn.org/stable/modules/preprocessing.html\n",
      "  self.n_iter_ = _check_optimize_result(\"lbfgs\", opt_res, self.max_iter)\n",
      "/Users/chenliang/opt/anaconda3/lib/python3.8/site-packages/sklearn/neural_network/_multilayer_perceptron.py:471: ConvergenceWarning: lbfgs failed to converge (status=1):\n",
      "STOP: TOTAL NO. of ITERATIONS REACHED LIMIT.\n",
      "\n",
      "Increase the number of iterations (max_iter) or scale the data as shown in:\n",
      "    https://scikit-learn.org/stable/modules/preprocessing.html\n",
      "  self.n_iter_ = _check_optimize_result(\"lbfgs\", opt_res, self.max_iter)\n",
      "/Users/chenliang/opt/anaconda3/lib/python3.8/site-packages/sklearn/neural_network/_multilayer_perceptron.py:471: ConvergenceWarning: lbfgs failed to converge (status=1):\n",
      "STOP: TOTAL NO. of ITERATIONS REACHED LIMIT.\n",
      "\n",
      "Increase the number of iterations (max_iter) or scale the data as shown in:\n",
      "    https://scikit-learn.org/stable/modules/preprocessing.html\n",
      "  self.n_iter_ = _check_optimize_result(\"lbfgs\", opt_res, self.max_iter)\n",
      "/Users/chenliang/opt/anaconda3/lib/python3.8/site-packages/sklearn/neural_network/_multilayer_perceptron.py:471: ConvergenceWarning: lbfgs failed to converge (status=1):\n",
      "STOP: TOTAL NO. of ITERATIONS REACHED LIMIT.\n",
      "\n",
      "Increase the number of iterations (max_iter) or scale the data as shown in:\n",
      "    https://scikit-learn.org/stable/modules/preprocessing.html\n",
      "  self.n_iter_ = _check_optimize_result(\"lbfgs\", opt_res, self.max_iter)\n",
      "/Users/chenliang/opt/anaconda3/lib/python3.8/site-packages/sklearn/neural_network/_multilayer_perceptron.py:471: ConvergenceWarning: lbfgs failed to converge (status=1):\n",
      "STOP: TOTAL NO. of ITERATIONS REACHED LIMIT.\n",
      "\n",
      "Increase the number of iterations (max_iter) or scale the data as shown in:\n",
      "    https://scikit-learn.org/stable/modules/preprocessing.html\n",
      "  self.n_iter_ = _check_optimize_result(\"lbfgs\", opt_res, self.max_iter)\n",
      "/Users/chenliang/opt/anaconda3/lib/python3.8/site-packages/sklearn/neural_network/_multilayer_perceptron.py:471: ConvergenceWarning: lbfgs failed to converge (status=1):\n",
      "STOP: TOTAL NO. of ITERATIONS REACHED LIMIT.\n",
      "\n",
      "Increase the number of iterations (max_iter) or scale the data as shown in:\n",
      "    https://scikit-learn.org/stable/modules/preprocessing.html\n",
      "  self.n_iter_ = _check_optimize_result(\"lbfgs\", opt_res, self.max_iter)\n",
      "/Users/chenliang/opt/anaconda3/lib/python3.8/site-packages/sklearn/neural_network/_multilayer_perceptron.py:471: ConvergenceWarning: lbfgs failed to converge (status=1):\n",
      "STOP: TOTAL NO. of ITERATIONS REACHED LIMIT.\n",
      "\n",
      "Increase the number of iterations (max_iter) or scale the data as shown in:\n",
      "    https://scikit-learn.org/stable/modules/preprocessing.html\n",
      "  self.n_iter_ = _check_optimize_result(\"lbfgs\", opt_res, self.max_iter)\n",
      "/Users/chenliang/opt/anaconda3/lib/python3.8/site-packages/sklearn/neural_network/_multilayer_perceptron.py:471: ConvergenceWarning: lbfgs failed to converge (status=1):\n",
      "STOP: TOTAL NO. of ITERATIONS REACHED LIMIT.\n",
      "\n",
      "Increase the number of iterations (max_iter) or scale the data as shown in:\n",
      "    https://scikit-learn.org/stable/modules/preprocessing.html\n",
      "  self.n_iter_ = _check_optimize_result(\"lbfgs\", opt_res, self.max_iter)\n",
      "/Users/chenliang/opt/anaconda3/lib/python3.8/site-packages/sklearn/neural_network/_multilayer_perceptron.py:471: ConvergenceWarning: lbfgs failed to converge (status=1):\n",
      "STOP: TOTAL NO. of ITERATIONS REACHED LIMIT.\n",
      "\n",
      "Increase the number of iterations (max_iter) or scale the data as shown in:\n",
      "    https://scikit-learn.org/stable/modules/preprocessing.html\n",
      "  self.n_iter_ = _check_optimize_result(\"lbfgs\", opt_res, self.max_iter)\n",
      "/Users/chenliang/opt/anaconda3/lib/python3.8/site-packages/sklearn/neural_network/_multilayer_perceptron.py:471: ConvergenceWarning: lbfgs failed to converge (status=1):\n",
      "STOP: TOTAL NO. of ITERATIONS REACHED LIMIT.\n",
      "\n",
      "Increase the number of iterations (max_iter) or scale the data as shown in:\n",
      "    https://scikit-learn.org/stable/modules/preprocessing.html\n",
      "  self.n_iter_ = _check_optimize_result(\"lbfgs\", opt_res, self.max_iter)\n",
      "/Users/chenliang/opt/anaconda3/lib/python3.8/site-packages/sklearn/neural_network/_multilayer_perceptron.py:471: ConvergenceWarning: lbfgs failed to converge (status=1):\n",
      "STOP: TOTAL NO. of ITERATIONS REACHED LIMIT.\n",
      "\n",
      "Increase the number of iterations (max_iter) or scale the data as shown in:\n",
      "    https://scikit-learn.org/stable/modules/preprocessing.html\n",
      "  self.n_iter_ = _check_optimize_result(\"lbfgs\", opt_res, self.max_iter)\n",
      "/Users/chenliang/opt/anaconda3/lib/python3.8/site-packages/sklearn/neural_network/_multilayer_perceptron.py:471: ConvergenceWarning: lbfgs failed to converge (status=1):\n",
      "STOP: TOTAL NO. of ITERATIONS REACHED LIMIT.\n",
      "\n",
      "Increase the number of iterations (max_iter) or scale the data as shown in:\n",
      "    https://scikit-learn.org/stable/modules/preprocessing.html\n",
      "  self.n_iter_ = _check_optimize_result(\"lbfgs\", opt_res, self.max_iter)\n",
      "/Users/chenliang/opt/anaconda3/lib/python3.8/site-packages/sklearn/neural_network/_multilayer_perceptron.py:471: ConvergenceWarning: lbfgs failed to converge (status=1):\n",
      "STOP: TOTAL NO. of ITERATIONS REACHED LIMIT.\n",
      "\n",
      "Increase the number of iterations (max_iter) or scale the data as shown in:\n",
      "    https://scikit-learn.org/stable/modules/preprocessing.html\n",
      "  self.n_iter_ = _check_optimize_result(\"lbfgs\", opt_res, self.max_iter)\n",
      "/Users/chenliang/opt/anaconda3/lib/python3.8/site-packages/sklearn/neural_network/_multilayer_perceptron.py:471: ConvergenceWarning: lbfgs failed to converge (status=1):\n",
      "STOP: TOTAL NO. of ITERATIONS REACHED LIMIT.\n",
      "\n",
      "Increase the number of iterations (max_iter) or scale the data as shown in:\n",
      "    https://scikit-learn.org/stable/modules/preprocessing.html\n",
      "  self.n_iter_ = _check_optimize_result(\"lbfgs\", opt_res, self.max_iter)\n",
      "/Users/chenliang/opt/anaconda3/lib/python3.8/site-packages/sklearn/neural_network/_multilayer_perceptron.py:471: ConvergenceWarning: lbfgs failed to converge (status=1):\n",
      "STOP: TOTAL NO. of ITERATIONS REACHED LIMIT.\n",
      "\n",
      "Increase the number of iterations (max_iter) or scale the data as shown in:\n",
      "    https://scikit-learn.org/stable/modules/preprocessing.html\n",
      "  self.n_iter_ = _check_optimize_result(\"lbfgs\", opt_res, self.max_iter)\n",
      "/Users/chenliang/opt/anaconda3/lib/python3.8/site-packages/sklearn/neural_network/_multilayer_perceptron.py:471: ConvergenceWarning: lbfgs failed to converge (status=1):\n",
      "STOP: TOTAL NO. of ITERATIONS REACHED LIMIT.\n",
      "\n",
      "Increase the number of iterations (max_iter) or scale the data as shown in:\n",
      "    https://scikit-learn.org/stable/modules/preprocessing.html\n",
      "  self.n_iter_ = _check_optimize_result(\"lbfgs\", opt_res, self.max_iter)\n",
      "/Users/chenliang/opt/anaconda3/lib/python3.8/site-packages/sklearn/neural_network/_multilayer_perceptron.py:471: ConvergenceWarning: lbfgs failed to converge (status=1):\n",
      "STOP: TOTAL NO. of ITERATIONS REACHED LIMIT.\n",
      "\n",
      "Increase the number of iterations (max_iter) or scale the data as shown in:\n",
      "    https://scikit-learn.org/stable/modules/preprocessing.html\n",
      "  self.n_iter_ = _check_optimize_result(\"lbfgs\", opt_res, self.max_iter)\n",
      "/Users/chenliang/opt/anaconda3/lib/python3.8/site-packages/sklearn/neural_network/_multilayer_perceptron.py:471: ConvergenceWarning: lbfgs failed to converge (status=1):\n",
      "STOP: TOTAL NO. of ITERATIONS REACHED LIMIT.\n",
      "\n",
      "Increase the number of iterations (max_iter) or scale the data as shown in:\n",
      "    https://scikit-learn.org/stable/modules/preprocessing.html\n",
      "  self.n_iter_ = _check_optimize_result(\"lbfgs\", opt_res, self.max_iter)\n",
      "/Users/chenliang/opt/anaconda3/lib/python3.8/site-packages/sklearn/neural_network/_multilayer_perceptron.py:471: ConvergenceWarning: lbfgs failed to converge (status=1):\n",
      "STOP: TOTAL NO. of ITERATIONS REACHED LIMIT.\n",
      "\n",
      "Increase the number of iterations (max_iter) or scale the data as shown in:\n",
      "    https://scikit-learn.org/stable/modules/preprocessing.html\n",
      "  self.n_iter_ = _check_optimize_result(\"lbfgs\", opt_res, self.max_iter)\n"
     ]
    },
    {
     "name": "stderr",
     "output_type": "stream",
     "text": [
      "/Users/chenliang/opt/anaconda3/lib/python3.8/site-packages/sklearn/neural_network/_multilayer_perceptron.py:471: ConvergenceWarning: lbfgs failed to converge (status=1):\n",
      "STOP: TOTAL NO. of ITERATIONS REACHED LIMIT.\n",
      "\n",
      "Increase the number of iterations (max_iter) or scale the data as shown in:\n",
      "    https://scikit-learn.org/stable/modules/preprocessing.html\n",
      "  self.n_iter_ = _check_optimize_result(\"lbfgs\", opt_res, self.max_iter)\n",
      "/Users/chenliang/opt/anaconda3/lib/python3.8/site-packages/sklearn/neural_network/_multilayer_perceptron.py:471: ConvergenceWarning: lbfgs failed to converge (status=1):\n",
      "STOP: TOTAL NO. of ITERATIONS REACHED LIMIT.\n",
      "\n",
      "Increase the number of iterations (max_iter) or scale the data as shown in:\n",
      "    https://scikit-learn.org/stable/modules/preprocessing.html\n",
      "  self.n_iter_ = _check_optimize_result(\"lbfgs\", opt_res, self.max_iter)\n",
      "/Users/chenliang/opt/anaconda3/lib/python3.8/site-packages/sklearn/neural_network/_multilayer_perceptron.py:471: ConvergenceWarning: lbfgs failed to converge (status=1):\n",
      "STOP: TOTAL NO. of ITERATIONS REACHED LIMIT.\n",
      "\n",
      "Increase the number of iterations (max_iter) or scale the data as shown in:\n",
      "    https://scikit-learn.org/stable/modules/preprocessing.html\n",
      "  self.n_iter_ = _check_optimize_result(\"lbfgs\", opt_res, self.max_iter)\n",
      "/Users/chenliang/opt/anaconda3/lib/python3.8/site-packages/sklearn/neural_network/_multilayer_perceptron.py:471: ConvergenceWarning: lbfgs failed to converge (status=1):\n",
      "STOP: TOTAL NO. of ITERATIONS REACHED LIMIT.\n",
      "\n",
      "Increase the number of iterations (max_iter) or scale the data as shown in:\n",
      "    https://scikit-learn.org/stable/modules/preprocessing.html\n",
      "  self.n_iter_ = _check_optimize_result(\"lbfgs\", opt_res, self.max_iter)\n",
      "/Users/chenliang/opt/anaconda3/lib/python3.8/site-packages/sklearn/neural_network/_multilayer_perceptron.py:471: ConvergenceWarning: lbfgs failed to converge (status=1):\n",
      "STOP: TOTAL NO. of ITERATIONS REACHED LIMIT.\n",
      "\n",
      "Increase the number of iterations (max_iter) or scale the data as shown in:\n",
      "    https://scikit-learn.org/stable/modules/preprocessing.html\n",
      "  self.n_iter_ = _check_optimize_result(\"lbfgs\", opt_res, self.max_iter)\n",
      "/Users/chenliang/opt/anaconda3/lib/python3.8/site-packages/sklearn/neural_network/_multilayer_perceptron.py:471: ConvergenceWarning: lbfgs failed to converge (status=1):\n",
      "STOP: TOTAL NO. of ITERATIONS REACHED LIMIT.\n",
      "\n",
      "Increase the number of iterations (max_iter) or scale the data as shown in:\n",
      "    https://scikit-learn.org/stable/modules/preprocessing.html\n",
      "  self.n_iter_ = _check_optimize_result(\"lbfgs\", opt_res, self.max_iter)\n",
      "/Users/chenliang/opt/anaconda3/lib/python3.8/site-packages/sklearn/neural_network/_multilayer_perceptron.py:471: ConvergenceWarning: lbfgs failed to converge (status=1):\n",
      "STOP: TOTAL NO. of ITERATIONS REACHED LIMIT.\n",
      "\n",
      "Increase the number of iterations (max_iter) or scale the data as shown in:\n",
      "    https://scikit-learn.org/stable/modules/preprocessing.html\n",
      "  self.n_iter_ = _check_optimize_result(\"lbfgs\", opt_res, self.max_iter)\n",
      "/Users/chenliang/opt/anaconda3/lib/python3.8/site-packages/sklearn/neural_network/_multilayer_perceptron.py:471: ConvergenceWarning: lbfgs failed to converge (status=1):\n",
      "STOP: TOTAL NO. of ITERATIONS REACHED LIMIT.\n",
      "\n",
      "Increase the number of iterations (max_iter) or scale the data as shown in:\n",
      "    https://scikit-learn.org/stable/modules/preprocessing.html\n",
      "  self.n_iter_ = _check_optimize_result(\"lbfgs\", opt_res, self.max_iter)\n",
      "/Users/chenliang/opt/anaconda3/lib/python3.8/site-packages/sklearn/neural_network/_multilayer_perceptron.py:471: ConvergenceWarning: lbfgs failed to converge (status=1):\n",
      "STOP: TOTAL NO. of ITERATIONS REACHED LIMIT.\n",
      "\n",
      "Increase the number of iterations (max_iter) or scale the data as shown in:\n",
      "    https://scikit-learn.org/stable/modules/preprocessing.html\n",
      "  self.n_iter_ = _check_optimize_result(\"lbfgs\", opt_res, self.max_iter)\n",
      "/Users/chenliang/opt/anaconda3/lib/python3.8/site-packages/sklearn/neural_network/_multilayer_perceptron.py:471: ConvergenceWarning: lbfgs failed to converge (status=1):\n",
      "STOP: TOTAL NO. of ITERATIONS REACHED LIMIT.\n",
      "\n",
      "Increase the number of iterations (max_iter) or scale the data as shown in:\n",
      "    https://scikit-learn.org/stable/modules/preprocessing.html\n",
      "  self.n_iter_ = _check_optimize_result(\"lbfgs\", opt_res, self.max_iter)\n",
      "/Users/chenliang/opt/anaconda3/lib/python3.8/site-packages/sklearn/neural_network/_multilayer_perceptron.py:471: ConvergenceWarning: lbfgs failed to converge (status=1):\n",
      "STOP: TOTAL NO. of ITERATIONS REACHED LIMIT.\n",
      "\n",
      "Increase the number of iterations (max_iter) or scale the data as shown in:\n",
      "    https://scikit-learn.org/stable/modules/preprocessing.html\n",
      "  self.n_iter_ = _check_optimize_result(\"lbfgs\", opt_res, self.max_iter)\n",
      "/Users/chenliang/opt/anaconda3/lib/python3.8/site-packages/sklearn/neural_network/_multilayer_perceptron.py:471: ConvergenceWarning: lbfgs failed to converge (status=1):\n",
      "STOP: TOTAL NO. of ITERATIONS REACHED LIMIT.\n",
      "\n",
      "Increase the number of iterations (max_iter) or scale the data as shown in:\n",
      "    https://scikit-learn.org/stable/modules/preprocessing.html\n",
      "  self.n_iter_ = _check_optimize_result(\"lbfgs\", opt_res, self.max_iter)\n",
      "/Users/chenliang/opt/anaconda3/lib/python3.8/site-packages/sklearn/neural_network/_multilayer_perceptron.py:471: ConvergenceWarning: lbfgs failed to converge (status=1):\n",
      "STOP: TOTAL NO. of ITERATIONS REACHED LIMIT.\n",
      "\n",
      "Increase the number of iterations (max_iter) or scale the data as shown in:\n",
      "    https://scikit-learn.org/stable/modules/preprocessing.html\n",
      "  self.n_iter_ = _check_optimize_result(\"lbfgs\", opt_res, self.max_iter)\n",
      "/Users/chenliang/opt/anaconda3/lib/python3.8/site-packages/sklearn/neural_network/_multilayer_perceptron.py:471: ConvergenceWarning: lbfgs failed to converge (status=1):\n",
      "STOP: TOTAL NO. of ITERATIONS REACHED LIMIT.\n",
      "\n",
      "Increase the number of iterations (max_iter) or scale the data as shown in:\n",
      "    https://scikit-learn.org/stable/modules/preprocessing.html\n",
      "  self.n_iter_ = _check_optimize_result(\"lbfgs\", opt_res, self.max_iter)\n",
      "/Users/chenliang/opt/anaconda3/lib/python3.8/site-packages/sklearn/neural_network/_multilayer_perceptron.py:471: ConvergenceWarning: lbfgs failed to converge (status=1):\n",
      "STOP: TOTAL NO. of ITERATIONS REACHED LIMIT.\n",
      "\n",
      "Increase the number of iterations (max_iter) or scale the data as shown in:\n",
      "    https://scikit-learn.org/stable/modules/preprocessing.html\n",
      "  self.n_iter_ = _check_optimize_result(\"lbfgs\", opt_res, self.max_iter)\n",
      "/Users/chenliang/opt/anaconda3/lib/python3.8/site-packages/sklearn/neural_network/_multilayer_perceptron.py:471: ConvergenceWarning: lbfgs failed to converge (status=1):\n",
      "STOP: TOTAL NO. of ITERATIONS REACHED LIMIT.\n",
      "\n",
      "Increase the number of iterations (max_iter) or scale the data as shown in:\n",
      "    https://scikit-learn.org/stable/modules/preprocessing.html\n",
      "  self.n_iter_ = _check_optimize_result(\"lbfgs\", opt_res, self.max_iter)\n",
      "/Users/chenliang/opt/anaconda3/lib/python3.8/site-packages/sklearn/neural_network/_multilayer_perceptron.py:471: ConvergenceWarning: lbfgs failed to converge (status=1):\n",
      "STOP: TOTAL NO. of ITERATIONS REACHED LIMIT.\n",
      "\n",
      "Increase the number of iterations (max_iter) or scale the data as shown in:\n",
      "    https://scikit-learn.org/stable/modules/preprocessing.html\n",
      "  self.n_iter_ = _check_optimize_result(\"lbfgs\", opt_res, self.max_iter)\n",
      "/Users/chenliang/opt/anaconda3/lib/python3.8/site-packages/sklearn/neural_network/_multilayer_perceptron.py:471: ConvergenceWarning: lbfgs failed to converge (status=1):\n",
      "STOP: TOTAL NO. of ITERATIONS REACHED LIMIT.\n",
      "\n",
      "Increase the number of iterations (max_iter) or scale the data as shown in:\n",
      "    https://scikit-learn.org/stable/modules/preprocessing.html\n",
      "  self.n_iter_ = _check_optimize_result(\"lbfgs\", opt_res, self.max_iter)\n",
      "/Users/chenliang/opt/anaconda3/lib/python3.8/site-packages/sklearn/neural_network/_multilayer_perceptron.py:471: ConvergenceWarning: lbfgs failed to converge (status=1):\n",
      "STOP: TOTAL NO. of ITERATIONS REACHED LIMIT.\n",
      "\n",
      "Increase the number of iterations (max_iter) or scale the data as shown in:\n",
      "    https://scikit-learn.org/stable/modules/preprocessing.html\n",
      "  self.n_iter_ = _check_optimize_result(\"lbfgs\", opt_res, self.max_iter)\n",
      "/Users/chenliang/opt/anaconda3/lib/python3.8/site-packages/sklearn/neural_network/_multilayer_perceptron.py:471: ConvergenceWarning: lbfgs failed to converge (status=1):\n",
      "STOP: TOTAL NO. of ITERATIONS REACHED LIMIT.\n",
      "\n",
      "Increase the number of iterations (max_iter) or scale the data as shown in:\n",
      "    https://scikit-learn.org/stable/modules/preprocessing.html\n",
      "  self.n_iter_ = _check_optimize_result(\"lbfgs\", opt_res, self.max_iter)\n"
     ]
    },
    {
     "name": "stderr",
     "output_type": "stream",
     "text": [
      "/Users/chenliang/opt/anaconda3/lib/python3.8/site-packages/sklearn/neural_network/_multilayer_perceptron.py:471: ConvergenceWarning: lbfgs failed to converge (status=1):\n",
      "STOP: TOTAL NO. of ITERATIONS REACHED LIMIT.\n",
      "\n",
      "Increase the number of iterations (max_iter) or scale the data as shown in:\n",
      "    https://scikit-learn.org/stable/modules/preprocessing.html\n",
      "  self.n_iter_ = _check_optimize_result(\"lbfgs\", opt_res, self.max_iter)\n",
      "/Users/chenliang/opt/anaconda3/lib/python3.8/site-packages/sklearn/neural_network/_multilayer_perceptron.py:471: ConvergenceWarning: lbfgs failed to converge (status=1):\n",
      "STOP: TOTAL NO. of ITERATIONS REACHED LIMIT.\n",
      "\n",
      "Increase the number of iterations (max_iter) or scale the data as shown in:\n",
      "    https://scikit-learn.org/stable/modules/preprocessing.html\n",
      "  self.n_iter_ = _check_optimize_result(\"lbfgs\", opt_res, self.max_iter)\n",
      "/Users/chenliang/opt/anaconda3/lib/python3.8/site-packages/sklearn/neural_network/_multilayer_perceptron.py:471: ConvergenceWarning: lbfgs failed to converge (status=1):\n",
      "STOP: TOTAL NO. of ITERATIONS REACHED LIMIT.\n",
      "\n",
      "Increase the number of iterations (max_iter) or scale the data as shown in:\n",
      "    https://scikit-learn.org/stable/modules/preprocessing.html\n",
      "  self.n_iter_ = _check_optimize_result(\"lbfgs\", opt_res, self.max_iter)\n",
      "/Users/chenliang/opt/anaconda3/lib/python3.8/site-packages/sklearn/neural_network/_multilayer_perceptron.py:471: ConvergenceWarning: lbfgs failed to converge (status=1):\n",
      "STOP: TOTAL NO. of ITERATIONS REACHED LIMIT.\n",
      "\n",
      "Increase the number of iterations (max_iter) or scale the data as shown in:\n",
      "    https://scikit-learn.org/stable/modules/preprocessing.html\n",
      "  self.n_iter_ = _check_optimize_result(\"lbfgs\", opt_res, self.max_iter)\n",
      "/Users/chenliang/opt/anaconda3/lib/python3.8/site-packages/sklearn/neural_network/_multilayer_perceptron.py:471: ConvergenceWarning: lbfgs failed to converge (status=1):\n",
      "STOP: TOTAL NO. of ITERATIONS REACHED LIMIT.\n",
      "\n",
      "Increase the number of iterations (max_iter) or scale the data as shown in:\n",
      "    https://scikit-learn.org/stable/modules/preprocessing.html\n",
      "  self.n_iter_ = _check_optimize_result(\"lbfgs\", opt_res, self.max_iter)\n",
      "/Users/chenliang/opt/anaconda3/lib/python3.8/site-packages/sklearn/neural_network/_multilayer_perceptron.py:471: ConvergenceWarning: lbfgs failed to converge (status=1):\n",
      "STOP: TOTAL NO. of ITERATIONS REACHED LIMIT.\n",
      "\n",
      "Increase the number of iterations (max_iter) or scale the data as shown in:\n",
      "    https://scikit-learn.org/stable/modules/preprocessing.html\n",
      "  self.n_iter_ = _check_optimize_result(\"lbfgs\", opt_res, self.max_iter)\n",
      "/Users/chenliang/opt/anaconda3/lib/python3.8/site-packages/sklearn/neural_network/_multilayer_perceptron.py:471: ConvergenceWarning: lbfgs failed to converge (status=1):\n",
      "STOP: TOTAL NO. of ITERATIONS REACHED LIMIT.\n",
      "\n",
      "Increase the number of iterations (max_iter) or scale the data as shown in:\n",
      "    https://scikit-learn.org/stable/modules/preprocessing.html\n",
      "  self.n_iter_ = _check_optimize_result(\"lbfgs\", opt_res, self.max_iter)\n",
      "/Users/chenliang/opt/anaconda3/lib/python3.8/site-packages/sklearn/neural_network/_multilayer_perceptron.py:471: ConvergenceWarning: lbfgs failed to converge (status=1):\n",
      "STOP: TOTAL NO. of ITERATIONS REACHED LIMIT.\n",
      "\n",
      "Increase the number of iterations (max_iter) or scale the data as shown in:\n",
      "    https://scikit-learn.org/stable/modules/preprocessing.html\n",
      "  self.n_iter_ = _check_optimize_result(\"lbfgs\", opt_res, self.max_iter)\n",
      "/Users/chenliang/opt/anaconda3/lib/python3.8/site-packages/sklearn/neural_network/_multilayer_perceptron.py:471: ConvergenceWarning: lbfgs failed to converge (status=1):\n",
      "STOP: TOTAL NO. of ITERATIONS REACHED LIMIT.\n",
      "\n",
      "Increase the number of iterations (max_iter) or scale the data as shown in:\n",
      "    https://scikit-learn.org/stable/modules/preprocessing.html\n",
      "  self.n_iter_ = _check_optimize_result(\"lbfgs\", opt_res, self.max_iter)\n",
      "/Users/chenliang/opt/anaconda3/lib/python3.8/site-packages/sklearn/neural_network/_multilayer_perceptron.py:471: ConvergenceWarning: lbfgs failed to converge (status=1):\n",
      "STOP: TOTAL NO. of ITERATIONS REACHED LIMIT.\n",
      "\n",
      "Increase the number of iterations (max_iter) or scale the data as shown in:\n",
      "    https://scikit-learn.org/stable/modules/preprocessing.html\n",
      "  self.n_iter_ = _check_optimize_result(\"lbfgs\", opt_res, self.max_iter)\n",
      "/Users/chenliang/opt/anaconda3/lib/python3.8/site-packages/sklearn/neural_network/_multilayer_perceptron.py:471: ConvergenceWarning: lbfgs failed to converge (status=1):\n",
      "STOP: TOTAL NO. of ITERATIONS REACHED LIMIT.\n",
      "\n",
      "Increase the number of iterations (max_iter) or scale the data as shown in:\n",
      "    https://scikit-learn.org/stable/modules/preprocessing.html\n",
      "  self.n_iter_ = _check_optimize_result(\"lbfgs\", opt_res, self.max_iter)\n",
      "/Users/chenliang/opt/anaconda3/lib/python3.8/site-packages/sklearn/neural_network/_multilayer_perceptron.py:471: ConvergenceWarning: lbfgs failed to converge (status=1):\n",
      "STOP: TOTAL NO. of ITERATIONS REACHED LIMIT.\n",
      "\n",
      "Increase the number of iterations (max_iter) or scale the data as shown in:\n",
      "    https://scikit-learn.org/stable/modules/preprocessing.html\n",
      "  self.n_iter_ = _check_optimize_result(\"lbfgs\", opt_res, self.max_iter)\n",
      "/Users/chenliang/opt/anaconda3/lib/python3.8/site-packages/sklearn/neural_network/_multilayer_perceptron.py:471: ConvergenceWarning: lbfgs failed to converge (status=1):\n",
      "STOP: TOTAL NO. of ITERATIONS REACHED LIMIT.\n",
      "\n",
      "Increase the number of iterations (max_iter) or scale the data as shown in:\n",
      "    https://scikit-learn.org/stable/modules/preprocessing.html\n",
      "  self.n_iter_ = _check_optimize_result(\"lbfgs\", opt_res, self.max_iter)\n",
      "/Users/chenliang/opt/anaconda3/lib/python3.8/site-packages/sklearn/neural_network/_multilayer_perceptron.py:471: ConvergenceWarning: lbfgs failed to converge (status=1):\n",
      "STOP: TOTAL NO. of ITERATIONS REACHED LIMIT.\n",
      "\n",
      "Increase the number of iterations (max_iter) or scale the data as shown in:\n",
      "    https://scikit-learn.org/stable/modules/preprocessing.html\n",
      "  self.n_iter_ = _check_optimize_result(\"lbfgs\", opt_res, self.max_iter)\n",
      "/Users/chenliang/opt/anaconda3/lib/python3.8/site-packages/sklearn/neural_network/_multilayer_perceptron.py:471: ConvergenceWarning: lbfgs failed to converge (status=1):\n",
      "STOP: TOTAL NO. of ITERATIONS REACHED LIMIT.\n",
      "\n",
      "Increase the number of iterations (max_iter) or scale the data as shown in:\n",
      "    https://scikit-learn.org/stable/modules/preprocessing.html\n",
      "  self.n_iter_ = _check_optimize_result(\"lbfgs\", opt_res, self.max_iter)\n",
      "/Users/chenliang/opt/anaconda3/lib/python3.8/site-packages/sklearn/neural_network/_multilayer_perceptron.py:471: ConvergenceWarning: lbfgs failed to converge (status=1):\n",
      "STOP: TOTAL NO. of ITERATIONS REACHED LIMIT.\n",
      "\n",
      "Increase the number of iterations (max_iter) or scale the data as shown in:\n",
      "    https://scikit-learn.org/stable/modules/preprocessing.html\n",
      "  self.n_iter_ = _check_optimize_result(\"lbfgs\", opt_res, self.max_iter)\n",
      "/Users/chenliang/opt/anaconda3/lib/python3.8/site-packages/sklearn/neural_network/_multilayer_perceptron.py:471: ConvergenceWarning: lbfgs failed to converge (status=1):\n",
      "STOP: TOTAL NO. of ITERATIONS REACHED LIMIT.\n",
      "\n",
      "Increase the number of iterations (max_iter) or scale the data as shown in:\n",
      "    https://scikit-learn.org/stable/modules/preprocessing.html\n",
      "  self.n_iter_ = _check_optimize_result(\"lbfgs\", opt_res, self.max_iter)\n",
      "/Users/chenliang/opt/anaconda3/lib/python3.8/site-packages/sklearn/neural_network/_multilayer_perceptron.py:471: ConvergenceWarning: lbfgs failed to converge (status=1):\n",
      "STOP: TOTAL NO. of ITERATIONS REACHED LIMIT.\n",
      "\n",
      "Increase the number of iterations (max_iter) or scale the data as shown in:\n",
      "    https://scikit-learn.org/stable/modules/preprocessing.html\n",
      "  self.n_iter_ = _check_optimize_result(\"lbfgs\", opt_res, self.max_iter)\n",
      "/Users/chenliang/opt/anaconda3/lib/python3.8/site-packages/sklearn/neural_network/_multilayer_perceptron.py:471: ConvergenceWarning: lbfgs failed to converge (status=1):\n",
      "STOP: TOTAL NO. of ITERATIONS REACHED LIMIT.\n",
      "\n",
      "Increase the number of iterations (max_iter) or scale the data as shown in:\n",
      "    https://scikit-learn.org/stable/modules/preprocessing.html\n",
      "  self.n_iter_ = _check_optimize_result(\"lbfgs\", opt_res, self.max_iter)\n",
      "/Users/chenliang/opt/anaconda3/lib/python3.8/site-packages/sklearn/neural_network/_multilayer_perceptron.py:471: ConvergenceWarning: lbfgs failed to converge (status=1):\n",
      "STOP: TOTAL NO. of ITERATIONS REACHED LIMIT.\n",
      "\n",
      "Increase the number of iterations (max_iter) or scale the data as shown in:\n",
      "    https://scikit-learn.org/stable/modules/preprocessing.html\n",
      "  self.n_iter_ = _check_optimize_result(\"lbfgs\", opt_res, self.max_iter)\n"
     ]
    },
    {
     "name": "stderr",
     "output_type": "stream",
     "text": [
      "/Users/chenliang/opt/anaconda3/lib/python3.8/site-packages/sklearn/neural_network/_multilayer_perceptron.py:471: ConvergenceWarning: lbfgs failed to converge (status=1):\n",
      "STOP: TOTAL NO. of ITERATIONS REACHED LIMIT.\n",
      "\n",
      "Increase the number of iterations (max_iter) or scale the data as shown in:\n",
      "    https://scikit-learn.org/stable/modules/preprocessing.html\n",
      "  self.n_iter_ = _check_optimize_result(\"lbfgs\", opt_res, self.max_iter)\n",
      "/Users/chenliang/opt/anaconda3/lib/python3.8/site-packages/sklearn/neural_network/_multilayer_perceptron.py:471: ConvergenceWarning: lbfgs failed to converge (status=1):\n",
      "STOP: TOTAL NO. of ITERATIONS REACHED LIMIT.\n",
      "\n",
      "Increase the number of iterations (max_iter) or scale the data as shown in:\n",
      "    https://scikit-learn.org/stable/modules/preprocessing.html\n",
      "  self.n_iter_ = _check_optimize_result(\"lbfgs\", opt_res, self.max_iter)\n",
      "/Users/chenliang/opt/anaconda3/lib/python3.8/site-packages/sklearn/neural_network/_multilayer_perceptron.py:471: ConvergenceWarning: lbfgs failed to converge (status=1):\n",
      "STOP: TOTAL NO. of ITERATIONS REACHED LIMIT.\n",
      "\n",
      "Increase the number of iterations (max_iter) or scale the data as shown in:\n",
      "    https://scikit-learn.org/stable/modules/preprocessing.html\n",
      "  self.n_iter_ = _check_optimize_result(\"lbfgs\", opt_res, self.max_iter)\n",
      "/Users/chenliang/opt/anaconda3/lib/python3.8/site-packages/sklearn/neural_network/_multilayer_perceptron.py:471: ConvergenceWarning: lbfgs failed to converge (status=1):\n",
      "STOP: TOTAL NO. of ITERATIONS REACHED LIMIT.\n",
      "\n",
      "Increase the number of iterations (max_iter) or scale the data as shown in:\n",
      "    https://scikit-learn.org/stable/modules/preprocessing.html\n",
      "  self.n_iter_ = _check_optimize_result(\"lbfgs\", opt_res, self.max_iter)\n",
      "/Users/chenliang/opt/anaconda3/lib/python3.8/site-packages/sklearn/neural_network/_multilayer_perceptron.py:471: ConvergenceWarning: lbfgs failed to converge (status=1):\n",
      "STOP: TOTAL NO. of ITERATIONS REACHED LIMIT.\n",
      "\n",
      "Increase the number of iterations (max_iter) or scale the data as shown in:\n",
      "    https://scikit-learn.org/stable/modules/preprocessing.html\n",
      "  self.n_iter_ = _check_optimize_result(\"lbfgs\", opt_res, self.max_iter)\n",
      "/Users/chenliang/opt/anaconda3/lib/python3.8/site-packages/sklearn/neural_network/_multilayer_perceptron.py:471: ConvergenceWarning: lbfgs failed to converge (status=1):\n",
      "STOP: TOTAL NO. of ITERATIONS REACHED LIMIT.\n",
      "\n",
      "Increase the number of iterations (max_iter) or scale the data as shown in:\n",
      "    https://scikit-learn.org/stable/modules/preprocessing.html\n",
      "  self.n_iter_ = _check_optimize_result(\"lbfgs\", opt_res, self.max_iter)\n",
      "/Users/chenliang/opt/anaconda3/lib/python3.8/site-packages/sklearn/neural_network/_multilayer_perceptron.py:471: ConvergenceWarning: lbfgs failed to converge (status=1):\n",
      "STOP: TOTAL NO. of ITERATIONS REACHED LIMIT.\n",
      "\n",
      "Increase the number of iterations (max_iter) or scale the data as shown in:\n",
      "    https://scikit-learn.org/stable/modules/preprocessing.html\n",
      "  self.n_iter_ = _check_optimize_result(\"lbfgs\", opt_res, self.max_iter)\n",
      "/Users/chenliang/opt/anaconda3/lib/python3.8/site-packages/sklearn/neural_network/_multilayer_perceptron.py:471: ConvergenceWarning: lbfgs failed to converge (status=1):\n",
      "STOP: TOTAL NO. of ITERATIONS REACHED LIMIT.\n",
      "\n",
      "Increase the number of iterations (max_iter) or scale the data as shown in:\n",
      "    https://scikit-learn.org/stable/modules/preprocessing.html\n",
      "  self.n_iter_ = _check_optimize_result(\"lbfgs\", opt_res, self.max_iter)\n",
      "/Users/chenliang/opt/anaconda3/lib/python3.8/site-packages/sklearn/neural_network/_multilayer_perceptron.py:471: ConvergenceWarning: lbfgs failed to converge (status=1):\n",
      "STOP: TOTAL NO. of ITERATIONS REACHED LIMIT.\n",
      "\n",
      "Increase the number of iterations (max_iter) or scale the data as shown in:\n",
      "    https://scikit-learn.org/stable/modules/preprocessing.html\n",
      "  self.n_iter_ = _check_optimize_result(\"lbfgs\", opt_res, self.max_iter)\n",
      "/Users/chenliang/opt/anaconda3/lib/python3.8/site-packages/sklearn/neural_network/_multilayer_perceptron.py:471: ConvergenceWarning: lbfgs failed to converge (status=1):\n",
      "STOP: TOTAL NO. of ITERATIONS REACHED LIMIT.\n",
      "\n",
      "Increase the number of iterations (max_iter) or scale the data as shown in:\n",
      "    https://scikit-learn.org/stable/modules/preprocessing.html\n",
      "  self.n_iter_ = _check_optimize_result(\"lbfgs\", opt_res, self.max_iter)\n",
      "/Users/chenliang/opt/anaconda3/lib/python3.8/site-packages/sklearn/neural_network/_multilayer_perceptron.py:471: ConvergenceWarning: lbfgs failed to converge (status=1):\n",
      "STOP: TOTAL NO. of ITERATIONS REACHED LIMIT.\n",
      "\n",
      "Increase the number of iterations (max_iter) or scale the data as shown in:\n",
      "    https://scikit-learn.org/stable/modules/preprocessing.html\n",
      "  self.n_iter_ = _check_optimize_result(\"lbfgs\", opt_res, self.max_iter)\n",
      "/Users/chenliang/opt/anaconda3/lib/python3.8/site-packages/sklearn/neural_network/_multilayer_perceptron.py:471: ConvergenceWarning: lbfgs failed to converge (status=1):\n",
      "STOP: TOTAL NO. of ITERATIONS REACHED LIMIT.\n",
      "\n",
      "Increase the number of iterations (max_iter) or scale the data as shown in:\n",
      "    https://scikit-learn.org/stable/modules/preprocessing.html\n",
      "  self.n_iter_ = _check_optimize_result(\"lbfgs\", opt_res, self.max_iter)\n",
      "/Users/chenliang/opt/anaconda3/lib/python3.8/site-packages/sklearn/neural_network/_multilayer_perceptron.py:471: ConvergenceWarning: lbfgs failed to converge (status=1):\n",
      "STOP: TOTAL NO. of ITERATIONS REACHED LIMIT.\n",
      "\n",
      "Increase the number of iterations (max_iter) or scale the data as shown in:\n",
      "    https://scikit-learn.org/stable/modules/preprocessing.html\n",
      "  self.n_iter_ = _check_optimize_result(\"lbfgs\", opt_res, self.max_iter)\n",
      "/Users/chenliang/opt/anaconda3/lib/python3.8/site-packages/sklearn/neural_network/_multilayer_perceptron.py:471: ConvergenceWarning: lbfgs failed to converge (status=1):\n",
      "STOP: TOTAL NO. of ITERATIONS REACHED LIMIT.\n",
      "\n",
      "Increase the number of iterations (max_iter) or scale the data as shown in:\n",
      "    https://scikit-learn.org/stable/modules/preprocessing.html\n",
      "  self.n_iter_ = _check_optimize_result(\"lbfgs\", opt_res, self.max_iter)\n",
      "/Users/chenliang/opt/anaconda3/lib/python3.8/site-packages/sklearn/neural_network/_multilayer_perceptron.py:471: ConvergenceWarning: lbfgs failed to converge (status=1):\n",
      "STOP: TOTAL NO. of ITERATIONS REACHED LIMIT.\n",
      "\n",
      "Increase the number of iterations (max_iter) or scale the data as shown in:\n",
      "    https://scikit-learn.org/stable/modules/preprocessing.html\n",
      "  self.n_iter_ = _check_optimize_result(\"lbfgs\", opt_res, self.max_iter)\n",
      "/Users/chenliang/opt/anaconda3/lib/python3.8/site-packages/sklearn/neural_network/_multilayer_perceptron.py:471: ConvergenceWarning: lbfgs failed to converge (status=1):\n",
      "STOP: TOTAL NO. of ITERATIONS REACHED LIMIT.\n",
      "\n",
      "Increase the number of iterations (max_iter) or scale the data as shown in:\n",
      "    https://scikit-learn.org/stable/modules/preprocessing.html\n",
      "  self.n_iter_ = _check_optimize_result(\"lbfgs\", opt_res, self.max_iter)\n",
      "/Users/chenliang/opt/anaconda3/lib/python3.8/site-packages/sklearn/neural_network/_multilayer_perceptron.py:471: ConvergenceWarning: lbfgs failed to converge (status=1):\n",
      "STOP: TOTAL NO. of ITERATIONS REACHED LIMIT.\n",
      "\n",
      "Increase the number of iterations (max_iter) or scale the data as shown in:\n",
      "    https://scikit-learn.org/stable/modules/preprocessing.html\n",
      "  self.n_iter_ = _check_optimize_result(\"lbfgs\", opt_res, self.max_iter)\n",
      "/Users/chenliang/opt/anaconda3/lib/python3.8/site-packages/sklearn/neural_network/_multilayer_perceptron.py:471: ConvergenceWarning: lbfgs failed to converge (status=1):\n",
      "STOP: TOTAL NO. of ITERATIONS REACHED LIMIT.\n",
      "\n",
      "Increase the number of iterations (max_iter) or scale the data as shown in:\n",
      "    https://scikit-learn.org/stable/modules/preprocessing.html\n",
      "  self.n_iter_ = _check_optimize_result(\"lbfgs\", opt_res, self.max_iter)\n",
      "/Users/chenliang/opt/anaconda3/lib/python3.8/site-packages/sklearn/neural_network/_multilayer_perceptron.py:471: ConvergenceWarning: lbfgs failed to converge (status=1):\n",
      "STOP: TOTAL NO. of ITERATIONS REACHED LIMIT.\n",
      "\n",
      "Increase the number of iterations (max_iter) or scale the data as shown in:\n",
      "    https://scikit-learn.org/stable/modules/preprocessing.html\n",
      "  self.n_iter_ = _check_optimize_result(\"lbfgs\", opt_res, self.max_iter)\n",
      "/Users/chenliang/opt/anaconda3/lib/python3.8/site-packages/sklearn/neural_network/_multilayer_perceptron.py:471: ConvergenceWarning: lbfgs failed to converge (status=1):\n",
      "STOP: TOTAL NO. of ITERATIONS REACHED LIMIT.\n",
      "\n",
      "Increase the number of iterations (max_iter) or scale the data as shown in:\n",
      "    https://scikit-learn.org/stable/modules/preprocessing.html\n",
      "  self.n_iter_ = _check_optimize_result(\"lbfgs\", opt_res, self.max_iter)\n"
     ]
    },
    {
     "name": "stderr",
     "output_type": "stream",
     "text": [
      "/Users/chenliang/opt/anaconda3/lib/python3.8/site-packages/sklearn/neural_network/_multilayer_perceptron.py:471: ConvergenceWarning: lbfgs failed to converge (status=1):\n",
      "STOP: TOTAL NO. of ITERATIONS REACHED LIMIT.\n",
      "\n",
      "Increase the number of iterations (max_iter) or scale the data as shown in:\n",
      "    https://scikit-learn.org/stable/modules/preprocessing.html\n",
      "  self.n_iter_ = _check_optimize_result(\"lbfgs\", opt_res, self.max_iter)\n",
      "/Users/chenliang/opt/anaconda3/lib/python3.8/site-packages/sklearn/neural_network/_multilayer_perceptron.py:471: ConvergenceWarning: lbfgs failed to converge (status=1):\n",
      "STOP: TOTAL NO. of ITERATIONS REACHED LIMIT.\n",
      "\n",
      "Increase the number of iterations (max_iter) or scale the data as shown in:\n",
      "    https://scikit-learn.org/stable/modules/preprocessing.html\n",
      "  self.n_iter_ = _check_optimize_result(\"lbfgs\", opt_res, self.max_iter)\n",
      "/Users/chenliang/opt/anaconda3/lib/python3.8/site-packages/sklearn/neural_network/_multilayer_perceptron.py:471: ConvergenceWarning: lbfgs failed to converge (status=1):\n",
      "STOP: TOTAL NO. of ITERATIONS REACHED LIMIT.\n",
      "\n",
      "Increase the number of iterations (max_iter) or scale the data as shown in:\n",
      "    https://scikit-learn.org/stable/modules/preprocessing.html\n",
      "  self.n_iter_ = _check_optimize_result(\"lbfgs\", opt_res, self.max_iter)\n",
      "/Users/chenliang/opt/anaconda3/lib/python3.8/site-packages/sklearn/neural_network/_multilayer_perceptron.py:471: ConvergenceWarning: lbfgs failed to converge (status=1):\n",
      "STOP: TOTAL NO. of ITERATIONS REACHED LIMIT.\n",
      "\n",
      "Increase the number of iterations (max_iter) or scale the data as shown in:\n",
      "    https://scikit-learn.org/stable/modules/preprocessing.html\n",
      "  self.n_iter_ = _check_optimize_result(\"lbfgs\", opt_res, self.max_iter)\n",
      "/Users/chenliang/opt/anaconda3/lib/python3.8/site-packages/sklearn/neural_network/_multilayer_perceptron.py:471: ConvergenceWarning: lbfgs failed to converge (status=1):\n",
      "STOP: TOTAL NO. of ITERATIONS REACHED LIMIT.\n",
      "\n",
      "Increase the number of iterations (max_iter) or scale the data as shown in:\n",
      "    https://scikit-learn.org/stable/modules/preprocessing.html\n",
      "  self.n_iter_ = _check_optimize_result(\"lbfgs\", opt_res, self.max_iter)\n",
      "/Users/chenliang/opt/anaconda3/lib/python3.8/site-packages/sklearn/neural_network/_multilayer_perceptron.py:471: ConvergenceWarning: lbfgs failed to converge (status=1):\n",
      "STOP: TOTAL NO. of ITERATIONS REACHED LIMIT.\n",
      "\n",
      "Increase the number of iterations (max_iter) or scale the data as shown in:\n",
      "    https://scikit-learn.org/stable/modules/preprocessing.html\n",
      "  self.n_iter_ = _check_optimize_result(\"lbfgs\", opt_res, self.max_iter)\n",
      "/Users/chenliang/opt/anaconda3/lib/python3.8/site-packages/sklearn/neural_network/_multilayer_perceptron.py:471: ConvergenceWarning: lbfgs failed to converge (status=1):\n",
      "STOP: TOTAL NO. of ITERATIONS REACHED LIMIT.\n",
      "\n",
      "Increase the number of iterations (max_iter) or scale the data as shown in:\n",
      "    https://scikit-learn.org/stable/modules/preprocessing.html\n",
      "  self.n_iter_ = _check_optimize_result(\"lbfgs\", opt_res, self.max_iter)\n",
      "/Users/chenliang/opt/anaconda3/lib/python3.8/site-packages/sklearn/neural_network/_multilayer_perceptron.py:471: ConvergenceWarning: lbfgs failed to converge (status=1):\n",
      "STOP: TOTAL NO. of ITERATIONS REACHED LIMIT.\n",
      "\n",
      "Increase the number of iterations (max_iter) or scale the data as shown in:\n",
      "    https://scikit-learn.org/stable/modules/preprocessing.html\n",
      "  self.n_iter_ = _check_optimize_result(\"lbfgs\", opt_res, self.max_iter)\n",
      "/Users/chenliang/opt/anaconda3/lib/python3.8/site-packages/sklearn/neural_network/_multilayer_perceptron.py:471: ConvergenceWarning: lbfgs failed to converge (status=1):\n",
      "STOP: TOTAL NO. of ITERATIONS REACHED LIMIT.\n",
      "\n",
      "Increase the number of iterations (max_iter) or scale the data as shown in:\n",
      "    https://scikit-learn.org/stable/modules/preprocessing.html\n",
      "  self.n_iter_ = _check_optimize_result(\"lbfgs\", opt_res, self.max_iter)\n",
      "/Users/chenliang/opt/anaconda3/lib/python3.8/site-packages/sklearn/neural_network/_multilayer_perceptron.py:471: ConvergenceWarning: lbfgs failed to converge (status=1):\n",
      "STOP: TOTAL NO. of ITERATIONS REACHED LIMIT.\n",
      "\n",
      "Increase the number of iterations (max_iter) or scale the data as shown in:\n",
      "    https://scikit-learn.org/stable/modules/preprocessing.html\n",
      "  self.n_iter_ = _check_optimize_result(\"lbfgs\", opt_res, self.max_iter)\n",
      "/Users/chenliang/opt/anaconda3/lib/python3.8/site-packages/sklearn/neural_network/_multilayer_perceptron.py:471: ConvergenceWarning: lbfgs failed to converge (status=1):\n",
      "STOP: TOTAL NO. of ITERATIONS REACHED LIMIT.\n",
      "\n",
      "Increase the number of iterations (max_iter) or scale the data as shown in:\n",
      "    https://scikit-learn.org/stable/modules/preprocessing.html\n",
      "  self.n_iter_ = _check_optimize_result(\"lbfgs\", opt_res, self.max_iter)\n",
      "/Users/chenliang/opt/anaconda3/lib/python3.8/site-packages/sklearn/neural_network/_multilayer_perceptron.py:471: ConvergenceWarning: lbfgs failed to converge (status=1):\n",
      "STOP: TOTAL NO. of ITERATIONS REACHED LIMIT.\n",
      "\n",
      "Increase the number of iterations (max_iter) or scale the data as shown in:\n",
      "    https://scikit-learn.org/stable/modules/preprocessing.html\n",
      "  self.n_iter_ = _check_optimize_result(\"lbfgs\", opt_res, self.max_iter)\n",
      "/Users/chenliang/opt/anaconda3/lib/python3.8/site-packages/sklearn/neural_network/_multilayer_perceptron.py:471: ConvergenceWarning: lbfgs failed to converge (status=1):\n",
      "STOP: TOTAL NO. of ITERATIONS REACHED LIMIT.\n",
      "\n",
      "Increase the number of iterations (max_iter) or scale the data as shown in:\n",
      "    https://scikit-learn.org/stable/modules/preprocessing.html\n",
      "  self.n_iter_ = _check_optimize_result(\"lbfgs\", opt_res, self.max_iter)\n",
      "/Users/chenliang/opt/anaconda3/lib/python3.8/site-packages/sklearn/neural_network/_multilayer_perceptron.py:471: ConvergenceWarning: lbfgs failed to converge (status=1):\n",
      "STOP: TOTAL NO. of ITERATIONS REACHED LIMIT.\n",
      "\n",
      "Increase the number of iterations (max_iter) or scale the data as shown in:\n",
      "    https://scikit-learn.org/stable/modules/preprocessing.html\n",
      "  self.n_iter_ = _check_optimize_result(\"lbfgs\", opt_res, self.max_iter)\n"
     ]
    },
    {
     "data": {
      "image/png": "[encoded data removed]",
      "text/plain": [
       "<Figure size 432x288 with 1 Axes>"
      ]
     },
     "metadata": {
      "needs_background": "light"
     },
     "output_type": "display_data"
    }
   ],
   "source": [
    "list1=[]\n",
    "list2=[]\n",
    "for i in range(1,95):\n",
    "    clf = MLPClassifier(solver= 'lbfgs', \n",
    "                              learning_rate =  'constant', \n",
    "                              hidden_layer_sizes = (15, 10, 5),\n",
    "                              alpha = 0.05,\n",
    "                              activation = 'tanh'\n",
    "                       )\n",
    "    \n",
    "    X_train, X_test, y_train, y_test = train_test_split(X, y, random_state=0, test_size=1-i/100)\n",
    "    clf.fit(X_train, y_train)\n",
    "    train_predict = clf.predict(X_train)\n",
    "    test_predict = clf.predict(X_test)\n",
    "    list1.append(accuracy_score(y_train, train_predict))\n",
    "    list2.append(accuracy_score(y_test, test_predict))\n",
    "\n",
    "plt.plot(range(len(list1)),list1,label=\"Training\")\n",
    "plt.plot(range(len(list2)),list2,label=\"Testing\")\n",
    "plt.xlabel(\"Training set %\")\n",
    "plt.ylabel(\"Accuracy\")\n",
    "plt.legend(loc=\"best\")\n",
    "plt.show()"
   ]
  },
  {
   "cell_type": "markdown",
   "metadata": {},
   "source": [
    "## Boosting"
   ]
  },
  {
   "cell_type": "code",
   "execution_count": 22,
   "metadata": {},
   "outputs": [
    {
     "name": "stderr",
     "output_type": "stream",
     "text": [
      "[Parallel(n_jobs=1)]: Using backend SequentialBackend with 1 concurrent workers.\n",
      "[Parallel(n_jobs=1)]: Done   1 out of   1 | elapsed:    0.0s remaining:    0.0s\n",
      "[Parallel(n_jobs=1)]: Done   2 out of   2 | elapsed:    0.0s remaining:    0.0s\n",
      "[Parallel(n_jobs=1)]: Done   3 out of   3 | elapsed:    0.0s remaining:    0.0s\n",
      "[Parallel(n_jobs=1)]: Done   4 out of   4 | elapsed:    0.0s remaining:    0.0s\n",
      "[Parallel(n_jobs=1)]: Done   5 out of   5 | elapsed:    0.0s remaining:    0.0s\n",
      "[Parallel(n_jobs=1)]: Done   6 out of   6 | elapsed:    0.1s remaining:    0.0s\n"
     ]
    },
    {
     "name": "stdout",
     "output_type": "stream",
     "text": [
      "Fitting 5 folds for each of 25 candidates, totalling 125 fits\n",
      "[CV] learning_rate=0.1, n_estimators=1 ...............................\n",
      "[CV] ... learning_rate=0.1, n_estimators=1, score=0.962, total=   0.0s\n",
      "[CV] learning_rate=0.1, n_estimators=1 ...............................\n",
      "[CV] ... learning_rate=0.1, n_estimators=1, score=0.951, total=   0.0s\n",
      "[CV] learning_rate=0.1, n_estimators=1 ...............................\n",
      "[CV] ... learning_rate=0.1, n_estimators=1, score=0.945, total=   0.0s\n",
      "[CV] learning_rate=0.1, n_estimators=1 ...............................\n",
      "[CV] ... learning_rate=0.1, n_estimators=1, score=0.957, total=   0.0s\n",
      "[CV] learning_rate=0.1, n_estimators=1 ...............................\n",
      "[CV] ... learning_rate=0.1, n_estimators=1, score=0.947, total=   0.0s\n",
      "[CV] learning_rate=0.5, n_estimators=7 ...............................\n",
      "[CV] ... learning_rate=0.5, n_estimators=7, score=0.990, total=   0.0s\n",
      "[CV] learning_rate=0.5, n_estimators=7 ...............................\n",
      "[CV] ... learning_rate=0.5, n_estimators=7, score=0.992, total=   0.0s\n",
      "[CV] learning_rate=0.5, n_estimators=7 ...............................\n",
      "[CV] ... learning_rate=0.5, n_estimators=7, score=0.994, total=   0.0s\n",
      "[CV] learning_rate=0.5, n_estimators=7 ...............................\n",
      "[CV] ... learning_rate=0.5, n_estimators=7, score=0.988, total=   0.0s\n",
      "[CV] learning_rate=0.5, n_estimators=7 ...............................\n",
      "[CV] ... learning_rate=0.5, n_estimators=7, score=0.985, total=   0.0s\n",
      "[CV] learning_rate=0.5, n_estimators=11 ..............................\n"
     ]
    },
    {
     "name": "stderr",
     "output_type": "stream",
     "text": [
      "[Parallel(n_jobs=1)]: Done   7 out of   7 | elapsed:    0.1s remaining:    0.0s\n",
      "[Parallel(n_jobs=1)]: Done   8 out of   8 | elapsed:    0.1s remaining:    0.0s\n",
      "[Parallel(n_jobs=1)]: Done   9 out of   9 | elapsed:    0.2s remaining:    0.0s\n"
     ]
    },
    {
     "name": "stdout",
     "output_type": "stream",
     "text": [
      "[CV] .. learning_rate=0.5, n_estimators=11, score=0.990, total=   0.0s\n",
      "[CV] learning_rate=0.5, n_estimators=11 ..............................\n",
      "[CV] .. learning_rate=0.5, n_estimators=11, score=0.992, total=   0.0s\n",
      "[CV] learning_rate=0.5, n_estimators=11 ..............................\n",
      "[CV] .. learning_rate=0.5, n_estimators=11, score=0.994, total=   0.0s\n",
      "[CV] learning_rate=0.5, n_estimators=11 ..............................\n",
      "[CV] .. learning_rate=0.5, n_estimators=11, score=0.988, total=   0.0s\n",
      "[CV] learning_rate=0.5, n_estimators=11 ..............................\n",
      "[CV] .. learning_rate=0.5, n_estimators=11, score=0.985, total=   0.0s\n",
      "[CV] learning_rate=0.5, n_estimators=3 ...............................\n",
      "[CV] ... learning_rate=0.5, n_estimators=3, score=0.984, total=   0.0s\n",
      "[CV] learning_rate=0.5, n_estimators=3 ...............................\n",
      "[CV] ... learning_rate=0.5, n_estimators=3, score=0.978, total=   0.0s\n",
      "[CV] learning_rate=0.5, n_estimators=3 ...............................\n",
      "[CV] ... learning_rate=0.5, n_estimators=3, score=0.969, total=   0.0s\n",
      "[CV] learning_rate=0.5, n_estimators=3 ...............................\n",
      "[CV] ... learning_rate=0.5, n_estimators=3, score=0.975, total=   0.0s\n",
      "[CV] learning_rate=0.5, n_estimators=3 ...............................\n",
      "[CV] ... learning_rate=0.5, n_estimators=3, score=0.983, total=   0.0s\n",
      "[CV] learning_rate=1, n_estimators=4 .................................\n",
      "[CV] ..... learning_rate=1, n_estimators=4, score=0.994, total=   0.0s\n",
      "[CV] learning_rate=1, n_estimators=4 .................................\n",
      "[CV] ..... learning_rate=1, n_estimators=4, score=0.989, total=   0.0s\n",
      "[CV] learning_rate=1, n_estimators=4 .................................\n",
      "[CV] ..... learning_rate=1, n_estimators=4, score=0.994, total=   0.0s\n",
      "[CV] learning_rate=1, n_estimators=4 .................................\n",
      "[CV] ..... learning_rate=1, n_estimators=4, score=0.988, total=   0.0s\n",
      "[CV] learning_rate=1, n_estimators=4 .................................\n",
      "[CV] ..... learning_rate=1, n_estimators=4, score=0.985, total=   0.0s\n",
      "[CV] learning_rate=5, n_estimators=2 .................................\n",
      "[CV] ..... learning_rate=5, n_estimators=2, score=0.956, total=   0.0s\n",
      "[CV] learning_rate=5, n_estimators=2 .................................\n",
      "[CV] ..... learning_rate=5, n_estimators=2, score=0.947, total=   0.0s\n",
      "[CV] learning_rate=5, n_estimators=2 .................................\n",
      "[CV] ..... learning_rate=5, n_estimators=2, score=0.945, total=   0.0s\n",
      "[CV] learning_rate=5, n_estimators=2 .................................\n",
      "[CV] ..... learning_rate=5, n_estimators=2, score=0.931, total=   0.0s\n",
      "[CV] learning_rate=5, n_estimators=2 .................................\n",
      "[CV] ..... learning_rate=5, n_estimators=2, score=0.953, total=   0.0s\n",
      "[CV] learning_rate=1, n_estimators=2 .................................\n",
      "[CV] ..... learning_rate=1, n_estimators=2, score=0.984, total=   0.0s\n",
      "[CV] learning_rate=1, n_estimators=2 .................................\n",
      "[CV] ..... learning_rate=1, n_estimators=2, score=0.978, total=   0.0s\n",
      "[CV] learning_rate=1, n_estimators=2 .................................\n",
      "[CV] ..... learning_rate=1, n_estimators=2, score=0.969, total=   0.0s\n",
      "[CV] learning_rate=1, n_estimators=2 .................................\n",
      "[CV] ..... learning_rate=1, n_estimators=2, score=0.975, total=   0.0s\n",
      "[CV] learning_rate=1, n_estimators=2 .................................\n",
      "[CV] ..... learning_rate=1, n_estimators=2, score=0.972, total=   0.0s\n",
      "[CV] learning_rate=5, n_estimators=14 ................................\n",
      "[CV] .... learning_rate=5, n_estimators=14, score=0.955, total=   0.0s\n",
      "[CV] learning_rate=5, n_estimators=14 ................................\n",
      "[CV] .... learning_rate=5, n_estimators=14, score=0.974, total=   0.0s\n",
      "[CV] learning_rate=5, n_estimators=14 ................................\n",
      "[CV] .... learning_rate=5, n_estimators=14, score=0.923, total=   0.0s\n",
      "[CV] learning_rate=5, n_estimators=14 ................................\n",
      "[CV] .... learning_rate=5, n_estimators=14, score=0.972, total=   0.0s\n",
      "[CV] learning_rate=5, n_estimators=14 ................................\n",
      "[CV] .... learning_rate=5, n_estimators=14, score=0.971, total=   0.0s\n",
      "[CV] learning_rate=1, n_estimators=7 .................................\n",
      "[CV] ..... learning_rate=1, n_estimators=7, score=0.990, total=   0.0s\n",
      "[CV] learning_rate=1, n_estimators=7 .................................\n",
      "[CV] ..... learning_rate=1, n_estimators=7, score=0.992, total=   0.0s\n",
      "[CV] learning_rate=1, n_estimators=7 .................................\n",
      "[CV] ..... learning_rate=1, n_estimators=7, score=0.994, total=   0.0s\n",
      "[CV] learning_rate=1, n_estimators=7 .................................\n",
      "[CV] ..... learning_rate=1, n_estimators=7, score=0.988, total=   0.0s\n",
      "[CV] learning_rate=1, n_estimators=7 .................................\n",
      "[CV] ..... learning_rate=1, n_estimators=7, score=0.985, total=   0.0s\n",
      "[CV] learning_rate=0.5, n_estimators=2 ...............................\n",
      "[CV] ... learning_rate=0.5, n_estimators=2, score=0.984, total=   0.0s\n",
      "[CV] learning_rate=0.5, n_estimators=2 ...............................\n",
      "[CV] ... learning_rate=0.5, n_estimators=2, score=0.978, total=   0.0s\n",
      "[CV] learning_rate=0.5, n_estimators=2 ...............................\n",
      "[CV] ... learning_rate=0.5, n_estimators=2, score=0.969, total=   0.0s\n",
      "[CV] learning_rate=0.5, n_estimators=2 ...............................\n",
      "[CV] ... learning_rate=0.5, n_estimators=2, score=0.975, total=   0.0s\n",
      "[CV] learning_rate=0.5, n_estimators=2 ...............................\n",
      "[CV] ... learning_rate=0.5, n_estimators=2, score=0.972, total=   0.0s\n",
      "[CV] learning_rate=1, n_estimators=5 .................................\n",
      "[CV] ..... learning_rate=1, n_estimators=5, score=0.990, total=   0.0s\n",
      "[CV] learning_rate=1, n_estimators=5 .................................\n",
      "[CV] ..... learning_rate=1, n_estimators=5, score=0.992, total=   0.0s\n",
      "[CV] learning_rate=1, n_estimators=5 .................................\n",
      "[CV] ..... learning_rate=1, n_estimators=5, score=0.994, total=   0.0s\n",
      "[CV] learning_rate=1, n_estimators=5 .................................\n",
      "[CV] ..... learning_rate=1, n_estimators=5, score=0.988, total=   0.0s\n",
      "[CV] learning_rate=1, n_estimators=5 .................................\n",
      "[CV] ..... learning_rate=1, n_estimators=5, score=0.985, total=   0.0s\n",
      "[CV] learning_rate=0.1, n_estimators=12 ..............................\n",
      "[CV] .. learning_rate=0.1, n_estimators=12, score=0.994, total=   0.0s\n",
      "[CV] learning_rate=0.1, n_estimators=12 ..............................\n",
      "[CV] .. learning_rate=0.1, n_estimators=12, score=0.992, total=   0.1s\n",
      "[CV] learning_rate=0.1, n_estimators=12 ..............................\n",
      "[CV] .. learning_rate=0.1, n_estimators=12, score=0.969, total=   0.1s\n",
      "[CV] learning_rate=0.1, n_estimators=12 ..............................\n",
      "[CV] .. learning_rate=0.1, n_estimators=12, score=0.988, total=   0.0s\n",
      "[CV] learning_rate=0.1, n_estimators=12 ..............................\n",
      "[CV] .. learning_rate=0.1, n_estimators=12, score=0.985, total=   0.1s\n",
      "[CV] learning_rate=0.1, n_estimators=1 ...............................\n",
      "[CV] ... learning_rate=0.1, n_estimators=1, score=0.962, total=   0.0s\n",
      "[CV] learning_rate=0.1, n_estimators=1 ...............................\n",
      "[CV] ... learning_rate=0.1, n_estimators=1, score=0.951, total=   0.0s\n",
      "[CV] learning_rate=0.1, n_estimators=1 ...............................\n",
      "[CV] ... learning_rate=0.1, n_estimators=1, score=0.945, total=   0.0s\n",
      "[CV] learning_rate=0.1, n_estimators=1 ...............................\n",
      "[CV] ... learning_rate=0.1, n_estimators=1, score=0.957, total=   0.0s\n",
      "[CV] learning_rate=0.1, n_estimators=1 ...............................\n",
      "[CV] ... learning_rate=0.1, n_estimators=1, score=0.947, total=   0.0s\n",
      "[CV] learning_rate=0.5, n_estimators=7 ...............................\n",
      "[CV] ... learning_rate=0.5, n_estimators=7, score=0.990, total=   0.0s\n",
      "[CV] learning_rate=0.5, n_estimators=7 ...............................\n",
      "[CV] ... learning_rate=0.5, n_estimators=7, score=0.992, total=   0.0s\n",
      "[CV] learning_rate=0.5, n_estimators=7 ...............................\n",
      "[CV] ... learning_rate=0.5, n_estimators=7, score=0.994, total=   0.0s\n",
      "[CV] learning_rate=0.5, n_estimators=7 ...............................\n",
      "[CV] ... learning_rate=0.5, n_estimators=7, score=0.988, total=   0.0s\n",
      "[CV] learning_rate=0.5, n_estimators=7 ...............................\n",
      "[CV] ... learning_rate=0.5, n_estimators=7, score=0.985, total=   0.0s\n",
      "[CV] learning_rate=5, n_estimators=12 ................................\n",
      "[CV] .... learning_rate=5, n_estimators=12, score=0.955, total=   0.0s\n",
      "[CV] learning_rate=5, n_estimators=12 ................................\n"
     ]
    },
    {
     "name": "stdout",
     "output_type": "stream",
     "text": [
      "[CV] .... learning_rate=5, n_estimators=12, score=0.923, total=   0.0s\n",
      "[CV] learning_rate=5, n_estimators=12 ................................\n",
      "[CV] .... learning_rate=5, n_estimators=12, score=0.947, total=   0.0s\n",
      "[CV] learning_rate=5, n_estimators=12 ................................\n",
      "[CV] .... learning_rate=5, n_estimators=12, score=0.918, total=   0.0s\n",
      "[CV] learning_rate=5, n_estimators=12 ................................\n",
      "[CV] .... learning_rate=5, n_estimators=12, score=0.935, total=   0.0s\n",
      "[CV] learning_rate=0.5, n_estimators=6 ...............................\n",
      "[CV] ... learning_rate=0.5, n_estimators=6, score=0.990, total=   0.0s\n",
      "[CV] learning_rate=0.5, n_estimators=6 ...............................\n",
      "[CV] ... learning_rate=0.5, n_estimators=6, score=0.992, total=   0.0s\n",
      "[CV] learning_rate=0.5, n_estimators=6 ...............................\n",
      "[CV] ... learning_rate=0.5, n_estimators=6, score=0.994, total=   0.0s\n",
      "[CV] learning_rate=0.5, n_estimators=6 ...............................\n",
      "[CV] ... learning_rate=0.5, n_estimators=6, score=0.988, total=   0.0s\n",
      "[CV] learning_rate=0.5, n_estimators=6 ...............................\n",
      "[CV] ... learning_rate=0.5, n_estimators=6, score=0.985, total=   0.0s\n",
      "[CV] learning_rate=0.1, n_estimators=7 ...............................\n",
      "[CV] ... learning_rate=0.1, n_estimators=7, score=0.984, total=   0.0s\n",
      "[CV] learning_rate=0.1, n_estimators=7 ...............................\n",
      "[CV] ... learning_rate=0.1, n_estimators=7, score=0.978, total=   0.0s\n",
      "[CV] learning_rate=0.1, n_estimators=7 ...............................\n",
      "[CV] ... learning_rate=0.1, n_estimators=7, score=0.969, total=   0.0s\n",
      "[CV] learning_rate=0.1, n_estimators=7 ...............................\n",
      "[CV] ... learning_rate=0.1, n_estimators=7, score=0.975, total=   0.0s\n",
      "[CV] learning_rate=0.1, n_estimators=7 ...............................\n",
      "[CV] ... learning_rate=0.1, n_estimators=7, score=0.972, total=   0.0s\n",
      "[CV] learning_rate=0.1, n_estimators=13 ..............................\n",
      "[CV] .. learning_rate=0.1, n_estimators=13, score=0.994, total=   0.0s\n",
      "[CV] learning_rate=0.1, n_estimators=13 ..............................\n",
      "[CV] .. learning_rate=0.1, n_estimators=13, score=0.992, total=   0.0s\n",
      "[CV] learning_rate=0.1, n_estimators=13 ..............................\n",
      "[CV] .. learning_rate=0.1, n_estimators=13, score=0.969, total=   0.0s\n",
      "[CV] learning_rate=0.1, n_estimators=13 ..............................\n",
      "[CV] .. learning_rate=0.1, n_estimators=13, score=0.988, total=   0.0s\n",
      "[CV] learning_rate=0.1, n_estimators=13 ..............................\n",
      "[CV] .. learning_rate=0.1, n_estimators=13, score=0.985, total=   0.0s\n",
      "[CV] learning_rate=1, n_estimators=7 .................................\n",
      "[CV] ..... learning_rate=1, n_estimators=7, score=0.990, total=   0.0s\n",
      "[CV] learning_rate=1, n_estimators=7 .................................\n",
      "[CV] ..... learning_rate=1, n_estimators=7, score=0.992, total=   0.0s\n",
      "[CV] learning_rate=1, n_estimators=7 .................................\n",
      "[CV] ..... learning_rate=1, n_estimators=7, score=0.994, total=   0.0s\n",
      "[CV] learning_rate=1, n_estimators=7 .................................\n",
      "[CV] ..... learning_rate=1, n_estimators=7, score=0.988, total=   0.0s\n",
      "[CV] learning_rate=1, n_estimators=7 .................................\n",
      "[CV] ..... learning_rate=1, n_estimators=7, score=0.985, total=   0.0s\n",
      "[CV] learning_rate=0.5, n_estimators=14 ..............................\n",
      "[CV] .. learning_rate=0.5, n_estimators=14, score=0.990, total=   0.1s\n",
      "[CV] learning_rate=0.5, n_estimators=14 ..............................\n",
      "[CV] .. learning_rate=0.5, n_estimators=14, score=0.992, total=   0.1s\n",
      "[CV] learning_rate=0.5, n_estimators=14 ..............................\n",
      "[CV] .. learning_rate=0.5, n_estimators=14, score=0.994, total=   0.1s\n",
      "[CV] learning_rate=0.5, n_estimators=14 ..............................\n",
      "[CV] .. learning_rate=0.5, n_estimators=14, score=0.988, total=   0.1s\n",
      "[CV] learning_rate=0.5, n_estimators=14 ..............................\n",
      "[CV] .. learning_rate=0.5, n_estimators=14, score=0.985, total=   0.1s\n",
      "[CV] learning_rate=5, n_estimators=1 .................................\n",
      "[CV] ..... learning_rate=5, n_estimators=1, score=0.962, total=   0.0s\n",
      "[CV] learning_rate=5, n_estimators=1 .................................\n",
      "[CV] ..... learning_rate=5, n_estimators=1, score=0.951, total=   0.0s\n",
      "[CV] learning_rate=5, n_estimators=1 .................................\n",
      "[CV] ..... learning_rate=5, n_estimators=1, score=0.945, total=   0.0s\n",
      "[CV] learning_rate=5, n_estimators=1 .................................\n",
      "[CV] ..... learning_rate=5, n_estimators=1, score=0.957, total=   0.0s\n",
      "[CV] learning_rate=5, n_estimators=1 .................................\n",
      "[CV] ..... learning_rate=5, n_estimators=1, score=0.947, total=   0.0s\n",
      "[CV] learning_rate=0.5, n_estimators=6 ...............................\n",
      "[CV] ... learning_rate=0.5, n_estimators=6, score=0.990, total=   0.0s\n",
      "[CV] learning_rate=0.5, n_estimators=6 ...............................\n",
      "[CV] ... learning_rate=0.5, n_estimators=6, score=0.992, total=   0.0s\n",
      "[CV] learning_rate=0.5, n_estimators=6 ...............................\n",
      "[CV] ... learning_rate=0.5, n_estimators=6, score=0.994, total=   0.0s\n",
      "[CV] learning_rate=0.5, n_estimators=6 ...............................\n",
      "[CV] ... learning_rate=0.5, n_estimators=6, score=0.988, total=   0.0s\n",
      "[CV] learning_rate=0.5, n_estimators=6 ...............................\n",
      "[CV] ... learning_rate=0.5, n_estimators=6, score=0.985, total=   0.0s\n",
      "[CV] learning_rate=1, n_estimators=9 .................................\n",
      "[CV] ..... learning_rate=1, n_estimators=9, score=0.990, total=   0.0s\n",
      "[CV] learning_rate=1, n_estimators=9 .................................\n",
      "[CV] ..... learning_rate=1, n_estimators=9, score=0.992, total=   0.0s\n",
      "[CV] learning_rate=1, n_estimators=9 .................................\n",
      "[CV] ..... learning_rate=1, n_estimators=9, score=0.994, total=   0.0s\n",
      "[CV] learning_rate=1, n_estimators=9 .................................\n",
      "[CV] ..... learning_rate=1, n_estimators=9, score=0.988, total=   0.0s\n",
      "[CV] learning_rate=1, n_estimators=9 .................................\n",
      "[CV] ..... learning_rate=1, n_estimators=9, score=0.985, total=   0.0s\n",
      "[CV] learning_rate=0.5, n_estimators=5 ...............................\n",
      "[CV] ... learning_rate=0.5, n_estimators=5, score=0.990, total=   0.0s\n",
      "[CV] learning_rate=0.5, n_estimators=5 ...............................\n",
      "[CV] ... learning_rate=0.5, n_estimators=5, score=0.992, total=   0.0s\n",
      "[CV] learning_rate=0.5, n_estimators=5 ...............................\n",
      "[CV] ... learning_rate=0.5, n_estimators=5, score=0.994, total=   0.0s\n",
      "[CV] learning_rate=0.5, n_estimators=5 ...............................\n",
      "[CV] ... learning_rate=0.5, n_estimators=5, score=0.988, total=   0.0s\n",
      "[CV] learning_rate=0.5, n_estimators=5 ...............................\n",
      "[CV] ... learning_rate=0.5, n_estimators=5, score=0.985, total=   0.0s\n",
      "[CV] learning_rate=1, n_estimators=1 .................................\n",
      "[CV] ..... learning_rate=1, n_estimators=1, score=0.962, total=   0.0s\n",
      "[CV] learning_rate=1, n_estimators=1 .................................\n",
      "[CV] ..... learning_rate=1, n_estimators=1, score=0.951, total=   0.0s\n",
      "[CV] learning_rate=1, n_estimators=1 .................................\n",
      "[CV] ..... learning_rate=1, n_estimators=1, score=0.945, total=   0.0s\n",
      "[CV] learning_rate=1, n_estimators=1 .................................\n",
      "[CV] ..... learning_rate=1, n_estimators=1, score=0.957, total=   0.0s\n",
      "[CV] learning_rate=1, n_estimators=1 .................................\n",
      "[CV] ..... learning_rate=1, n_estimators=1, score=0.947, total=   0.0s\n",
      "Best hyperparameters are: \n",
      "{'learning_rate': 0.5, 'n_estimators': 7}\n"
     ]
    },
    {
     "name": "stderr",
     "output_type": "stream",
     "text": [
      "[Parallel(n_jobs=1)]: Done 125 out of 125 | elapsed:    3.3s finished\n"
     ]
    }
   ],
   "source": [
    "## \n",
    "clf = AdaBoostClassifier()\n",
    "param_dist = {\"n_estimators\" : randint(1, 15),\n",
    "              \"learning_rate\" : [0.1,0.5,1,5], \n",
    "              }\n",
    "kfold = KFold(n_splits = 5, random_state = None)\n",
    "random_search = RandomizedSearchCV(clf, param_distributions=param_dist,\n",
    "                                   n_iter=25,cv=kfold,scoring = 'accuracy',verbose = 10)\n",
    "random_search.fit(X, y)\n",
    "print(\"Best hyperparameters are: \")\n",
    "print(random_search.best_params_)\n"
   ]
  },
  {
   "cell_type": "code",
   "execution_count": 51,
   "metadata": {},
   "outputs": [
    {
     "data": {
      "image/png": "[encoded data removed]",
      "text/plain": [
       "<Figure size 432x288 with 1 Axes>"
      ]
     },
     "metadata": {
      "needs_background": "light"
     },
     "output_type": "display_data"
    }
   ],
   "source": [
    "list1=[]\n",
    "list2=[]\n",
    "for i in range(1,95):\n",
    "    clf = AdaBoostClassifier(n_estimators=7, learning_rate = 0.5)    \n",
    "    X_train, X_test, y_train, y_test = train_test_split(X, y, random_state=0, test_size=1-i/100)\n",
    "    clf.fit(X_train, y_train)\n",
    "    train_predict = clf.predict(X_train)\n",
    "    test_predict = clf.predict(X_test)\n",
    "    list1.append(accuracy_score(y_train, train_predict))\n",
    "    list2.append(accuracy_score(y_test, test_predict))\n",
    "plt.plot(range(len(list1)),list1,label=\"Training\")\n",
    "plt.plot(range(len(list2)),list2,label=\"Testing\")\n",
    "plt.xlabel(\"Training set %\")\n",
    "plt.ylabel(\"Accuracy\")\n",
    "plt.legend(loc=\"best\")\n",
    "plt.show()\n"
   ]
  },
  {
   "cell_type": "markdown",
   "metadata": {},
   "source": [
    "## Support Vector Machines"
   ]
  },
  {
   "cell_type": "code",
   "execution_count": 44,
   "metadata": {},
   "outputs": [
    {
     "name": "stderr",
     "output_type": "stream",
     "text": [
      "/Users/chenliang/opt/anaconda3/lib/python3.8/site-packages/sklearn/model_selection/_search.py:278: UserWarning: The total space of parameters 21 is smaller than n_iter=25. Running 21 iterations. For exhaustive searches, use GridSearchCV.\n",
      "  warnings.warn(\n",
      "[Parallel(n_jobs=1)]: Using backend SequentialBackend with 1 concurrent workers.\n"
     ]
    },
    {
     "name": "stdout",
     "output_type": "stream",
     "text": [
      "Fitting 5 folds for each of 21 candidates, totalling 105 fits\n",
      "[CV] kernel=rbf, C=0.1 ...............................................\n",
      "[CV] ................... kernel=rbf, C=0.1, score=0.935, total=   0.3s\n",
      "[CV] kernel=rbf, C=0.1 ...............................................\n"
     ]
    },
    {
     "name": "stderr",
     "output_type": "stream",
     "text": [
      "[Parallel(n_jobs=1)]: Done   1 out of   1 | elapsed:    0.3s remaining:    0.0s\n"
     ]
    },
    {
     "name": "stdout",
     "output_type": "stream",
     "text": [
      "[CV] ................... kernel=rbf, C=0.1, score=0.922, total=   0.3s\n",
      "[CV] kernel=rbf, C=0.1 ...............................................\n"
     ]
    },
    {
     "name": "stderr",
     "output_type": "stream",
     "text": [
      "[Parallel(n_jobs=1)]: Done   2 out of   2 | elapsed:    0.7s remaining:    0.0s\n"
     ]
    },
    {
     "name": "stdout",
     "output_type": "stream",
     "text": [
      "[CV] ................... kernel=rbf, C=0.1, score=0.924, total=   0.3s\n",
      "[CV] kernel=rbf, C=0.1 ...............................................\n"
     ]
    },
    {
     "name": "stderr",
     "output_type": "stream",
     "text": [
      "[Parallel(n_jobs=1)]: Done   3 out of   3 | elapsed:    0.9s remaining:    0.0s\n"
     ]
    },
    {
     "name": "stdout",
     "output_type": "stream",
     "text": [
      "[CV] ................... kernel=rbf, C=0.1, score=0.917, total=   0.3s\n",
      "[CV] kernel=rbf, C=0.1 ...............................................\n"
     ]
    },
    {
     "name": "stderr",
     "output_type": "stream",
     "text": [
      "[Parallel(n_jobs=1)]: Done   4 out of   4 | elapsed:    1.2s remaining:    0.0s\n"
     ]
    },
    {
     "name": "stdout",
     "output_type": "stream",
     "text": [
      "[CV] ................... kernel=rbf, C=0.1, score=0.931, total=   0.3s\n",
      "[CV] kernel=rbf, C=0.5 ...............................................\n"
     ]
    },
    {
     "name": "stderr",
     "output_type": "stream",
     "text": [
      "[Parallel(n_jobs=1)]: Done   5 out of   5 | elapsed:    1.5s remaining:    0.0s\n"
     ]
    },
    {
     "name": "stdout",
     "output_type": "stream",
     "text": [
      "[CV] ................... kernel=rbf, C=0.5, score=0.936, total=   0.3s\n",
      "[CV] kernel=rbf, C=0.5 ...............................................\n"
     ]
    },
    {
     "name": "stderr",
     "output_type": "stream",
     "text": [
      "[Parallel(n_jobs=1)]: Done   6 out of   6 | elapsed:    1.9s remaining:    0.0s\n"
     ]
    },
    {
     "name": "stdout",
     "output_type": "stream",
     "text": [
      "[CV] ................... kernel=rbf, C=0.5, score=0.924, total=   0.3s\n",
      "[CV] kernel=rbf, C=0.5 ...............................................\n"
     ]
    },
    {
     "name": "stderr",
     "output_type": "stream",
     "text": [
      "[Parallel(n_jobs=1)]: Done   7 out of   7 | elapsed:    2.2s remaining:    0.0s\n"
     ]
    },
    {
     "name": "stdout",
     "output_type": "stream",
     "text": [
      "[CV] ................... kernel=rbf, C=0.5, score=0.925, total=   0.3s\n",
      "[CV] kernel=rbf, C=0.5 ...............................................\n"
     ]
    },
    {
     "name": "stderr",
     "output_type": "stream",
     "text": [
      "[Parallel(n_jobs=1)]: Done   8 out of   8 | elapsed:    2.5s remaining:    0.0s\n"
     ]
    },
    {
     "name": "stdout",
     "output_type": "stream",
     "text": [
      "[CV] ................... kernel=rbf, C=0.5, score=0.920, total=   0.3s\n",
      "[CV] kernel=rbf, C=0.5 ...............................................\n"
     ]
    },
    {
     "name": "stderr",
     "output_type": "stream",
     "text": [
      "[Parallel(n_jobs=1)]: Done   9 out of   9 | elapsed:    2.8s remaining:    0.0s\n"
     ]
    },
    {
     "name": "stdout",
     "output_type": "stream",
     "text": [
      "[CV] ................... kernel=rbf, C=0.5, score=0.933, total=   0.3s\n",
      "[CV] kernel=rbf, C=1 .................................................\n",
      "[CV] ..................... kernel=rbf, C=1, score=0.940, total=   0.4s\n",
      "[CV] kernel=rbf, C=1 .................................................\n",
      "[CV] ..................... kernel=rbf, C=1, score=0.929, total=   0.4s\n",
      "[CV] kernel=rbf, C=1 .................................................\n",
      "[CV] ..................... kernel=rbf, C=1, score=0.929, total=   0.4s\n",
      "[CV] kernel=rbf, C=1 .................................................\n",
      "[CV] ..................... kernel=rbf, C=1, score=0.924, total=   0.3s\n",
      "[CV] kernel=rbf, C=1 .................................................\n",
      "[CV] ..................... kernel=rbf, C=1, score=0.933, total=   0.3s\n",
      "[CV] kernel=rbf, C=5 .................................................\n",
      "[CV] ..................... kernel=rbf, C=5, score=0.948, total=   0.3s\n",
      "[CV] kernel=rbf, C=5 .................................................\n",
      "[CV] ..................... kernel=rbf, C=5, score=0.938, total=   0.3s\n",
      "[CV] kernel=rbf, C=5 .................................................\n",
      "[CV] ..................... kernel=rbf, C=5, score=0.940, total=   0.3s\n",
      "[CV] kernel=rbf, C=5 .................................................\n",
      "[CV] ..................... kernel=rbf, C=5, score=0.926, total=   0.3s\n",
      "[CV] kernel=rbf, C=5 .................................................\n",
      "[CV] ..................... kernel=rbf, C=5, score=0.938, total=   0.3s\n",
      "[CV] kernel=rbf, C=10 ................................................\n",
      "[CV] .................... kernel=rbf, C=10, score=0.949, total=   0.3s\n",
      "[CV] kernel=rbf, C=10 ................................................\n",
      "[CV] .................... kernel=rbf, C=10, score=0.939, total=   0.3s\n",
      "[CV] kernel=rbf, C=10 ................................................\n",
      "[CV] .................... kernel=rbf, C=10, score=0.944, total=   0.3s\n",
      "[CV] kernel=rbf, C=10 ................................................\n",
      "[CV] .................... kernel=rbf, C=10, score=0.926, total=   0.3s\n",
      "[CV] kernel=rbf, C=10 ................................................\n",
      "[CV] .................... kernel=rbf, C=10, score=0.939, total=   0.3s\n",
      "[CV] kernel=rbf, C=20 ................................................\n",
      "[CV] .................... kernel=rbf, C=20, score=0.954, total=   0.3s\n",
      "[CV] kernel=rbf, C=20 ................................................\n",
      "[CV] .................... kernel=rbf, C=20, score=0.942, total=   0.3s\n",
      "[CV] kernel=rbf, C=20 ................................................\n",
      "[CV] .................... kernel=rbf, C=20, score=0.950, total=   0.3s\n",
      "[CV] kernel=rbf, C=20 ................................................\n",
      "[CV] .................... kernel=rbf, C=20, score=0.928, total=   0.3s\n",
      "[CV] kernel=rbf, C=20 ................................................\n",
      "[CV] .................... kernel=rbf, C=20, score=0.944, total=   0.3s\n",
      "[CV] kernel=rbf, C=30 ................................................\n",
      "[CV] .................... kernel=rbf, C=30, score=0.957, total=   0.3s\n",
      "[CV] kernel=rbf, C=30 ................................................\n",
      "[CV] .................... kernel=rbf, C=30, score=0.944, total=   0.3s\n",
      "[CV] kernel=rbf, C=30 ................................................\n",
      "[CV] .................... kernel=rbf, C=30, score=0.951, total=   0.3s\n",
      "[CV] kernel=rbf, C=30 ................................................\n",
      "[CV] .................... kernel=rbf, C=30, score=0.928, total=   0.3s\n",
      "[CV] kernel=rbf, C=30 ................................................\n",
      "[CV] .................... kernel=rbf, C=30, score=0.944, total=   0.3s\n",
      "[CV] kernel=linear, C=0.1 ............................................\n",
      "[CV] ................ kernel=linear, C=0.1, score=0.935, total=   0.2s\n",
      "[CV] kernel=linear, C=0.1 ............................................\n",
      "[CV] ................ kernel=linear, C=0.1, score=0.922, total=   0.2s\n",
      "[CV] kernel=linear, C=0.1 ............................................\n",
      "[CV] ................ kernel=linear, C=0.1, score=0.924, total=   0.2s\n",
      "[CV] kernel=linear, C=0.1 ............................................\n",
      "[CV] ................ kernel=linear, C=0.1, score=0.917, total=   0.2s\n",
      "[CV] kernel=linear, C=0.1 ............................................\n",
      "[CV] ................ kernel=linear, C=0.1, score=0.931, total=   0.2s\n",
      "[CV] kernel=linear, C=0.5 ............................................\n",
      "[CV] ................ kernel=linear, C=0.5, score=0.935, total=   0.2s\n",
      "[CV] kernel=linear, C=0.5 ............................................\n",
      "[CV] ................ kernel=linear, C=0.5, score=0.926, total=   0.2s\n",
      "[CV] kernel=linear, C=0.5 ............................................\n",
      "[CV] ................ kernel=linear, C=0.5, score=0.924, total=   0.2s\n",
      "[CV] kernel=linear, C=0.5 ............................................\n",
      "[CV] ................ kernel=linear, C=0.5, score=0.921, total=   0.2s\n",
      "[CV] kernel=linear, C=0.5 ............................................\n",
      "[CV] ................ kernel=linear, C=0.5, score=0.933, total=   0.3s\n",
      "[CV] kernel=linear, C=1 ..............................................\n",
      "[CV] .................. kernel=linear, C=1, score=0.940, total=   0.3s\n",
      "[CV] kernel=linear, C=1 ..............................................\n",
      "[CV] .................. kernel=linear, C=1, score=0.930, total=   0.3s\n",
      "[CV] kernel=linear, C=1 ..............................................\n",
      "[CV] .................. kernel=linear, C=1, score=0.931, total=   0.3s\n",
      "[CV] kernel=linear, C=1 ..............................................\n",
      "[CV] .................. kernel=linear, C=1, score=0.924, total=   0.3s\n",
      "[CV] kernel=linear, C=1 ..............................................\n",
      "[CV] .................. kernel=linear, C=1, score=0.934, total=   0.3s\n",
      "[CV] kernel=linear, C=5 ..............................................\n",
      "[CV] .................. kernel=linear, C=5, score=0.949, total=   0.3s\n",
      "[CV] kernel=linear, C=5 ..............................................\n",
      "[CV] .................. kernel=linear, C=5, score=0.938, total=   0.3s\n",
      "[CV] kernel=linear, C=5 ..............................................\n",
      "[CV] .................. kernel=linear, C=5, score=0.940, total=   0.3s\n",
      "[CV] kernel=linear, C=5 ..............................................\n",
      "[CV] .................. kernel=linear, C=5, score=0.927, total=   0.3s\n",
      "[CV] kernel=linear, C=5 ..............................................\n",
      "[CV] .................. kernel=linear, C=5, score=0.936, total=   0.3s\n",
      "[CV] kernel=linear, C=10 .............................................\n",
      "[CV] ................. kernel=linear, C=10, score=0.949, total=   0.3s\n",
      "[CV] kernel=linear, C=10 .............................................\n",
      "[CV] ................. kernel=linear, C=10, score=0.942, total=   0.3s\n",
      "[CV] kernel=linear, C=10 .............................................\n",
      "[CV] ................. kernel=linear, C=10, score=0.942, total=   0.3s\n",
      "[CV] kernel=linear, C=10 .............................................\n",
      "[CV] ................. kernel=linear, C=10, score=0.929, total=   0.3s\n",
      "[CV] kernel=linear, C=10 .............................................\n",
      "[CV] ................. kernel=linear, C=10, score=0.939, total=   0.3s\n",
      "[CV] kernel=linear, C=20 .............................................\n",
      "[CV] ................. kernel=linear, C=20, score=0.951, total=   0.3s\n",
      "[CV] kernel=linear, C=20 .............................................\n",
      "[CV] ................. kernel=linear, C=20, score=0.944, total=   0.3s\n",
      "[CV] kernel=linear, C=20 .............................................\n",
      "[CV] ................. kernel=linear, C=20, score=0.948, total=   0.3s\n",
      "[CV] kernel=linear, C=20 .............................................\n",
      "[CV] ................. kernel=linear, C=20, score=0.933, total=   0.3s\n",
      "[CV] kernel=linear, C=20 .............................................\n",
      "[CV] ................. kernel=linear, C=20, score=0.940, total=   0.3s\n",
      "[CV] kernel=linear, C=30 .............................................\n",
      "[CV] ................. kernel=linear, C=30, score=0.956, total=   0.3s\n",
      "[CV] kernel=linear, C=30 .............................................\n",
      "[CV] ................. kernel=linear, C=30, score=0.947, total=   0.2s\n",
      "[CV] kernel=linear, C=30 .............................................\n"
     ]
    },
    {
     "name": "stdout",
     "output_type": "stream",
     "text": [
      "[CV] ................. kernel=linear, C=30, score=0.951, total=   0.3s\n",
      "[CV] kernel=linear, C=30 .............................................\n",
      "[CV] ................. kernel=linear, C=30, score=0.933, total=   0.3s\n",
      "[CV] kernel=linear, C=30 .............................................\n",
      "[CV] ................. kernel=linear, C=30, score=0.943, total=   0.3s\n",
      "[CV] kernel=polynomial, C=0.1 ........................................\n",
      "[CV] .............. kernel=polynomial, C=0.1, score=nan, total=   0.0s\n",
      "[CV] kernel=polynomial, C=0.1 ........................................\n",
      "[CV] .............. kernel=polynomial, C=0.1, score=nan, total=   0.0s\n",
      "[CV] kernel=polynomial, C=0.1 ........................................\n",
      "[CV] .............. kernel=polynomial, C=0.1, score=nan, total=   0.0s\n",
      "[CV] kernel=polynomial, C=0.1 ........................................\n",
      "[CV] .............. kernel=polynomial, C=0.1, score=nan, total=   0.0s\n",
      "[CV] kernel=polynomial, C=0.1 ........................................\n",
      "[CV] .............. kernel=polynomial, C=0.1, score=nan, total=   0.0s\n",
      "[CV] kernel=polynomial, C=0.5 ........................................\n",
      "[CV] .............. kernel=polynomial, C=0.5, score=nan, total=   0.0s\n",
      "[CV] kernel=polynomial, C=0.5 ........................................\n",
      "[CV] .............. kernel=polynomial, C=0.5, score=nan, total=   0.0s\n",
      "[CV] kernel=polynomial, C=0.5 ........................................\n",
      "[CV] .............. kernel=polynomial, C=0.5, score=nan, total=   0.0s\n",
      "[CV] kernel=polynomial, C=0.5 ........................................\n",
      "[CV] .............. kernel=polynomial, C=0.5, score=nan, total=   0.0s\n",
      "[CV] kernel=polynomial, C=0.5 ........................................\n",
      "[CV] .............. kernel=polynomial, C=0.5, score=nan, total=   0.0s\n",
      "[CV] kernel=polynomial, C=1 ..........................................\n",
      "[CV] ................ kernel=polynomial, C=1, score=nan, total=   0.0s\n",
      "[CV] kernel=polynomial, C=1 ..........................................\n",
      "[CV] ................ kernel=polynomial, C=1, score=nan, total=   0.0s\n",
      "[CV] kernel=polynomial, C=1 ..........................................\n",
      "[CV] ................ kernel=polynomial, C=1, score=nan, total=   0.0s\n",
      "[CV] kernel=polynomial, C=1 ..........................................\n",
      "[CV] ................ kernel=polynomial, C=1, score=nan, total=   0.0s\n",
      "[CV] kernel=polynomial, C=1 ..........................................\n",
      "[CV] ................ kernel=polynomial, C=1, score=nan, total=   0.0s\n",
      "[CV] kernel=polynomial, C=5 ..........................................\n",
      "[CV] ................ kernel=polynomial, C=5, score=nan, total=   0.0s\n",
      "[CV] kernel=polynomial, C=5 ..........................................\n",
      "[CV] ................ kernel=polynomial, C=5, score=nan, total=   0.0s\n",
      "[CV] kernel=polynomial, C=5 ..........................................\n",
      "[CV] ................ kernel=polynomial, C=5, score=nan, total=   0.0s\n",
      "[CV] kernel=polynomial, C=5 ..........................................\n",
      "[CV] ................ kernel=polynomial, C=5, score=nan, total=   0.0s\n",
      "[CV] kernel=polynomial, C=5 ..........................................\n",
      "[CV] ................ kernel=polynomial, C=5, score=nan, total=   0.0s\n",
      "[CV] kernel=polynomial, C=10 .........................................\n",
      "[CV] ............... kernel=polynomial, C=10, score=nan, total=   0.0s\n",
      "[CV] kernel=polynomial, C=10 .........................................\n",
      "[CV] ............... kernel=polynomial, C=10, score=nan, total=   0.0s\n",
      "[CV] kernel=polynomial, C=10 .........................................\n",
      "[CV] ............... kernel=polynomial, C=10, score=nan, total=   0.0s\n",
      "[CV] kernel=polynomial, C=10 .........................................\n",
      "[CV] ............... kernel=polynomial, C=10, score=nan, total=   0.0s\n",
      "[CV] kernel=polynomial, C=10 .........................................\n",
      "[CV] ............... kernel=polynomial, C=10, score=nan, total=   0.0s\n",
      "[CV] kernel=polynomial, C=20 .........................................\n",
      "[CV] ............... kernel=polynomial, C=20, score=nan, total=   0.0s\n",
      "[CV] kernel=polynomial, C=20 .........................................\n",
      "[CV] ............... kernel=polynomial, C=20, score=nan, total=   0.0s\n",
      "[CV] kernel=polynomial, C=20 .........................................\n",
      "[CV] ............... kernel=polynomial, C=20, score=nan, total=   0.0s\n",
      "[CV] kernel=polynomial, C=20 .........................................\n",
      "[CV] ............... kernel=polynomial, C=20, score=nan, total=   0.0s\n",
      "[CV] kernel=polynomial, C=20 .........................................\n",
      "[CV] ............... kernel=polynomial, C=20, score=nan, total=   0.0s\n",
      "[CV] kernel=polynomial, C=30 .........................................\n",
      "[CV] ............... kernel=polynomial, C=30, score=nan, total=   0.0s\n",
      "[CV] kernel=polynomial, C=30 .........................................\n",
      "[CV] ............... kernel=polynomial, C=30, score=nan, total=   0.0s\n",
      "[CV] kernel=polynomial, C=30 .........................................\n",
      "[CV] ............... kernel=polynomial, C=30, score=nan, total=   0.0s\n",
      "[CV] kernel=polynomial, C=30 .........................................\n",
      "[CV] ............... kernel=polynomial, C=30, score=nan, total=   0.0s\n",
      "[CV] kernel=polynomial, C=30 .........................................\n",
      "[CV] ............... kernel=polynomial, C=30, score=nan, total=   0.0s\n"
     ]
    },
    {
     "name": "stderr",
     "output_type": "stream",
     "text": [
      "/Users/chenliang/opt/anaconda3/lib/python3.8/site-packages/sklearn/model_selection/_validation.py:548: FitFailedWarning: Estimator fit failed. The score on this train-test partition for these parameters will be set to nan. Details: \n",
      "Traceback (most recent call last):\n",
      "  File \"/Users/chenliang/opt/anaconda3/lib/python3.8/site-packages/sklearn/model_selection/_validation.py\", line 531, in _fit_and_score\n",
      "    estimator.fit(X_train, y_train, **fit_params)\n",
      "  File \"/Users/chenliang/opt/anaconda3/lib/python3.8/site-packages/sklearn/svm/_base.py\", line 217, in fit\n",
      "    fit(X, y, sample_weight, solver_type, kernel, random_seed=seed)\n",
      "  File \"/Users/chenliang/opt/anaconda3/lib/python3.8/site-packages/sklearn/svm/_base.py\", line 268, in _dense_fit\n",
      "    self._probB, self.fit_status_ = libsvm.fit(\n",
      "  File \"sklearn/svm/_libsvm.pyx\", line 175, in sklearn.svm._libsvm.fit\n",
      "ValueError: 'polynomial' is not in list\n",
      "\n",
      "  warnings.warn(\"Estimator fit failed. The score on this train-test\"\n",
      "/Users/chenliang/opt/anaconda3/lib/python3.8/site-packages/sklearn/model_selection/_validation.py:548: FitFailedWarning: Estimator fit failed. The score on this train-test partition for these parameters will be set to nan. Details: \n",
      "Traceback (most recent call last):\n",
      "  File \"/Users/chenliang/opt/anaconda3/lib/python3.8/site-packages/sklearn/model_selection/_validation.py\", line 531, in _fit_and_score\n",
      "    estimator.fit(X_train, y_train, **fit_params)\n",
      "  File \"/Users/chenliang/opt/anaconda3/lib/python3.8/site-packages/sklearn/svm/_base.py\", line 217, in fit\n",
      "    fit(X, y, sample_weight, solver_type, kernel, random_seed=seed)\n",
      "  File \"/Users/chenliang/opt/anaconda3/lib/python3.8/site-packages/sklearn/svm/_base.py\", line 268, in _dense_fit\n",
      "    self._probB, self.fit_status_ = libsvm.fit(\n",
      "  File \"sklearn/svm/_libsvm.pyx\", line 175, in sklearn.svm._libsvm.fit\n",
      "ValueError: 'polynomial' is not in list\n",
      "\n",
      "  warnings.warn(\"Estimator fit failed. The score on this train-test\"\n",
      "/Users/chenliang/opt/anaconda3/lib/python3.8/site-packages/sklearn/model_selection/_validation.py:548: FitFailedWarning: Estimator fit failed. The score on this train-test partition for these parameters will be set to nan. Details: \n",
      "Traceback (most recent call last):\n",
      "  File \"/Users/chenliang/opt/anaconda3/lib/python3.8/site-packages/sklearn/model_selection/_validation.py\", line 531, in _fit_and_score\n",
      "    estimator.fit(X_train, y_train, **fit_params)\n",
      "  File \"/Users/chenliang/opt/anaconda3/lib/python3.8/site-packages/sklearn/svm/_base.py\", line 217, in fit\n",
      "    fit(X, y, sample_weight, solver_type, kernel, random_seed=seed)\n",
      "  File \"/Users/chenliang/opt/anaconda3/lib/python3.8/site-packages/sklearn/svm/_base.py\", line 268, in _dense_fit\n",
      "    self._probB, self.fit_status_ = libsvm.fit(\n",
      "  File \"sklearn/svm/_libsvm.pyx\", line 175, in sklearn.svm._libsvm.fit\n",
      "ValueError: 'polynomial' is not in list\n",
      "\n",
      "  warnings.warn(\"Estimator fit failed. The score on this train-test\"\n",
      "/Users/chenliang/opt/anaconda3/lib/python3.8/site-packages/sklearn/model_selection/_validation.py:548: FitFailedWarning: Estimator fit failed. The score on this train-test partition for these parameters will be set to nan. Details: \n",
      "Traceback (most recent call last):\n",
      "  File \"/Users/chenliang/opt/anaconda3/lib/python3.8/site-packages/sklearn/model_selection/_validation.py\", line 531, in _fit_and_score\n",
      "    estimator.fit(X_train, y_train, **fit_params)\n",
      "  File \"/Users/chenliang/opt/anaconda3/lib/python3.8/site-packages/sklearn/svm/_base.py\", line 217, in fit\n",
      "    fit(X, y, sample_weight, solver_type, kernel, random_seed=seed)\n",
      "  File \"/Users/chenliang/opt/anaconda3/lib/python3.8/site-packages/sklearn/svm/_base.py\", line 268, in _dense_fit\n",
      "    self._probB, self.fit_status_ = libsvm.fit(\n",
      "  File \"sklearn/svm/_libsvm.pyx\", line 175, in sklearn.svm._libsvm.fit\n",
      "ValueError: 'polynomial' is not in list\n",
      "\n",
      "  warnings.warn(\"Estimator fit failed. The score on this train-test\"\n",
      "/Users/chenliang/opt/anaconda3/lib/python3.8/site-packages/sklearn/model_selection/_validation.py:548: FitFailedWarning: Estimator fit failed. The score on this train-test partition for these parameters will be set to nan. Details: \n",
      "Traceback (most recent call last):\n",
      "  File \"/Users/chenliang/opt/anaconda3/lib/python3.8/site-packages/sklearn/model_selection/_validation.py\", line 531, in _fit_and_score\n",
      "    estimator.fit(X_train, y_train, **fit_params)\n",
      "  File \"/Users/chenliang/opt/anaconda3/lib/python3.8/site-packages/sklearn/svm/_base.py\", line 217, in fit\n",
      "    fit(X, y, sample_weight, solver_type, kernel, random_seed=seed)\n",
      "  File \"/Users/chenliang/opt/anaconda3/lib/python3.8/site-packages/sklearn/svm/_base.py\", line 268, in _dense_fit\n",
      "    self._probB, self.fit_status_ = libsvm.fit(\n",
      "  File \"sklearn/svm/_libsvm.pyx\", line 175, in sklearn.svm._libsvm.fit\n",
      "ValueError: 'polynomial' is not in list\n",
      "\n",
      "  warnings.warn(\"Estimator fit failed. The score on this train-test\"\n",
      "/Users/chenliang/opt/anaconda3/lib/python3.8/site-packages/sklearn/model_selection/_validation.py:548: FitFailedWarning: Estimator fit failed. The score on this train-test partition for these parameters will be set to nan. Details: \n",
      "Traceback (most recent call last):\n",
      "  File \"/Users/chenliang/opt/anaconda3/lib/python3.8/site-packages/sklearn/model_selection/_validation.py\", line 531, in _fit_and_score\n",
      "    estimator.fit(X_train, y_train, **fit_params)\n",
      "  File \"/Users/chenliang/opt/anaconda3/lib/python3.8/site-packages/sklearn/svm/_base.py\", line 217, in fit\n",
      "    fit(X, y, sample_weight, solver_type, kernel, random_seed=seed)\n",
      "  File \"/Users/chenliang/opt/anaconda3/lib/python3.8/site-packages/sklearn/svm/_base.py\", line 268, in _dense_fit\n",
      "    self._probB, self.fit_status_ = libsvm.fit(\n",
      "  File \"sklearn/svm/_libsvm.pyx\", line 175, in sklearn.svm._libsvm.fit\n",
      "ValueError: 'polynomial' is not in list\n",
      "\n",
      "  warnings.warn(\"Estimator fit failed. The score on this train-test\"\n",
      "/Users/chenliang/opt/anaconda3/lib/python3.8/site-packages/sklearn/model_selection/_validation.py:548: FitFailedWarning: Estimator fit failed. The score on this train-test partition for these parameters will be set to nan. Details: \n",
      "Traceback (most recent call last):\n",
      "  File \"/Users/chenliang/opt/anaconda3/lib/python3.8/site-packages/sklearn/model_selection/_validation.py\", line 531, in _fit_and_score\n",
      "    estimator.fit(X_train, y_train, **fit_params)\n",
      "  File \"/Users/chenliang/opt/anaconda3/lib/python3.8/site-packages/sklearn/svm/_base.py\", line 217, in fit\n",
      "    fit(X, y, sample_weight, solver_type, kernel, random_seed=seed)\n",
      "  File \"/Users/chenliang/opt/anaconda3/lib/python3.8/site-packages/sklearn/svm/_base.py\", line 268, in _dense_fit\n",
      "    self._probB, self.fit_status_ = libsvm.fit(\n",
      "  File \"sklearn/svm/_libsvm.pyx\", line 175, in sklearn.svm._libsvm.fit\n",
      "ValueError: 'polynomial' is not in list\n",
      "\n",
      "  warnings.warn(\"Estimator fit failed. The score on this train-test\"\n",
      "/Users/chenliang/opt/anaconda3/lib/python3.8/site-packages/sklearn/model_selection/_validation.py:548: FitFailedWarning: Estimator fit failed. The score on this train-test partition for these parameters will be set to nan. Details: \n",
      "Traceback (most recent call last):\n",
      "  File \"/Users/chenliang/opt/anaconda3/lib/python3.8/site-packages/sklearn/model_selection/_validation.py\", line 531, in _fit_and_score\n",
      "    estimator.fit(X_train, y_train, **fit_params)\n",
      "  File \"/Users/chenliang/opt/anaconda3/lib/python3.8/site-packages/sklearn/svm/_base.py\", line 217, in fit\n",
      "    fit(X, y, sample_weight, solver_type, kernel, random_seed=seed)\n",
      "  File \"/Users/chenliang/opt/anaconda3/lib/python3.8/site-packages/sklearn/svm/_base.py\", line 268, in _dense_fit\n",
      "    self._probB, self.fit_status_ = libsvm.fit(\n",
      "  File \"sklearn/svm/_libsvm.pyx\", line 175, in sklearn.svm._libsvm.fit\n",
      "ValueError: 'polynomial' is not in list\n",
      "\n",
      "  warnings.warn(\"Estimator fit failed. The score on this train-test\"\n",
      "/Users/chenliang/opt/anaconda3/lib/python3.8/site-packages/sklearn/model_selection/_validation.py:548: FitFailedWarning: Estimator fit failed. The score on this train-test partition for these parameters will be set to nan. Details: \n",
      "Traceback (most recent call last):\n",
      "  File \"/Users/chenliang/opt/anaconda3/lib/python3.8/site-packages/sklearn/model_selection/_validation.py\", line 531, in _fit_and_score\n",
      "    estimator.fit(X_train, y_train, **fit_params)\n",
      "  File \"/Users/chenliang/opt/anaconda3/lib/python3.8/site-packages/sklearn/svm/_base.py\", line 217, in fit\n",
      "    fit(X, y, sample_weight, solver_type, kernel, random_seed=seed)\n",
      "  File \"/Users/chenliang/opt/anaconda3/lib/python3.8/site-packages/sklearn/svm/_base.py\", line 268, in _dense_fit\n",
      "    self._probB, self.fit_status_ = libsvm.fit(\n",
      "  File \"sklearn/svm/_libsvm.pyx\", line 175, in sklearn.svm._libsvm.fit\n",
      "ValueError: 'polynomial' is not in list\n",
      "\n",
      "  warnings.warn(\"Estimator fit failed. The score on this train-test\"\n",
      "/Users/chenliang/opt/anaconda3/lib/python3.8/site-packages/sklearn/model_selection/_validation.py:548: FitFailedWarning: Estimator fit failed. The score on this train-test partition for these parameters will be set to nan. Details: \n",
      "Traceback (most recent call last):\n",
      "  File \"/Users/chenliang/opt/anaconda3/lib/python3.8/site-packages/sklearn/model_selection/_validation.py\", line 531, in _fit_and_score\n",
      "    estimator.fit(X_train, y_train, **fit_params)\n",
      "  File \"/Users/chenliang/opt/anaconda3/lib/python3.8/site-packages/sklearn/svm/_base.py\", line 217, in fit\n",
      "    fit(X, y, sample_weight, solver_type, kernel, random_seed=seed)\n",
      "  File \"/Users/chenliang/opt/anaconda3/lib/python3.8/site-packages/sklearn/svm/_base.py\", line 268, in _dense_fit\n",
      "    self._probB, self.fit_status_ = libsvm.fit(\n",
      "  File \"sklearn/svm/_libsvm.pyx\", line 175, in sklearn.svm._libsvm.fit\n",
      "ValueError: 'polynomial' is not in list\n",
      "\n",
      "  warnings.warn(\"Estimator fit failed. The score on this train-test\"\n",
      "/Users/chenliang/opt/anaconda3/lib/python3.8/site-packages/sklearn/model_selection/_validation.py:548: FitFailedWarning: Estimator fit failed. The score on this train-test partition for these parameters will be set to nan. Details: \n",
      "Traceback (most recent call last):\n",
      "  File \"/Users/chenliang/opt/anaconda3/lib/python3.8/site-packages/sklearn/model_selection/_validation.py\", line 531, in _fit_and_score\n",
      "    estimator.fit(X_train, y_train, **fit_params)\n",
      "  File \"/Users/chenliang/opt/anaconda3/lib/python3.8/site-packages/sklearn/svm/_base.py\", line 217, in fit\n",
      "    fit(X, y, sample_weight, solver_type, kernel, random_seed=seed)\n",
      "  File \"/Users/chenliang/opt/anaconda3/lib/python3.8/site-packages/sklearn/svm/_base.py\", line 268, in _dense_fit\n",
      "    self._probB, self.fit_status_ = libsvm.fit(\n",
      "  File \"sklearn/svm/_libsvm.pyx\", line 175, in sklearn.svm._libsvm.fit\n",
      "ValueError: 'polynomial' is not in list\n",
      "\n",
      "  warnings.warn(\"Estimator fit failed. The score on this train-test\"\n",
      "/Users/chenliang/opt/anaconda3/lib/python3.8/site-packages/sklearn/model_selection/_validation.py:548: FitFailedWarning: Estimator fit failed. The score on this train-test partition for these parameters will be set to nan. Details: \n",
      "Traceback (most recent call last):\n",
      "  File \"/Users/chenliang/opt/anaconda3/lib/python3.8/site-packages/sklearn/model_selection/_validation.py\", line 531, in _fit_and_score\n",
      "    estimator.fit(X_train, y_train, **fit_params)\n",
      "  File \"/Users/chenliang/opt/anaconda3/lib/python3.8/site-packages/sklearn/svm/_base.py\", line 217, in fit\n",
      "    fit(X, y, sample_weight, solver_type, kernel, random_seed=seed)\n",
      "  File \"/Users/chenliang/opt/anaconda3/lib/python3.8/site-packages/sklearn/svm/_base.py\", line 268, in _dense_fit\n",
      "    self._probB, self.fit_status_ = libsvm.fit(\n",
      "  File \"sklearn/svm/_libsvm.pyx\", line 175, in sklearn.svm._libsvm.fit\n",
      "ValueError: 'polynomial' is not in list\n",
      "\n",
      "  warnings.warn(\"Estimator fit failed. The score on this train-test\"\n",
      "/Users/chenliang/opt/anaconda3/lib/python3.8/site-packages/sklearn/model_selection/_validation.py:548: FitFailedWarning: Estimator fit failed. The score on this train-test partition for these parameters will be set to nan. Details: \n",
      "Traceback (most recent call last):\n",
      "  File \"/Users/chenliang/opt/anaconda3/lib/python3.8/site-packages/sklearn/model_selection/_validation.py\", line 531, in _fit_and_score\n",
      "    estimator.fit(X_train, y_train, **fit_params)\n",
      "  File \"/Users/chenliang/opt/anaconda3/lib/python3.8/site-packages/sklearn/svm/_base.py\", line 217, in fit\n",
      "    fit(X, y, sample_weight, solver_type, kernel, random_seed=seed)\n",
      "  File \"/Users/chenliang/opt/anaconda3/lib/python3.8/site-packages/sklearn/svm/_base.py\", line 268, in _dense_fit\n",
      "    self._probB, self.fit_status_ = libsvm.fit(\n",
      "  File \"sklearn/svm/_libsvm.pyx\", line 175, in sklearn.svm._libsvm.fit\n",
      "ValueError: 'polynomial' is not in list\n",
      "\n",
      "  warnings.warn(\"Estimator fit failed. The score on this train-test\"\n",
      "/Users/chenliang/opt/anaconda3/lib/python3.8/site-packages/sklearn/model_selection/_validation.py:548: FitFailedWarning: Estimator fit failed. The score on this train-test partition for these parameters will be set to nan. Details: \n",
      "Traceback (most recent call last):\n",
      "  File \"/Users/chenliang/opt/anaconda3/lib/python3.8/site-packages/sklearn/model_selection/_validation.py\", line 531, in _fit_and_score\n",
      "    estimator.fit(X_train, y_train, **fit_params)\n",
      "  File \"/Users/chenliang/opt/anaconda3/lib/python3.8/site-packages/sklearn/svm/_base.py\", line 217, in fit\n",
      "    fit(X, y, sample_weight, solver_type, kernel, random_seed=seed)\n",
      "  File \"/Users/chenliang/opt/anaconda3/lib/python3.8/site-packages/sklearn/svm/_base.py\", line 268, in _dense_fit\n",
      "    self._probB, self.fit_status_ = libsvm.fit(\n",
      "  File \"sklearn/svm/_libsvm.pyx\", line 175, in sklearn.svm._libsvm.fit\n",
      "ValueError: 'polynomial' is not in list\n",
      "\n",
      "  warnings.warn(\"Estimator fit failed. The score on this train-test\"\n",
      "/Users/chenliang/opt/anaconda3/lib/python3.8/site-packages/sklearn/model_selection/_validation.py:548: FitFailedWarning: Estimator fit failed. The score on this train-test partition for these parameters will be set to nan. Details: \n",
      "Traceback (most recent call last):\n",
      "  File \"/Users/chenliang/opt/anaconda3/lib/python3.8/site-packages/sklearn/model_selection/_validation.py\", line 531, in _fit_and_score\n",
      "    estimator.fit(X_train, y_train, **fit_params)\n",
      "  File \"/Users/chenliang/opt/anaconda3/lib/python3.8/site-packages/sklearn/svm/_base.py\", line 217, in fit\n",
      "    fit(X, y, sample_weight, solver_type, kernel, random_seed=seed)\n",
      "  File \"/Users/chenliang/opt/anaconda3/lib/python3.8/site-packages/sklearn/svm/_base.py\", line 268, in _dense_fit\n",
      "    self._probB, self.fit_status_ = libsvm.fit(\n",
      "  File \"sklearn/svm/_libsvm.pyx\", line 175, in sklearn.svm._libsvm.fit\n",
      "ValueError: 'polynomial' is not in list\n",
      "\n",
      "  warnings.warn(\"Estimator fit failed. The score on this train-test\"\n",
      "/Users/chenliang/opt/anaconda3/lib/python3.8/site-packages/sklearn/model_selection/_validation.py:548: FitFailedWarning: Estimator fit failed. The score on this train-test partition for these parameters will be set to nan. Details: \n",
      "Traceback (most recent call last):\n",
      "  File \"/Users/chenliang/opt/anaconda3/lib/python3.8/site-packages/sklearn/model_selection/_validation.py\", line 531, in _fit_and_score\n",
      "    estimator.fit(X_train, y_train, **fit_params)\n",
      "  File \"/Users/chenliang/opt/anaconda3/lib/python3.8/site-packages/sklearn/svm/_base.py\", line 217, in fit\n",
      "    fit(X, y, sample_weight, solver_type, kernel, random_seed=seed)\n",
      "  File \"/Users/chenliang/opt/anaconda3/lib/python3.8/site-packages/sklearn/svm/_base.py\", line 268, in _dense_fit\n",
      "    self._probB, self.fit_status_ = libsvm.fit(\n",
      "  File \"sklearn/svm/_libsvm.pyx\", line 175, in sklearn.svm._libsvm.fit\n",
      "ValueError: 'polynomial' is not in list\n",
      "\n",
      "  warnings.warn(\"Estimator fit failed. The score on this train-test\"\n",
      "/Users/chenliang/opt/anaconda3/lib/python3.8/site-packages/sklearn/model_selection/_validation.py:548: FitFailedWarning: Estimator fit failed. The score on this train-test partition for these parameters will be set to nan. Details: \n",
      "Traceback (most recent call last):\n",
      "  File \"/Users/chenliang/opt/anaconda3/lib/python3.8/site-packages/sklearn/model_selection/_validation.py\", line 531, in _fit_and_score\n",
      "    estimator.fit(X_train, y_train, **fit_params)\n",
      "  File \"/Users/chenliang/opt/anaconda3/lib/python3.8/site-packages/sklearn/svm/_base.py\", line 217, in fit\n",
      "    fit(X, y, sample_weight, solver_type, kernel, random_seed=seed)\n",
      "  File \"/Users/chenliang/opt/anaconda3/lib/python3.8/site-packages/sklearn/svm/_base.py\", line 268, in _dense_fit\n",
      "    self._probB, self.fit_status_ = libsvm.fit(\n",
      "  File \"sklearn/svm/_libsvm.pyx\", line 175, in sklearn.svm._libsvm.fit\n",
      "ValueError: 'polynomial' is not in list\n",
      "\n",
      "  warnings.warn(\"Estimator fit failed. The score on this train-test\"\n",
      "/Users/chenliang/opt/anaconda3/lib/python3.8/site-packages/sklearn/model_selection/_validation.py:548: FitFailedWarning: Estimator fit failed. The score on this train-test partition for these parameters will be set to nan. Details: \n",
      "Traceback (most recent call last):\n",
      "  File \"/Users/chenliang/opt/anaconda3/lib/python3.8/site-packages/sklearn/model_selection/_validation.py\", line 531, in _fit_and_score\n",
      "    estimator.fit(X_train, y_train, **fit_params)\n",
      "  File \"/Users/chenliang/opt/anaconda3/lib/python3.8/site-packages/sklearn/svm/_base.py\", line 217, in fit\n",
      "    fit(X, y, sample_weight, solver_type, kernel, random_seed=seed)\n",
      "  File \"/Users/chenliang/opt/anaconda3/lib/python3.8/site-packages/sklearn/svm/_base.py\", line 268, in _dense_fit\n",
      "    self._probB, self.fit_status_ = libsvm.fit(\n",
      "  File \"sklearn/svm/_libsvm.pyx\", line 175, in sklearn.svm._libsvm.fit\n",
      "ValueError: 'polynomial' is not in list\n",
      "\n",
      "  warnings.warn(\"Estimator fit failed. The score on this train-test\"\n",
      "/Users/chenliang/opt/anaconda3/lib/python3.8/site-packages/sklearn/model_selection/_validation.py:548: FitFailedWarning: Estimator fit failed. The score on this train-test partition for these parameters will be set to nan. Details: \n",
      "Traceback (most recent call last):\n",
      "  File \"/Users/chenliang/opt/anaconda3/lib/python3.8/site-packages/sklearn/model_selection/_validation.py\", line 531, in _fit_and_score\n",
      "    estimator.fit(X_train, y_train, **fit_params)\n",
      "  File \"/Users/chenliang/opt/anaconda3/lib/python3.8/site-packages/sklearn/svm/_base.py\", line 217, in fit\n",
      "    fit(X, y, sample_weight, solver_type, kernel, random_seed=seed)\n",
      "  File \"/Users/chenliang/opt/anaconda3/lib/python3.8/site-packages/sklearn/svm/_base.py\", line 268, in _dense_fit\n",
      "    self._probB, self.fit_status_ = libsvm.fit(\n",
      "  File \"sklearn/svm/_libsvm.pyx\", line 175, in sklearn.svm._libsvm.fit\n",
      "ValueError: 'polynomial' is not in list\n",
      "\n",
      "  warnings.warn(\"Estimator fit failed. The score on this train-test\"\n",
      "/Users/chenliang/opt/anaconda3/lib/python3.8/site-packages/sklearn/model_selection/_validation.py:548: FitFailedWarning: Estimator fit failed. The score on this train-test partition for these parameters will be set to nan. Details: \n",
      "Traceback (most recent call last):\n",
      "  File \"/Users/chenliang/opt/anaconda3/lib/python3.8/site-packages/sklearn/model_selection/_validation.py\", line 531, in _fit_and_score\n",
      "    estimator.fit(X_train, y_train, **fit_params)\n",
      "  File \"/Users/chenliang/opt/anaconda3/lib/python3.8/site-packages/sklearn/svm/_base.py\", line 217, in fit\n",
      "    fit(X, y, sample_weight, solver_type, kernel, random_seed=seed)\n",
      "  File \"/Users/chenliang/opt/anaconda3/lib/python3.8/site-packages/sklearn/svm/_base.py\", line 268, in _dense_fit\n",
      "    self._probB, self.fit_status_ = libsvm.fit(\n",
      "  File \"sklearn/svm/_libsvm.pyx\", line 175, in sklearn.svm._libsvm.fit\n",
      "ValueError: 'polynomial' is not in list\n",
      "\n",
      "  warnings.warn(\"Estimator fit failed. The score on this train-test\"\n",
      "/Users/chenliang/opt/anaconda3/lib/python3.8/site-packages/sklearn/model_selection/_validation.py:548: FitFailedWarning: Estimator fit failed. The score on this train-test partition for these parameters will be set to nan. Details: \n",
      "Traceback (most recent call last):\n",
      "  File \"/Users/chenliang/opt/anaconda3/lib/python3.8/site-packages/sklearn/model_selection/_validation.py\", line 531, in _fit_and_score\n",
      "    estimator.fit(X_train, y_train, **fit_params)\n",
      "  File \"/Users/chenliang/opt/anaconda3/lib/python3.8/site-packages/sklearn/svm/_base.py\", line 217, in fit\n",
      "    fit(X, y, sample_weight, solver_type, kernel, random_seed=seed)\n",
      "  File \"/Users/chenliang/opt/anaconda3/lib/python3.8/site-packages/sklearn/svm/_base.py\", line 268, in _dense_fit\n",
      "    self._probB, self.fit_status_ = libsvm.fit(\n",
      "  File \"sklearn/svm/_libsvm.pyx\", line 175, in sklearn.svm._libsvm.fit\n",
      "ValueError: 'polynomial' is not in list\n",
      "\n",
      "  warnings.warn(\"Estimator fit failed. The score on this train-test\"\n",
      "/Users/chenliang/opt/anaconda3/lib/python3.8/site-packages/sklearn/model_selection/_validation.py:548: FitFailedWarning: Estimator fit failed. The score on this train-test partition for these parameters will be set to nan. Details: \n",
      "Traceback (most recent call last):\n",
      "  File \"/Users/chenliang/opt/anaconda3/lib/python3.8/site-packages/sklearn/model_selection/_validation.py\", line 531, in _fit_and_score\n",
      "    estimator.fit(X_train, y_train, **fit_params)\n",
      "  File \"/Users/chenliang/opt/anaconda3/lib/python3.8/site-packages/sklearn/svm/_base.py\", line 217, in fit\n",
      "    fit(X, y, sample_weight, solver_type, kernel, random_seed=seed)\n",
      "  File \"/Users/chenliang/opt/anaconda3/lib/python3.8/site-packages/sklearn/svm/_base.py\", line 268, in _dense_fit\n",
      "    self._probB, self.fit_status_ = libsvm.fit(\n",
      "  File \"sklearn/svm/_libsvm.pyx\", line 175, in sklearn.svm._libsvm.fit\n",
      "ValueError: 'polynomial' is not in list\n",
      "\n",
      "  warnings.warn(\"Estimator fit failed. The score on this train-test\"\n",
      "/Users/chenliang/opt/anaconda3/lib/python3.8/site-packages/sklearn/model_selection/_validation.py:548: FitFailedWarning: Estimator fit failed. The score on this train-test partition for these parameters will be set to nan. Details: \n",
      "Traceback (most recent call last):\n",
      "  File \"/Users/chenliang/opt/anaconda3/lib/python3.8/site-packages/sklearn/model_selection/_validation.py\", line 531, in _fit_and_score\n",
      "    estimator.fit(X_train, y_train, **fit_params)\n",
      "  File \"/Users/chenliang/opt/anaconda3/lib/python3.8/site-packages/sklearn/svm/_base.py\", line 217, in fit\n",
      "    fit(X, y, sample_weight, solver_type, kernel, random_seed=seed)\n",
      "  File \"/Users/chenliang/opt/anaconda3/lib/python3.8/site-packages/sklearn/svm/_base.py\", line 268, in _dense_fit\n",
      "    self._probB, self.fit_status_ = libsvm.fit(\n",
      "  File \"sklearn/svm/_libsvm.pyx\", line 175, in sklearn.svm._libsvm.fit\n",
      "ValueError: 'polynomial' is not in list\n",
      "\n",
      "  warnings.warn(\"Estimator fit failed. The score on this train-test\"\n",
      "/Users/chenliang/opt/anaconda3/lib/python3.8/site-packages/sklearn/model_selection/_validation.py:548: FitFailedWarning: Estimator fit failed. The score on this train-test partition for these parameters will be set to nan. Details: \n",
      "Traceback (most recent call last):\n",
      "  File \"/Users/chenliang/opt/anaconda3/lib/python3.8/site-packages/sklearn/model_selection/_validation.py\", line 531, in _fit_and_score\n",
      "    estimator.fit(X_train, y_train, **fit_params)\n",
      "  File \"/Users/chenliang/opt/anaconda3/lib/python3.8/site-packages/sklearn/svm/_base.py\", line 217, in fit\n",
      "    fit(X, y, sample_weight, solver_type, kernel, random_seed=seed)\n",
      "  File \"/Users/chenliang/opt/anaconda3/lib/python3.8/site-packages/sklearn/svm/_base.py\", line 268, in _dense_fit\n",
      "    self._probB, self.fit_status_ = libsvm.fit(\n",
      "  File \"sklearn/svm/_libsvm.pyx\", line 175, in sklearn.svm._libsvm.fit\n",
      "ValueError: 'polynomial' is not in list\n",
      "\n",
      "  warnings.warn(\"Estimator fit failed. The score on this train-test\"\n",
      "/Users/chenliang/opt/anaconda3/lib/python3.8/site-packages/sklearn/model_selection/_validation.py:548: FitFailedWarning: Estimator fit failed. The score on this train-test partition for these parameters will be set to nan. Details: \n",
      "Traceback (most recent call last):\n",
      "  File \"/Users/chenliang/opt/anaconda3/lib/python3.8/site-packages/sklearn/model_selection/_validation.py\", line 531, in _fit_and_score\n",
      "    estimator.fit(X_train, y_train, **fit_params)\n",
      "  File \"/Users/chenliang/opt/anaconda3/lib/python3.8/site-packages/sklearn/svm/_base.py\", line 217, in fit\n",
      "    fit(X, y, sample_weight, solver_type, kernel, random_seed=seed)\n",
      "  File \"/Users/chenliang/opt/anaconda3/lib/python3.8/site-packages/sklearn/svm/_base.py\", line 268, in _dense_fit\n",
      "    self._probB, self.fit_status_ = libsvm.fit(\n",
      "  File \"sklearn/svm/_libsvm.pyx\", line 175, in sklearn.svm._libsvm.fit\n",
      "ValueError: 'polynomial' is not in list\n",
      "\n",
      "  warnings.warn(\"Estimator fit failed. The score on this train-test\"\n",
      "/Users/chenliang/opt/anaconda3/lib/python3.8/site-packages/sklearn/model_selection/_validation.py:548: FitFailedWarning: Estimator fit failed. The score on this train-test partition for these parameters will be set to nan. Details: \n",
      "Traceback (most recent call last):\n",
      "  File \"/Users/chenliang/opt/anaconda3/lib/python3.8/site-packages/sklearn/model_selection/_validation.py\", line 531, in _fit_and_score\n",
      "    estimator.fit(X_train, y_train, **fit_params)\n",
      "  File \"/Users/chenliang/opt/anaconda3/lib/python3.8/site-packages/sklearn/svm/_base.py\", line 217, in fit\n",
      "    fit(X, y, sample_weight, solver_type, kernel, random_seed=seed)\n",
      "  File \"/Users/chenliang/opt/anaconda3/lib/python3.8/site-packages/sklearn/svm/_base.py\", line 268, in _dense_fit\n",
      "    self._probB, self.fit_status_ = libsvm.fit(\n",
      "  File \"sklearn/svm/_libsvm.pyx\", line 175, in sklearn.svm._libsvm.fit\n",
      "ValueError: 'polynomial' is not in list\n",
      "\n",
      "  warnings.warn(\"Estimator fit failed. The score on this train-test\"\n",
      "/Users/chenliang/opt/anaconda3/lib/python3.8/site-packages/sklearn/model_selection/_validation.py:548: FitFailedWarning: Estimator fit failed. The score on this train-test partition for these parameters will be set to nan. Details: \n",
      "Traceback (most recent call last):\n",
      "  File \"/Users/chenliang/opt/anaconda3/lib/python3.8/site-packages/sklearn/model_selection/_validation.py\", line 531, in _fit_and_score\n",
      "    estimator.fit(X_train, y_train, **fit_params)\n",
      "  File \"/Users/chenliang/opt/anaconda3/lib/python3.8/site-packages/sklearn/svm/_base.py\", line 217, in fit\n",
      "    fit(X, y, sample_weight, solver_type, kernel, random_seed=seed)\n",
      "  File \"/Users/chenliang/opt/anaconda3/lib/python3.8/site-packages/sklearn/svm/_base.py\", line 268, in _dense_fit\n",
      "    self._probB, self.fit_status_ = libsvm.fit(\n",
      "  File \"sklearn/svm/_libsvm.pyx\", line 175, in sklearn.svm._libsvm.fit\n",
      "ValueError: 'polynomial' is not in list\n",
      "\n",
      "  warnings.warn(\"Estimator fit failed. The score on this train-test\"\n",
      "/Users/chenliang/opt/anaconda3/lib/python3.8/site-packages/sklearn/model_selection/_validation.py:548: FitFailedWarning: Estimator fit failed. The score on this train-test partition for these parameters will be set to nan. Details: \n",
      "Traceback (most recent call last):\n",
      "  File \"/Users/chenliang/opt/anaconda3/lib/python3.8/site-packages/sklearn/model_selection/_validation.py\", line 531, in _fit_and_score\n",
      "    estimator.fit(X_train, y_train, **fit_params)\n",
      "  File \"/Users/chenliang/opt/anaconda3/lib/python3.8/site-packages/sklearn/svm/_base.py\", line 217, in fit\n",
      "    fit(X, y, sample_weight, solver_type, kernel, random_seed=seed)\n",
      "  File \"/Users/chenliang/opt/anaconda3/lib/python3.8/site-packages/sklearn/svm/_base.py\", line 268, in _dense_fit\n",
      "    self._probB, self.fit_status_ = libsvm.fit(\n",
      "  File \"sklearn/svm/_libsvm.pyx\", line 175, in sklearn.svm._libsvm.fit\n",
      "ValueError: 'polynomial' is not in list\n",
      "\n",
      "  warnings.warn(\"Estimator fit failed. The score on this train-test\"\n",
      "/Users/chenliang/opt/anaconda3/lib/python3.8/site-packages/sklearn/model_selection/_validation.py:548: FitFailedWarning: Estimator fit failed. The score on this train-test partition for these parameters will be set to nan. Details: \n",
      "Traceback (most recent call last):\n",
      "  File \"/Users/chenliang/opt/anaconda3/lib/python3.8/site-packages/sklearn/model_selection/_validation.py\", line 531, in _fit_and_score\n",
      "    estimator.fit(X_train, y_train, **fit_params)\n",
      "  File \"/Users/chenliang/opt/anaconda3/lib/python3.8/site-packages/sklearn/svm/_base.py\", line 217, in fit\n",
      "    fit(X, y, sample_weight, solver_type, kernel, random_seed=seed)\n",
      "  File \"/Users/chenliang/opt/anaconda3/lib/python3.8/site-packages/sklearn/svm/_base.py\", line 268, in _dense_fit\n",
      "    self._probB, self.fit_status_ = libsvm.fit(\n",
      "  File \"sklearn/svm/_libsvm.pyx\", line 175, in sklearn.svm._libsvm.fit\n",
      "ValueError: 'polynomial' is not in list\n",
      "\n",
      "  warnings.warn(\"Estimator fit failed. The score on this train-test\"\n",
      "/Users/chenliang/opt/anaconda3/lib/python3.8/site-packages/sklearn/model_selection/_validation.py:548: FitFailedWarning: Estimator fit failed. The score on this train-test partition for these parameters will be set to nan. Details: \n",
      "Traceback (most recent call last):\n",
      "  File \"/Users/chenliang/opt/anaconda3/lib/python3.8/site-packages/sklearn/model_selection/_validation.py\", line 531, in _fit_and_score\n",
      "    estimator.fit(X_train, y_train, **fit_params)\n",
      "  File \"/Users/chenliang/opt/anaconda3/lib/python3.8/site-packages/sklearn/svm/_base.py\", line 217, in fit\n",
      "    fit(X, y, sample_weight, solver_type, kernel, random_seed=seed)\n",
      "  File \"/Users/chenliang/opt/anaconda3/lib/python3.8/site-packages/sklearn/svm/_base.py\", line 268, in _dense_fit\n",
      "    self._probB, self.fit_status_ = libsvm.fit(\n",
      "  File \"sklearn/svm/_libsvm.pyx\", line 175, in sklearn.svm._libsvm.fit\n",
      "ValueError: 'polynomial' is not in list\n",
      "\n",
      "  warnings.warn(\"Estimator fit failed. The score on this train-test\"\n",
      "/Users/chenliang/opt/anaconda3/lib/python3.8/site-packages/sklearn/model_selection/_validation.py:548: FitFailedWarning: Estimator fit failed. The score on this train-test partition for these parameters will be set to nan. Details: \n",
      "Traceback (most recent call last):\n",
      "  File \"/Users/chenliang/opt/anaconda3/lib/python3.8/site-packages/sklearn/model_selection/_validation.py\", line 531, in _fit_and_score\n",
      "    estimator.fit(X_train, y_train, **fit_params)\n",
      "  File \"/Users/chenliang/opt/anaconda3/lib/python3.8/site-packages/sklearn/svm/_base.py\", line 217, in fit\n",
      "    fit(X, y, sample_weight, solver_type, kernel, random_seed=seed)\n",
      "  File \"/Users/chenliang/opt/anaconda3/lib/python3.8/site-packages/sklearn/svm/_base.py\", line 268, in _dense_fit\n",
      "    self._probB, self.fit_status_ = libsvm.fit(\n",
      "  File \"sklearn/svm/_libsvm.pyx\", line 175, in sklearn.svm._libsvm.fit\n",
      "ValueError: 'polynomial' is not in list\n",
      "\n",
      "  warnings.warn(\"Estimator fit failed. The score on this train-test\"\n",
      "/Users/chenliang/opt/anaconda3/lib/python3.8/site-packages/sklearn/model_selection/_validation.py:548: FitFailedWarning: Estimator fit failed. The score on this train-test partition for these parameters will be set to nan. Details: \n",
      "Traceback (most recent call last):\n",
      "  File \"/Users/chenliang/opt/anaconda3/lib/python3.8/site-packages/sklearn/model_selection/_validation.py\", line 531, in _fit_and_score\n",
      "    estimator.fit(X_train, y_train, **fit_params)\n",
      "  File \"/Users/chenliang/opt/anaconda3/lib/python3.8/site-packages/sklearn/svm/_base.py\", line 217, in fit\n",
      "    fit(X, y, sample_weight, solver_type, kernel, random_seed=seed)\n",
      "  File \"/Users/chenliang/opt/anaconda3/lib/python3.8/site-packages/sklearn/svm/_base.py\", line 268, in _dense_fit\n",
      "    self._probB, self.fit_status_ = libsvm.fit(\n",
      "  File \"sklearn/svm/_libsvm.pyx\", line 175, in sklearn.svm._libsvm.fit\n",
      "ValueError: 'polynomial' is not in list\n",
      "\n",
      "  warnings.warn(\"Estimator fit failed. The score on this train-test\"\n",
      "/Users/chenliang/opt/anaconda3/lib/python3.8/site-packages/sklearn/model_selection/_validation.py:548: FitFailedWarning: Estimator fit failed. The score on this train-test partition for these parameters will be set to nan. Details: \n",
      "Traceback (most recent call last):\n",
      "  File \"/Users/chenliang/opt/anaconda3/lib/python3.8/site-packages/sklearn/model_selection/_validation.py\", line 531, in _fit_and_score\n",
      "    estimator.fit(X_train, y_train, **fit_params)\n",
      "  File \"/Users/chenliang/opt/anaconda3/lib/python3.8/site-packages/sklearn/svm/_base.py\", line 217, in fit\n",
      "    fit(X, y, sample_weight, solver_type, kernel, random_seed=seed)\n",
      "  File \"/Users/chenliang/opt/anaconda3/lib/python3.8/site-packages/sklearn/svm/_base.py\", line 268, in _dense_fit\n",
      "    self._probB, self.fit_status_ = libsvm.fit(\n",
      "  File \"sklearn/svm/_libsvm.pyx\", line 175, in sklearn.svm._libsvm.fit\n",
      "ValueError: 'polynomial' is not in list\n",
      "\n",
      "  warnings.warn(\"Estimator fit failed. The score on this train-test\"\n",
      "/Users/chenliang/opt/anaconda3/lib/python3.8/site-packages/sklearn/model_selection/_validation.py:548: FitFailedWarning: Estimator fit failed. The score on this train-test partition for these parameters will be set to nan. Details: \n",
      "Traceback (most recent call last):\n",
      "  File \"/Users/chenliang/opt/anaconda3/lib/python3.8/site-packages/sklearn/model_selection/_validation.py\", line 531, in _fit_and_score\n",
      "    estimator.fit(X_train, y_train, **fit_params)\n",
      "  File \"/Users/chenliang/opt/anaconda3/lib/python3.8/site-packages/sklearn/svm/_base.py\", line 217, in fit\n",
      "    fit(X, y, sample_weight, solver_type, kernel, random_seed=seed)\n",
      "  File \"/Users/chenliang/opt/anaconda3/lib/python3.8/site-packages/sklearn/svm/_base.py\", line 268, in _dense_fit\n",
      "    self._probB, self.fit_status_ = libsvm.fit(\n",
      "  File \"sklearn/svm/_libsvm.pyx\", line 175, in sklearn.svm._libsvm.fit\n",
      "ValueError: 'polynomial' is not in list\n",
      "\n",
      "  warnings.warn(\"Estimator fit failed. The score on this train-test\"\n",
      "/Users/chenliang/opt/anaconda3/lib/python3.8/site-packages/sklearn/model_selection/_validation.py:548: FitFailedWarning: Estimator fit failed. The score on this train-test partition for these parameters will be set to nan. Details: \n",
      "Traceback (most recent call last):\n",
      "  File \"/Users/chenliang/opt/anaconda3/lib/python3.8/site-packages/sklearn/model_selection/_validation.py\", line 531, in _fit_and_score\n",
      "    estimator.fit(X_train, y_train, **fit_params)\n",
      "  File \"/Users/chenliang/opt/anaconda3/lib/python3.8/site-packages/sklearn/svm/_base.py\", line 217, in fit\n",
      "    fit(X, y, sample_weight, solver_type, kernel, random_seed=seed)\n",
      "  File \"/Users/chenliang/opt/anaconda3/lib/python3.8/site-packages/sklearn/svm/_base.py\", line 268, in _dense_fit\n",
      "    self._probB, self.fit_status_ = libsvm.fit(\n",
      "  File \"sklearn/svm/_libsvm.pyx\", line 175, in sklearn.svm._libsvm.fit\n",
      "ValueError: 'polynomial' is not in list\n",
      "\n",
      "  warnings.warn(\"Estimator fit failed. The score on this train-test\"\n",
      "[Parallel(n_jobs=1)]: Done 105 out of 105 | elapsed:   20.5s finished\n"
     ]
    },
    {
     "name": "stdout",
     "output_type": "stream",
     "text": [
      "Best params:  {'kernel': 'linear', 'C': 30}\n"
     ]
    }
   ],
   "source": [
    "\n",
    "clf = svm.SVC()\n",
    "SVCtune = svm.SVC()\n",
    "kfold = KFold(n_splits = 5, random_state = None)\n",
    "SVCparams = [{'kernel': ['rbf'],'C': [0.1, 0.5, 1, 5, 10,20,30]}\n",
    "             ,{'kernel': ['linear'], 'C': [0.1, 0.5, 1, 5, 10,20,30]}\n",
    "             ,{'kernel': ['polynomial'], 'C': [0.1, 0.5, 1, 5, 10,20,30]}\n",
    "            ]\n",
    "SVCgs = RandomizedSearchCV(SVCtune, SVCparams, n_iter=25,cv=kfold,scoring = 'accuracy',verbose = 10)\n",
    "SVCgs.fit(X, y)\n",
    "print(\"Best params: \", SVCgs.best_params_)\n"
   ]
  },
  {
   "cell_type": "code",
   "execution_count": 45,
   "metadata": {},
   "outputs": [
    {
     "data": {
      "image/png": "[encoded data removed]",
      "text/plain": [
       "<Figure size 432x288 with 1 Axes>"
      ]
     },
     "metadata": {
      "needs_background": "light"
     },
     "output_type": "display_data"
    }
   ],
   "source": [
    "# SVM learning curve with RBF kernel\n",
    "list1=[]\n",
    "list2=[]\n",
    "for i in range(1,95):\n",
    "    clf = svm.SVC(kernel=\"linear\", C=30)\n",
    "    X_train, X_test, y_train, y_test = train_test_split(X, y, random_state=100, test_size=1-i/100)\n",
    "    clf.fit(X_train, y_train)\n",
    "    train_predict = clf.predict(X_train)\n",
    "    test_predict = clf.predict(X_test)\n",
    "    list1.append(accuracy_score(y_train, train_predict))\n",
    "    list2.append(accuracy_score(y_test, test_predict))\n",
    "plt.plot(range(len(list1)),list1,label=\"Training\")\n",
    "plt.plot(range(len(list2)),list2,label=\"Testing\")\n",
    "plt.xlabel(\"Training set %\")\n",
    "plt.ylabel(\"Accuracy\")\n",
    "plt.legend(loc=\"best\")\n",
    "plt.show()\n"
   ]
  },
  {
   "cell_type": "markdown",
   "metadata": {},
   "source": [
    "## KNN"
   ]
  },
  {
   "cell_type": "code",
   "execution_count": 39,
   "metadata": {},
   "outputs": [
    {
     "name": "stdout",
     "output_type": "stream",
     "text": [
      "The optimal number of neighbors is 3\n"
     ]
    },
    {
     "data": {
      "image/png": "[encoded data removed]",
      "text/plain": [
       "<Figure size 432x288 with 1 Axes>"
      ]
     },
     "metadata": {
      "needs_background": "light"
     },
     "output_type": "display_data"
    }
   ],
   "source": [
    "neighbors = list(range(1, 50, 2))\n",
    "cv_scores = []\n",
    "for k in neighbors:\n",
    "    knn = KNeighborsClassifier(n_neighbors=k,weights=\"distance\" )\n",
    "    scores = cross_val_score(knn, X, y, cv=5, scoring='accuracy')\n",
    "    cv_scores.append(scores.mean())\n",
    "# changing to misclassification error\n",
    "mse = [1 - x for x in cv_scores]\n",
    "\n",
    "# determining best k\n",
    "optimal_k = neighbors[mse.index(min(mse))]\n",
    "print(\"The optimal number of neighbors is {}\".format(optimal_k))\n",
    "\n",
    "# plot misclassification error vs k\n",
    "plt.plot(neighbors, mse)\n",
    "plt.xlabel(\"Number of Neighbors K\")\n",
    "plt.ylabel(\"Misclassification Error\")\n",
    "plt.show()"
   ]
  },
  {
   "cell_type": "code",
   "execution_count": 43,
   "metadata": {},
   "outputs": [
    {
     "data": {
      "image/png": "[encoded data removed]",
      "text/plain": [
       "<Figure size 432x288 with 1 Axes>"
      ]
     },
     "metadata": {
      "needs_background": "light"
     },
     "output_type": "display_data"
    }
   ],
   "source": [
    "list1=[]\n",
    "list2=[]\n",
    "for i in range(1,95):\n",
    "    clf = KNeighborsClassifier(3, weights=\"distance\")\n",
    "    \n",
    "    X_train, X_test, y_train, y_test = train_test_split(X, y, random_state=0, test_size=1-i/100)\n",
    "    clf.fit(X_train, y_train)\n",
    "    train_predict = clf.predict(X_train)\n",
    "    test_predict = clf.predict(X_test)\n",
    "    list1.append(accuracy_score(y_train, train_predict))\n",
    "    list2.append(accuracy_score(y_test, test_predict))\n",
    "plt.plot(range(len(list1)),list1,label=\"Training\")\n",
    "plt.plot(range(len(list2)),list2,label=\"Testing\")\n",
    "plt.xlabel(\"Training set %\")\n",
    "plt.ylabel(\"Accuracy\")\n",
    "plt.legend(loc=\"best\")\n",
    "plt.show()"
   ]
  },
  {
   "cell_type": "code",
   "execution_count": null,
   "metadata": {},
   "outputs": [],
   "source": []
  }
 ],
 "metadata": {
  "kernelspec": {
   "display_name": "Python 3",
   "language": "python",
   "name": "python3"
  },
  "language_info": {
   "codemirror_mode": {
    "name": "ipython",
    "version": 3
   },
   "file_extension": ".py",
   "mimetype": "text/x-python",
   "name": "python",
   "nbconvert_exporter": "python",
   "pygments_lexer": "ipython3",
   "version": "3.8.3"
  }
 },
 "nbformat": 4,
 "nbformat_minor": 4
}
